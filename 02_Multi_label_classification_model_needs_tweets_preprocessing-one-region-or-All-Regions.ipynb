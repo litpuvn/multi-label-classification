{
 "cells": [
  {
   "cell_type": "markdown",
   "metadata": {},
   "source": [
    "# Pre-processing of Multi-label Classification Model Need-Project tweets\n",
    "# For one region - 'Downtown' or all regions"
   ]
  },
  {
   "cell_type": "code",
   "execution_count": 384,
   "metadata": {},
   "outputs": [],
   "source": [
    "# Import modules\n",
    "import pandas as pd\n",
    "from sklearn.cross_validation import train_test_split\n",
    "from sklearn.feature_extraction.text import TfidfVectorizer\n",
    "from sklearn.grid_search import GridSearchCV\n",
    "from sklearn.linear_model.logistic import LogisticRegression\n",
    "from sklearn.model_selection._split import StratifiedShuffleSplit\n",
    "from sklearn.multiclass import OneVsRestClassifier\n",
    "from sklearn.pipeline import Pipeline\n",
    "from nltk.corpus import stopwords\n",
    "from sklearn.metrics import classification_report\n",
    "from sklearn.svm.classes import SVC, LinearSVC\n",
    "\n",
    "\n",
    "import nltk\n",
    "import numpy as np\n",
    "from sklearn.preprocessing import MultiLabelBinarizer\n",
    "import matplotlib.pylab as plt\n",
    "\n"
   ]
  },
  {
   "cell_type": "code",
   "execution_count": 385,
   "metadata": {},
   "outputs": [],
   "source": [
    "\n",
    "#for showing plot in jupyter\n",
    "%matplotlib inline "
   ]
  },
  {
   "cell_type": "code",
   "execution_count": 386,
   "metadata": {},
   "outputs": [
    {
     "name": "stdout",
     "output_type": "stream",
     "text": [
      "len data_df including null values 14887\n"
     ]
    },
    {
     "data": {
      "text/html": [
       "<div>\n",
       "<style scoped>\n",
       "    .dataframe tbody tr th:only-of-type {\n",
       "        vertical-align: middle;\n",
       "    }\n",
       "\n",
       "    .dataframe tbody tr th {\n",
       "        vertical-align: top;\n",
       "    }\n",
       "\n",
       "    .dataframe thead th {\n",
       "        text-align: right;\n",
       "    }\n",
       "</style>\n",
       "<table border=\"1\" class=\"dataframe\">\n",
       "  <thead>\n",
       "    <tr style=\"text-align: right;\">\n",
       "      <th></th>\n",
       "      <th>tweet_text</th>\n",
       "      <th>region_name</th>\n",
       "      <th>tweet_date_time</th>\n",
       "      <th>multi_class_label</th>\n",
       "    </tr>\n",
       "  </thead>\n",
       "  <tbody>\n",
       "    <tr>\n",
       "      <th>5</th>\n",
       "      <td>Models need to eat too.  \"Always Hungry\" thank...</td>\n",
       "      <td>Willowbrook</td>\n",
       "      <td>Wed Aug 23 00:15:39 CDT 2017</td>\n",
       "      <td>need</td>\n",
       "    </tr>\n",
       "    <tr>\n",
       "      <th>13</th>\n",
       "      <td>Still Comes Back Beige...  Just #FollowTheSmel...</td>\n",
       "      <td>Greater Hobby Area</td>\n",
       "      <td>Wed Aug 23 00:54:51 CDT 2017</td>\n",
       "      <td>trail</td>\n",
       "    </tr>\n",
       "    <tr>\n",
       "      <th>14</th>\n",
       "      <td>We're #hiring! Click to apply: Service Technic...</td>\n",
       "      <td>Fourth Ward</td>\n",
       "      <td>Wed Aug 23 01:13:22 CDT 2017</td>\n",
       "      <td>service</td>\n",
       "    </tr>\n",
       "    <tr>\n",
       "      <th>32</th>\n",
       "      <td>Me and Bae paid our support to my cuz tonight ...</td>\n",
       "      <td>Independence Heights</td>\n",
       "      <td>Wed Aug 23 01:57:09 CDT 2017</td>\n",
       "      <td>support</td>\n",
       "    </tr>\n",
       "    <tr>\n",
       "      <th>56</th>\n",
       "      <td>Wings Over Water - Avenida Houston - Downtown ...</td>\n",
       "      <td>Mid West</td>\n",
       "      <td>Wed Aug 23 04:58:54 CDT 2017</td>\n",
       "      <td>water</td>\n",
       "    </tr>\n",
       "  </tbody>\n",
       "</table>\n",
       "</div>"
      ],
      "text/plain": [
       "                                           tweet_text           region_name  \\\n",
       "5   Models need to eat too.  \"Always Hungry\" thank...           Willowbrook   \n",
       "13  Still Comes Back Beige...  Just #FollowTheSmel...    Greater Hobby Area   \n",
       "14  We're #hiring! Click to apply: Service Technic...           Fourth Ward   \n",
       "32  Me and Bae paid our support to my cuz tonight ...  Independence Heights   \n",
       "56  Wings Over Water - Avenida Houston - Downtown ...              Mid West   \n",
       "\n",
       "                 tweet_date_time multi_class_label  \n",
       "5   Wed Aug 23 00:15:39 CDT 2017              need  \n",
       "13  Wed Aug 23 00:54:51 CDT 2017             trail  \n",
       "14  Wed Aug 23 01:13:22 CDT 2017           service  \n",
       "32  Wed Aug 23 01:57:09 CDT 2017           support  \n",
       "56  Wed Aug 23 04:58:54 CDT 2017             water  "
      ]
     },
     "execution_count": 386,
     "metadata": {},
     "output_type": "execute_result"
    }
   ],
   "source": [
    "# read english file. The needs_tweets.csv has 15379 rows, while needs_tweets_eng.csv has 9026 rows\n",
    "is_all_regions = True\n",
    "# file_name_input = \"needs_tweets_eng.csv\"\n",
    "file_name_input = \"needs_tweets_eng.csv\"\n",
    "if is_all_regions:\n",
    "    file_name_output = 'needs_tweets_eng_processed_all_regions.csv'\n",
    "else:\n",
    "    file_name_output = 'needs_tweets_eng_processed_eng_one_region.csv'\n",
    "\n",
    "\n",
    "\n",
    "data_df = pd.read_csv(file_name_input, delimiter=',', encoding = \"ISO-8859-1\")\n",
    "print('len data_df including null values', len(data_df))\n",
    "# data_df.head()\n",
    "#removing NaN or empty multi_class_label rows\n",
    "data_df = data_df.dropna()\n",
    "data_df.head()"
   ]
  },
  {
   "cell_type": "code",
   "execution_count": 387,
   "metadata": {},
   "outputs": [
    {
     "data": {
      "text/plain": [
       "2865"
      ]
     },
     "execution_count": 387,
     "metadata": {},
     "output_type": "execute_result"
    }
   ],
   "source": [
    "len(data_df)"
   ]
  },
  {
   "cell_type": "code",
   "execution_count": 388,
   "metadata": {},
   "outputs": [],
   "source": [
    "# data_df"
   ]
  },
  {
   "cell_type": "code",
   "execution_count": 389,
   "metadata": {},
   "outputs": [
    {
     "data": {
      "text/html": [
       "<div>\n",
       "<style scoped>\n",
       "    .dataframe tbody tr th:only-of-type {\n",
       "        vertical-align: middle;\n",
       "    }\n",
       "\n",
       "    .dataframe tbody tr th {\n",
       "        vertical-align: top;\n",
       "    }\n",
       "\n",
       "    .dataframe thead th {\n",
       "        text-align: right;\n",
       "    }\n",
       "</style>\n",
       "<table border=\"1\" class=\"dataframe\">\n",
       "  <thead>\n",
       "    <tr style=\"text-align: right;\">\n",
       "      <th></th>\n",
       "      <th>tweet_text</th>\n",
       "      <th>region_name</th>\n",
       "      <th>tweet_date_time</th>\n",
       "      <th>multi_class_label</th>\n",
       "      <th>hour</th>\n",
       "    </tr>\n",
       "  </thead>\n",
       "  <tbody>\n",
       "    <tr>\n",
       "      <th>5</th>\n",
       "      <td>Models need to eat too.  \"Always Hungry\" thank...</td>\n",
       "      <td>Willowbrook</td>\n",
       "      <td>Wed Aug 23 00:15:39 CDT 2017</td>\n",
       "      <td>need</td>\n",
       "      <td>00</td>\n",
       "    </tr>\n",
       "    <tr>\n",
       "      <th>13</th>\n",
       "      <td>Still Comes Back Beige...  Just #FollowTheSmel...</td>\n",
       "      <td>Greater Hobby Area</td>\n",
       "      <td>Wed Aug 23 00:54:51 CDT 2017</td>\n",
       "      <td>trail</td>\n",
       "      <td>00</td>\n",
       "    </tr>\n",
       "    <tr>\n",
       "      <th>14</th>\n",
       "      <td>We're #hiring! Click to apply: Service Technic...</td>\n",
       "      <td>Fourth Ward</td>\n",
       "      <td>Wed Aug 23 01:13:22 CDT 2017</td>\n",
       "      <td>service</td>\n",
       "      <td>01</td>\n",
       "    </tr>\n",
       "    <tr>\n",
       "      <th>32</th>\n",
       "      <td>Me and Bae paid our support to my cuz tonight ...</td>\n",
       "      <td>Independence Heights</td>\n",
       "      <td>Wed Aug 23 01:57:09 CDT 2017</td>\n",
       "      <td>support</td>\n",
       "      <td>01</td>\n",
       "    </tr>\n",
       "    <tr>\n",
       "      <th>56</th>\n",
       "      <td>Wings Over Water - Avenida Houston - Downtown ...</td>\n",
       "      <td>Mid West</td>\n",
       "      <td>Wed Aug 23 04:58:54 CDT 2017</td>\n",
       "      <td>water</td>\n",
       "      <td>04</td>\n",
       "    </tr>\n",
       "  </tbody>\n",
       "</table>\n",
       "</div>"
      ],
      "text/plain": [
       "                                           tweet_text           region_name  \\\n",
       "5   Models need to eat too.  \"Always Hungry\" thank...           Willowbrook   \n",
       "13  Still Comes Back Beige...  Just #FollowTheSmel...    Greater Hobby Area   \n",
       "14  We're #hiring! Click to apply: Service Technic...           Fourth Ward   \n",
       "32  Me and Bae paid our support to my cuz tonight ...  Independence Heights   \n",
       "56  Wings Over Water - Avenida Houston - Downtown ...              Mid West   \n",
       "\n",
       "                 tweet_date_time multi_class_label hour  \n",
       "5   Wed Aug 23 00:15:39 CDT 2017              need   00  \n",
       "13  Wed Aug 23 00:54:51 CDT 2017             trail   00  \n",
       "14  Wed Aug 23 01:13:22 CDT 2017           service   01  \n",
       "32  Wed Aug 23 01:57:09 CDT 2017           support   01  \n",
       "56  Wed Aug 23 04:58:54 CDT 2017             water   04  "
      ]
     },
     "execution_count": 389,
     "metadata": {},
     "output_type": "execute_result"
    }
   ],
   "source": [
    "# extract 'hour' feature from 'tweet_date_time'\n",
    "\n",
    "hours_list = [row['tweet_date_time'][11:13] for index, row in data_df.iterrows()]\n",
    "for index, row in data_df.iterrows():\n",
    "    dt = row['tweet_date_time']\n",
    "#     print(dt[11:13])\n",
    "# print(hours_list)\n",
    "data_df['hour'] = hours_list\n",
    "data_df.head()"
   ]
  },
  {
   "cell_type": "code",
   "execution_count": 390,
   "metadata": {},
   "outputs": [
    {
     "data": {
      "text/html": [
       "<div>\n",
       "<style scoped>\n",
       "    .dataframe tbody tr th:only-of-type {\n",
       "        vertical-align: middle;\n",
       "    }\n",
       "\n",
       "    .dataframe tbody tr th {\n",
       "        vertical-align: top;\n",
       "    }\n",
       "\n",
       "    .dataframe thead th {\n",
       "        text-align: right;\n",
       "    }\n",
       "</style>\n",
       "<table border=\"1\" class=\"dataframe\">\n",
       "  <thead>\n",
       "    <tr style=\"text-align: right;\">\n",
       "      <th></th>\n",
       "      <th>tweet_text</th>\n",
       "      <th>region_name</th>\n",
       "      <th>multi_class_label</th>\n",
       "      <th>hour</th>\n",
       "    </tr>\n",
       "  </thead>\n",
       "  <tbody>\n",
       "    <tr>\n",
       "      <th>5</th>\n",
       "      <td>Models need to eat too.  \"Always Hungry\" thank...</td>\n",
       "      <td>Willowbrook</td>\n",
       "      <td>need</td>\n",
       "      <td>00</td>\n",
       "    </tr>\n",
       "    <tr>\n",
       "      <th>13</th>\n",
       "      <td>Still Comes Back Beige...  Just #FollowTheSmel...</td>\n",
       "      <td>Greater Hobby Area</td>\n",
       "      <td>trail</td>\n",
       "      <td>00</td>\n",
       "    </tr>\n",
       "    <tr>\n",
       "      <th>14</th>\n",
       "      <td>We're #hiring! Click to apply: Service Technic...</td>\n",
       "      <td>Fourth Ward</td>\n",
       "      <td>service</td>\n",
       "      <td>01</td>\n",
       "    </tr>\n",
       "    <tr>\n",
       "      <th>32</th>\n",
       "      <td>Me and Bae paid our support to my cuz tonight ...</td>\n",
       "      <td>Independence Heights</td>\n",
       "      <td>support</td>\n",
       "      <td>01</td>\n",
       "    </tr>\n",
       "    <tr>\n",
       "      <th>56</th>\n",
       "      <td>Wings Over Water - Avenida Houston - Downtown ...</td>\n",
       "      <td>Mid West</td>\n",
       "      <td>water</td>\n",
       "      <td>04</td>\n",
       "    </tr>\n",
       "  </tbody>\n",
       "</table>\n",
       "</div>"
      ],
      "text/plain": [
       "                                           tweet_text           region_name  \\\n",
       "5   Models need to eat too.  \"Always Hungry\" thank...           Willowbrook   \n",
       "13  Still Comes Back Beige...  Just #FollowTheSmel...    Greater Hobby Area   \n",
       "14  We're #hiring! Click to apply: Service Technic...           Fourth Ward   \n",
       "32  Me and Bae paid our support to my cuz tonight ...  Independence Heights   \n",
       "56  Wings Over Water - Avenida Houston - Downtown ...              Mid West   \n",
       "\n",
       "   multi_class_label hour  \n",
       "5               need   00  \n",
       "13             trail   00  \n",
       "14           service   01  \n",
       "32           support   01  \n",
       "56             water   04  "
      ]
     },
     "execution_count": 390,
     "metadata": {},
     "output_type": "execute_result"
    }
   ],
   "source": [
    "#drop column 'tweet_date_time'\n",
    "data_df = data_df.drop('tweet_date_time', axis=1)\n",
    "data_df.head()"
   ]
  },
  {
   "cell_type": "code",
   "execution_count": 391,
   "metadata": {},
   "outputs": [
    {
     "data": {
      "text/html": [
       "<div>\n",
       "<style scoped>\n",
       "    .dataframe tbody tr th:only-of-type {\n",
       "        vertical-align: middle;\n",
       "    }\n",
       "\n",
       "    .dataframe tbody tr th {\n",
       "        vertical-align: top;\n",
       "    }\n",
       "\n",
       "    .dataframe thead th {\n",
       "        text-align: right;\n",
       "    }\n",
       "</style>\n",
       "<table border=\"1\" class=\"dataframe\">\n",
       "  <thead>\n",
       "    <tr style=\"text-align: right;\">\n",
       "      <th></th>\n",
       "      <th>tweet_text</th>\n",
       "      <th>region_name</th>\n",
       "      <th>multi_class_label</th>\n",
       "      <th>hour</th>\n",
       "    </tr>\n",
       "  </thead>\n",
       "  <tbody>\n",
       "    <tr>\n",
       "      <th>5</th>\n",
       "      <td>Models need to eat too.  \"Always Hungry\" thank...</td>\n",
       "      <td>Willowbrook</td>\n",
       "      <td>need</td>\n",
       "      <td>00</td>\n",
       "    </tr>\n",
       "    <tr>\n",
       "      <th>13</th>\n",
       "      <td>Still Comes Back Beige...  Just #FollowTheSmel...</td>\n",
       "      <td>Greater Hobby Area</td>\n",
       "      <td>trail</td>\n",
       "      <td>00</td>\n",
       "    </tr>\n",
       "    <tr>\n",
       "      <th>14</th>\n",
       "      <td>We're #hiring! Click to apply: Service Technic...</td>\n",
       "      <td>Fourth Ward</td>\n",
       "      <td>service</td>\n",
       "      <td>01</td>\n",
       "    </tr>\n",
       "    <tr>\n",
       "      <th>32</th>\n",
       "      <td>Me and Bae paid our support to my cuz tonight ...</td>\n",
       "      <td>Independence Heights</td>\n",
       "      <td>support</td>\n",
       "      <td>01</td>\n",
       "    </tr>\n",
       "    <tr>\n",
       "      <th>56</th>\n",
       "      <td>Wings Over Water - Avenida Houston - Downtown ...</td>\n",
       "      <td>Mid West</td>\n",
       "      <td>water</td>\n",
       "      <td>04</td>\n",
       "    </tr>\n",
       "  </tbody>\n",
       "</table>\n",
       "</div>"
      ],
      "text/plain": [
       "                                           tweet_text           region_name  \\\n",
       "5   Models need to eat too.  \"Always Hungry\" thank...           Willowbrook   \n",
       "13  Still Comes Back Beige...  Just #FollowTheSmel...    Greater Hobby Area   \n",
       "14  We're #hiring! Click to apply: Service Technic...           Fourth Ward   \n",
       "32  Me and Bae paid our support to my cuz tonight ...  Independence Heights   \n",
       "56  Wings Over Water - Avenida Houston - Downtown ...              Mid West   \n",
       "\n",
       "   multi_class_label hour  \n",
       "5               need   00  \n",
       "13             trail   00  \n",
       "14           service   01  \n",
       "32           support   01  \n",
       "56             water   04  "
      ]
     },
     "execution_count": 391,
     "metadata": {},
     "output_type": "execute_result"
    }
   ],
   "source": [
    "# select rows for one region = 'Downtown'\n",
    "if not is_all_regions:\n",
    "    data_df = data_df.loc[data_df['region_name'] == 'Downtown']\n",
    "\n",
    "data_df.head()"
   ]
  },
  {
   "cell_type": "code",
   "execution_count": 392,
   "metadata": {},
   "outputs": [
    {
     "data": {
      "text/plain": [
       "{'need': 271,\n",
       " 'trail': 15,\n",
       " 'service': 81,\n",
       " 'support': 92,\n",
       " 'water': 352,\n",
       " 'school': 137,\n",
       " 'nurse': 121,\n",
       " 'store': 213,\n",
       " 'family': 146,\n",
       " 'help': 324,\n",
       " 'supply': 36,\n",
       " 'people': 209,\n",
       " 'tank': 15,\n",
       " 'call': 79,\n",
       " 'emergency': 32,\n",
       " 'food': 88,\n",
       " 'community': 51,\n",
       " 'gas': 23,\n",
       " 'contact': 26,\n",
       " 'home': 168,\n",
       " 'oil': 14,\n",
       " 'grocery': 20,\n",
       " 'bottle': 6,\n",
       " 'car': 35,\n",
       " 'restaurant': 27,\n",
       " 'dog': 25,\n",
       " 'beer': 22,\n",
       " 'power': 30,\n",
       " 'money': 41,\n",
       " 'text': 19,\n",
       " 'donate': 99,\n",
       " 'advisory': 10,\n",
       " 'wine': 17,\n",
       " 'safe': 158,\n",
       " 'flood': 151,\n",
       " 'truck': 25,\n",
       " 'victim': 41,\n",
       " 'rescue': 74,\n",
       " 'cable': 5,\n",
       " 'donation': 81,\n",
       " 'fund': 13,\n",
       " 'clothes': 18,\n",
       " 'shelter': 54,\n",
       " 'boat': 35,\n",
       " 'damage': 22,\n",
       " 'assistance': 11,\n",
       " 'relief': 82,\n",
       " 'volunteer': 61}"
      ]
     },
     "execution_count": 392,
     "metadata": {},
     "output_type": "execute_result"
    }
   ],
   "source": [
    "#count needs\n",
    "\n",
    "need_counts = dict() # a dictionary of all needs with counts for each a need\n",
    "for row in data_df[\"multi_class_label\"]:\n",
    "    for item in row.split():# item=word\n",
    "        if item in need_counts:\n",
    "            need_counts[item] += 1\n",
    "        else:\n",
    "            need_counts[item] = 1        \n",
    "need_counts"
   ]
  },
  {
   "cell_type": "code",
   "execution_count": 393,
   "metadata": {},
   "outputs": [
    {
     "data": {
      "image/png": "[encoded data removed]",
      "text/plain": [
       "<Figure size 432x288 with 1 Axes>"
      ]
     },
     "metadata": {
      "needs_background": "light"
     },
     "output_type": "display_data"
    },
    {
     "data": {
      "text/plain": [
       "[('advisory', 10),\n",
       " ('assistance', 11),\n",
       " ('beer', 22),\n",
       " ('boat', 35),\n",
       " ('bottle', 6),\n",
       " ('cable', 5),\n",
       " ('call', 79),\n",
       " ('car', 35),\n",
       " ('clothes', 18),\n",
       " ('community', 51),\n",
       " ('contact', 26),\n",
       " ('damage', 22),\n",
       " ('dog', 25),\n",
       " ('donate', 99),\n",
       " ('donation', 81),\n",
       " ('emergency', 32),\n",
       " ('family', 146),\n",
       " ('flood', 151),\n",
       " ('food', 88),\n",
       " ('fund', 13),\n",
       " ('gas', 23),\n",
       " ('grocery', 20),\n",
       " ('help', 324),\n",
       " ('home', 168),\n",
       " ('money', 41),\n",
       " ('need', 271),\n",
       " ('nurse', 121),\n",
       " ('oil', 14),\n",
       " ('people', 209),\n",
       " ('power', 30),\n",
       " ('relief', 82),\n",
       " ('rescue', 74),\n",
       " ('restaurant', 27),\n",
       " ('safe', 158),\n",
       " ('school', 137),\n",
       " ('service', 81),\n",
       " ('shelter', 54),\n",
       " ('store', 213),\n",
       " ('supply', 36),\n",
       " ('support', 92),\n",
       " ('tank', 15),\n",
       " ('text', 19),\n",
       " ('trail', 15),\n",
       " ('truck', 25),\n",
       " ('victim', 41),\n",
       " ('volunteer', 61),\n",
       " ('water', 352),\n",
       " ('wine', 17)]"
      ]
     },
     "execution_count": 393,
     "metadata": {},
     "output_type": "execute_result"
    }
   ],
   "source": [
    "#plot need_counts\n",
    "\n",
    "lists = sorted(need_counts.items()) # sorted by key, return a list of tuples\n",
    "\n",
    "x, y = zip(*lists) # unpack a list of pairs into two tuples\n",
    "\n",
    "plt.plot(x, y)\n",
    "plt.show()\n",
    "lists"
   ]
  },
  {
   "cell_type": "markdown",
   "metadata": {},
   "source": [
    "## deleting any row has a need where it's count  < 50"
   ]
  },
  {
   "cell_type": "code",
   "execution_count": 394,
   "metadata": {},
   "outputs": [
    {
     "name": "stdout",
     "output_type": "stream",
     "text": [
      "2865\n",
      "0 2317\n"
     ]
    }
   ],
   "source": [
    "print(len(data_df))\n",
    "min_need_counts = 50\n",
    "drop_index_set = {-1}\n",
    "for index, row in data_df.iterrows():\n",
    "    found = False\n",
    "    for item in row[\"multi_class_label\"].split():\n",
    "\n",
    "        if need_counts[item] < min_need_counts:\n",
    "            found = True\n",
    "    if found: \n",
    "        data_df.drop(index, inplace=True)\n",
    "drop_index_set.remove(-1)\n",
    "\n",
    "count = 0\n",
    "for i in drop_index_set:\n",
    "    if i < min_need_counts: count += i\n",
    "    len_before = len(data_df)\n",
    "print(count, len(data_df))"
   ]
  },
  {
   "cell_type": "code",
   "execution_count": 395,
   "metadata": {},
   "outputs": [
    {
     "data": {
      "text/plain": [
       "11"
      ]
     },
     "execution_count": 395,
     "metadata": {},
     "output_type": "execute_result"
    }
   ],
   "source": [
    "np.sum([need_counts[i] for i in need_counts if need_counts[i] < 10])"
   ]
  },
  {
   "cell_type": "markdown",
   "metadata": {},
   "source": [
    "# After deleting rows of less frequent needs (<5)"
   ]
  },
  {
   "cell_type": "code",
   "execution_count": 396,
   "metadata": {},
   "outputs": [
    {
     "data": {
      "text/plain": [
       "{'need': 221,\n",
       " 'service': 81,\n",
       " 'support': 86,\n",
       " 'water': 328,\n",
       " 'school': 134,\n",
       " 'nurse': 117,\n",
       " 'store': 200,\n",
       " 'family': 139,\n",
       " 'help': 284,\n",
       " 'people': 194,\n",
       " 'call': 62,\n",
       " 'food': 65,\n",
       " 'community': 48,\n",
       " 'home': 160,\n",
       " 'donate': 77,\n",
       " 'safe': 151,\n",
       " 'flood': 126,\n",
       " 'rescue': 62,\n",
       " 'donation': 73,\n",
       " 'shelter': 46,\n",
       " 'relief': 67,\n",
       " 'volunteer': 56}"
      ]
     },
     "execution_count": 396,
     "metadata": {},
     "output_type": "execute_result"
    }
   ],
   "source": [
    "#count needs\n",
    "\n",
    "need_counts = dict() # a dictionary of all needs with counts for each a need\n",
    "for row in data_df[\"multi_class_label\"]:\n",
    "    for item in row.split():# item=word\n",
    "        if item in need_counts:\n",
    "            need_counts[item] += 1\n",
    "        else:\n",
    "            need_counts[item] = 1        \n",
    "need_counts"
   ]
  },
  {
   "cell_type": "code",
   "execution_count": 397,
   "metadata": {},
   "outputs": [
    {
     "data": {
      "image/png": "[encoded data removed]",
      "text/plain": [
       "<Figure size 432x288 with 1 Axes>"
      ]
     },
     "metadata": {
      "needs_background": "light"
     },
     "output_type": "display_data"
    },
    {
     "data": {
      "text/plain": [
       "[('call', 62),\n",
       " ('community', 48),\n",
       " ('donate', 77),\n",
       " ('donation', 73),\n",
       " ('family', 139),\n",
       " ('flood', 126),\n",
       " ('food', 65),\n",
       " ('help', 284),\n",
       " ('home', 160),\n",
       " ('need', 221),\n",
       " ('nurse', 117),\n",
       " ('people', 194),\n",
       " ('relief', 67),\n",
       " ('rescue', 62),\n",
       " ('safe', 151),\n",
       " ('school', 134),\n",
       " ('service', 81),\n",
       " ('shelter', 46),\n",
       " ('store', 200),\n",
       " ('support', 86),\n",
       " ('volunteer', 56),\n",
       " ('water', 328)]"
      ]
     },
     "execution_count": 397,
     "metadata": {},
     "output_type": "execute_result"
    }
   ],
   "source": [
    "#plot need_counts\n",
    "\n",
    "lists = sorted(need_counts.items()) # sorted by key, return a list of tuples\n",
    "\n",
    "x, y = zip(*lists) # unpack a list of pairs into two tuples\n",
    "\n",
    "plt.plot(x, y)\n",
    "plt.show()\n",
    "lists"
   ]
  },
  {
   "cell_type": "code",
   "execution_count": 398,
   "metadata": {},
   "outputs": [],
   "source": [
    "# data_df.drop(data_df.multi_class_label=='donation')\n",
    "# data_df[data_df['multi_class_label']=='donation']"
   ]
  },
  {
   "cell_type": "code",
   "execution_count": null,
   "metadata": {},
   "outputs": [],
   "source": []
  },
  {
   "cell_type": "code",
   "execution_count": null,
   "metadata": {},
   "outputs": [],
   "source": []
  },
  {
   "cell_type": "code",
   "execution_count": null,
   "metadata": {},
   "outputs": [],
   "source": []
  },
  {
   "cell_type": "code",
   "execution_count": 399,
   "metadata": {},
   "outputs": [
    {
     "data": {
      "text/html": [
       "<div>\n",
       "<style scoped>\n",
       "    .dataframe tbody tr th:only-of-type {\n",
       "        vertical-align: middle;\n",
       "    }\n",
       "\n",
       "    .dataframe tbody tr th {\n",
       "        vertical-align: top;\n",
       "    }\n",
       "\n",
       "    .dataframe thead th {\n",
       "        text-align: right;\n",
       "    }\n",
       "</style>\n",
       "<table border=\"1\" class=\"dataframe\">\n",
       "  <thead>\n",
       "    <tr style=\"text-align: right;\">\n",
       "      <th></th>\n",
       "      <th>tweet_text</th>\n",
       "      <th>region_name</th>\n",
       "      <th>multi_class_label</th>\n",
       "      <th>hour</th>\n",
       "    </tr>\n",
       "  </thead>\n",
       "  <tbody>\n",
       "    <tr>\n",
       "      <th>5</th>\n",
       "      <td>Models need to eat too.  \"Always Hungry\" thank...</td>\n",
       "      <td>Willowbrook</td>\n",
       "      <td>{need}</td>\n",
       "      <td>00</td>\n",
       "    </tr>\n",
       "    <tr>\n",
       "      <th>14</th>\n",
       "      <td>We're #hiring! Click to apply: Service Technic...</td>\n",
       "      <td>Fourth Ward</td>\n",
       "      <td>{service}</td>\n",
       "      <td>01</td>\n",
       "    </tr>\n",
       "    <tr>\n",
       "      <th>32</th>\n",
       "      <td>Me and Bae paid our support to my cuz tonight ...</td>\n",
       "      <td>Independence Heights</td>\n",
       "      <td>{support}</td>\n",
       "      <td>01</td>\n",
       "    </tr>\n",
       "    <tr>\n",
       "      <th>56</th>\n",
       "      <td>Wings Over Water - Avenida Houston - Downtown ...</td>\n",
       "      <td>Mid West</td>\n",
       "      <td>{water}</td>\n",
       "      <td>04</td>\n",
       "    </tr>\n",
       "    <tr>\n",
       "      <th>57</th>\n",
       "      <td>Up to 54% Off Haircut Packages at Paul Mitchel...</td>\n",
       "      <td>Independence Heights</td>\n",
       "      <td>{school}</td>\n",
       "      <td>05</td>\n",
       "    </tr>\n",
       "  </tbody>\n",
       "</table>\n",
       "</div>"
      ],
      "text/plain": [
       "                                           tweet_text           region_name  \\\n",
       "5   Models need to eat too.  \"Always Hungry\" thank...           Willowbrook   \n",
       "14  We're #hiring! Click to apply: Service Technic...           Fourth Ward   \n",
       "32  Me and Bae paid our support to my cuz tonight ...  Independence Heights   \n",
       "56  Wings Over Water - Avenida Houston - Downtown ...              Mid West   \n",
       "57  Up to 54% Off Haircut Packages at Paul Mitchel...  Independence Heights   \n",
       "\n",
       "   multi_class_label hour  \n",
       "5             {need}   00  \n",
       "14         {service}   01  \n",
       "32         {support}   01  \n",
       "56           {water}   04  \n",
       "57          {school}   05  "
      ]
     },
     "execution_count": 399,
     "metadata": {},
     "output_type": "execute_result"
    }
   ],
   "source": [
    "# split multi_class_label when there is two or more needs (i.e, a need has a space)\n",
    "multi_class_label_list = []\n",
    "multi_class_label_set = {'$$'} #unique values of needs as set\n",
    "for l in data_df['multi_class_label']:\n",
    "    l_set = {'$$'}\n",
    "#     for item in l:\n",
    "#         l_set.update(item.split(' '))\n",
    "    l_set.update(l.split(' '))\n",
    "\n",
    "    l_set.remove('$$')\n",
    "    multi_class_label_set.update(l_set)\n",
    "#     print(l_set)\n",
    "#     print(' '.join(l_set))\n",
    "    multi_class_label_list.append(l_set)\n",
    "    \n",
    "multi_class_label_set.remove('$$')\n",
    "multi_class_label_all_unique = list(multi_class_label_set) #unique values of needs as list\n",
    "data_df['multi_class_label'] = multi_class_label_list\n",
    "data_df.head()"
   ]
  },
  {
   "cell_type": "code",
   "execution_count": 400,
   "metadata": {},
   "outputs": [
    {
     "data": {
      "text/plain": [
       "['family',\n",
       " 'shelter',\n",
       " 'volunteer',\n",
       " 'donation',\n",
       " 'service',\n",
       " 'store',\n",
       " 'food',\n",
       " 'rescue',\n",
       " 'community',\n",
       " 'flood',\n",
       " 'call',\n",
       " 'school',\n",
       " 'nurse',\n",
       " 'home',\n",
       " 'donate',\n",
       " 'safe',\n",
       " 'relief',\n",
       " 'need',\n",
       " 'people',\n",
       " 'support',\n",
       " 'help',\n",
       " 'water']"
      ]
     },
     "execution_count": 400,
     "metadata": {},
     "output_type": "execute_result"
    }
   ],
   "source": [
    "multi_class_label_all_unique"
   ]
  },
  {
   "cell_type": "code",
   "execution_count": 401,
   "metadata": {},
   "outputs": [
    {
     "data": {
      "text/html": [
       "<div>\n",
       "<style scoped>\n",
       "    .dataframe tbody tr th:only-of-type {\n",
       "        vertical-align: middle;\n",
       "    }\n",
       "\n",
       "    .dataframe tbody tr th {\n",
       "        vertical-align: top;\n",
       "    }\n",
       "\n",
       "    .dataframe thead th {\n",
       "        text-align: right;\n",
       "    }\n",
       "</style>\n",
       "<table border=\"1\" class=\"dataframe\">\n",
       "  <thead>\n",
       "    <tr style=\"text-align: right;\">\n",
       "      <th></th>\n",
       "      <th>tweet_text</th>\n",
       "      <th>region_name</th>\n",
       "      <th>multi_class_label</th>\n",
       "      <th>hour</th>\n",
       "      <th>multi_class_label_vec</th>\n",
       "    </tr>\n",
       "  </thead>\n",
       "  <tbody>\n",
       "    <tr>\n",
       "      <th>5</th>\n",
       "      <td>Models need to eat too.  \"Always Hungry\" thank...</td>\n",
       "      <td>Willowbrook</td>\n",
       "      <td>{need}</td>\n",
       "      <td>00</td>\n",
       "      <td>0, 0, 0, 0, 0, 0, 0, 0, 0, 0, 0, 0, 0, 0, 0, 0...</td>\n",
       "    </tr>\n",
       "    <tr>\n",
       "      <th>14</th>\n",
       "      <td>We're #hiring! Click to apply: Service Technic...</td>\n",
       "      <td>Fourth Ward</td>\n",
       "      <td>{service}</td>\n",
       "      <td>01</td>\n",
       "      <td>0, 0, 0, 0, 1, 0, 0, 0, 0, 0, 0, 0, 0, 0, 0, 0...</td>\n",
       "    </tr>\n",
       "    <tr>\n",
       "      <th>32</th>\n",
       "      <td>Me and Bae paid our support to my cuz tonight ...</td>\n",
       "      <td>Independence Heights</td>\n",
       "      <td>{support}</td>\n",
       "      <td>01</td>\n",
       "      <td>0, 0, 0, 0, 0, 0, 0, 0, 0, 0, 0, 0, 0, 0, 0, 0...</td>\n",
       "    </tr>\n",
       "    <tr>\n",
       "      <th>56</th>\n",
       "      <td>Wings Over Water - Avenida Houston - Downtown ...</td>\n",
       "      <td>Mid West</td>\n",
       "      <td>{water}</td>\n",
       "      <td>04</td>\n",
       "      <td>0, 0, 0, 0, 0, 0, 0, 0, 0, 0, 0, 0, 0, 0, 0, 0...</td>\n",
       "    </tr>\n",
       "    <tr>\n",
       "      <th>57</th>\n",
       "      <td>Up to 54% Off Haircut Packages at Paul Mitchel...</td>\n",
       "      <td>Independence Heights</td>\n",
       "      <td>{school}</td>\n",
       "      <td>05</td>\n",
       "      <td>0, 0, 0, 0, 0, 0, 0, 0, 0, 0, 0, 1, 0, 0, 0, 0...</td>\n",
       "    </tr>\n",
       "  </tbody>\n",
       "</table>\n",
       "</div>"
      ],
      "text/plain": [
       "                                           tweet_text           region_name  \\\n",
       "5   Models need to eat too.  \"Always Hungry\" thank...           Willowbrook   \n",
       "14  We're #hiring! Click to apply: Service Technic...           Fourth Ward   \n",
       "32  Me and Bae paid our support to my cuz tonight ...  Independence Heights   \n",
       "56  Wings Over Water - Avenida Houston - Downtown ...              Mid West   \n",
       "57  Up to 54% Off Haircut Packages at Paul Mitchel...  Independence Heights   \n",
       "\n",
       "   multi_class_label hour                              multi_class_label_vec  \n",
       "5             {need}   00  0, 0, 0, 0, 0, 0, 0, 0, 0, 0, 0, 0, 0, 0, 0, 0...  \n",
       "14         {service}   01  0, 0, 0, 0, 1, 0, 0, 0, 0, 0, 0, 0, 0, 0, 0, 0...  \n",
       "32         {support}   01  0, 0, 0, 0, 0, 0, 0, 0, 0, 0, 0, 0, 0, 0, 0, 0...  \n",
       "56           {water}   04  0, 0, 0, 0, 0, 0, 0, 0, 0, 0, 0, 0, 0, 0, 0, 0...  \n",
       "57          {school}   05  0, 0, 0, 0, 0, 0, 0, 0, 0, 0, 0, 1, 0, 0, 0, 0...  "
      ]
     },
     "execution_count": 401,
     "metadata": {},
     "output_type": "execute_result"
    }
   ],
   "source": [
    "#convert multi_class_label_list column to 0 and 1\n",
    "\n",
    "# multi_class_label_all_unique\n",
    "multi_class_label_vec = []\n",
    "need_counts = dict() # a dictionary of all needs with counts for each a need\n",
    "for index, row in data_df.iterrows():\n",
    "    class_vec = np.zeros(len(multi_class_label_all_unique), dtype=int)    \n",
    "    for item in row[\"multi_class_label\"]:# item=word\n",
    "        i = multi_class_label_all_unique.index(item)\n",
    "        class_vec[i] = 1\n",
    "        #for need_counts\n",
    "        if item in need_counts:\n",
    "            need_counts[item] += 1\n",
    "        else:\n",
    "            need_counts[item] = 1        \n",
    "#     print(row[\"multi_class_label_list\"], class_vec)  \n",
    "#     ss = ''\n",
    "#     for s in class_vec:\n",
    "#         ss = ss + ',' + str(s)\n",
    "#     print(ss)\n",
    "#     multi_class_label_vec.append(' '.join(str(s) for s in class_vec))\n",
    "    multi_class_label_vec.append(', '.join(str(s) for s in class_vec))\n",
    "\n",
    "\n",
    "#     multi_class_label_vec.append(ss)\n",
    "\n",
    "data_df['multi_class_label_vec'] = multi_class_label_vec\n",
    "data_df.head()"
   ]
  },
  {
   "cell_type": "code",
   "execution_count": 402,
   "metadata": {},
   "outputs": [
    {
     "data": {
      "text/html": [
       "<div>\n",
       "<style scoped>\n",
       "    .dataframe tbody tr th:only-of-type {\n",
       "        vertical-align: middle;\n",
       "    }\n",
       "\n",
       "    .dataframe tbody tr th {\n",
       "        vertical-align: top;\n",
       "    }\n",
       "\n",
       "    .dataframe thead th {\n",
       "        text-align: right;\n",
       "    }\n",
       "</style>\n",
       "<table border=\"1\" class=\"dataframe\">\n",
       "  <thead>\n",
       "    <tr style=\"text-align: right;\">\n",
       "      <th></th>\n",
       "      <th>tweet_text</th>\n",
       "      <th>region_name</th>\n",
       "      <th>multi_class_label</th>\n",
       "      <th>hour</th>\n",
       "      <th>multi_class_label_vec</th>\n",
       "    </tr>\n",
       "  </thead>\n",
       "  <tbody>\n",
       "    <tr>\n",
       "      <th>5</th>\n",
       "      <td>Models need to eat too.  \"Always Hungry\" thank...</td>\n",
       "      <td>Willowbrook</td>\n",
       "      <td>need</td>\n",
       "      <td>00</td>\n",
       "      <td>0, 0, 0, 0, 0, 0, 0, 0, 0, 0, 0, 0, 0, 0, 0, 0...</td>\n",
       "    </tr>\n",
       "    <tr>\n",
       "      <th>14</th>\n",
       "      <td>We're #hiring! Click to apply: Service Technic...</td>\n",
       "      <td>Fourth Ward</td>\n",
       "      <td>service</td>\n",
       "      <td>01</td>\n",
       "      <td>0, 0, 0, 0, 1, 0, 0, 0, 0, 0, 0, 0, 0, 0, 0, 0...</td>\n",
       "    </tr>\n",
       "    <tr>\n",
       "      <th>32</th>\n",
       "      <td>Me and Bae paid our support to my cuz tonight ...</td>\n",
       "      <td>Independence Heights</td>\n",
       "      <td>support</td>\n",
       "      <td>01</td>\n",
       "      <td>0, 0, 0, 0, 0, 0, 0, 0, 0, 0, 0, 0, 0, 0, 0, 0...</td>\n",
       "    </tr>\n",
       "    <tr>\n",
       "      <th>56</th>\n",
       "      <td>Wings Over Water - Avenida Houston - Downtown ...</td>\n",
       "      <td>Mid West</td>\n",
       "      <td>water</td>\n",
       "      <td>04</td>\n",
       "      <td>0, 0, 0, 0, 0, 0, 0, 0, 0, 0, 0, 0, 0, 0, 0, 0...</td>\n",
       "    </tr>\n",
       "    <tr>\n",
       "      <th>57</th>\n",
       "      <td>Up to 54% Off Haircut Packages at Paul Mitchel...</td>\n",
       "      <td>Independence Heights</td>\n",
       "      <td>school</td>\n",
       "      <td>05</td>\n",
       "      <td>0, 0, 0, 0, 0, 0, 0, 0, 0, 0, 0, 1, 0, 0, 0, 0...</td>\n",
       "    </tr>\n",
       "  </tbody>\n",
       "</table>\n",
       "</div>"
      ],
      "text/plain": [
       "                                           tweet_text           region_name  \\\n",
       "5   Models need to eat too.  \"Always Hungry\" thank...           Willowbrook   \n",
       "14  We're #hiring! Click to apply: Service Technic...           Fourth Ward   \n",
       "32  Me and Bae paid our support to my cuz tonight ...  Independence Heights   \n",
       "56  Wings Over Water - Avenida Houston - Downtown ...              Mid West   \n",
       "57  Up to 54% Off Haircut Packages at Paul Mitchel...  Independence Heights   \n",
       "\n",
       "   multi_class_label hour                              multi_class_label_vec  \n",
       "5               need   00  0, 0, 0, 0, 0, 0, 0, 0, 0, 0, 0, 0, 0, 0, 0, 0...  \n",
       "14           service   01  0, 0, 0, 0, 1, 0, 0, 0, 0, 0, 0, 0, 0, 0, 0, 0...  \n",
       "32           support   01  0, 0, 0, 0, 0, 0, 0, 0, 0, 0, 0, 0, 0, 0, 0, 0...  \n",
       "56             water   04  0, 0, 0, 0, 0, 0, 0, 0, 0, 0, 0, 0, 0, 0, 0, 0...  \n",
       "57            school   05  0, 0, 0, 0, 0, 0, 0, 0, 0, 0, 0, 1, 0, 0, 0, 0...  "
      ]
     },
     "execution_count": 402,
     "metadata": {},
     "output_type": "execute_result"
    }
   ],
   "source": [
    "# convert multi_class_label from set to string\n",
    "multi_class_label_string = []\n",
    "for item in data_df['multi_class_label']:\n",
    "#     print(' '.join(l))\n",
    "    multi_class_label_string.append(' '.join(item))\n",
    "multi_class_label_string\n",
    "data_df['multi_class_label'] = multi_class_label_string\n",
    "data_df.head()"
   ]
  },
  {
   "cell_type": "code",
   "execution_count": 403,
   "metadata": {},
   "outputs": [],
   "source": [
    "data_df.to_csv(file_name_output, sep='\\t', index=False,encoding='utf-8')"
   ]
  },
  {
   "cell_type": "code",
   "execution_count": 404,
   "metadata": {},
   "outputs": [
    {
     "data": {
      "text/plain": [
       "2317"
      ]
     },
     "execution_count": 404,
     "metadata": {},
     "output_type": "execute_result"
    }
   ],
   "source": [
    "len(data_df)"
   ]
  }
 ],
 "metadata": {
  "kernelspec": {
   "display_name": "Python 3",
   "language": "python",
   "name": "python3"
  },
  "language_info": {
   "codemirror_mode": {
    "name": "ipython",
    "version": 3
   },
   "file_extension": ".py",
   "mimetype": "text/x-python",
   "name": "python",
   "nbconvert_exporter": "python",
   "pygments_lexer": "ipython3",
   "version": "3.6.8"
  }
 },
 "nbformat": 4,
 "nbformat_minor": 2
}
