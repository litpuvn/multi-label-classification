{
 "cells": [
  {
   "cell_type": "markdown",
   "metadata": {},
   "source": [
    "# Need Project: Feature Union and Model Generator using Heterogeneous Dataset"
   ]
  },
  {
   "cell_type": "code",
   "execution_count": 607,
   "metadata": {},
   "outputs": [],
   "source": [
    "#python 3\n",
    "import pandas as pd\n",
    "# from sklearn.cross_validation import train_test_split\n",
    "\n",
    "from sklearn.model_selection import train_test_split\n",
    "\n",
    "#model_selection\n",
    "from sklearn.feature_extraction.text import TfidfVectorizer\n",
    "# from sklearn.grid_search import GridSearchCV\n",
    "from sklearn.model_selection import GridSearchCV\n",
    "\n",
    "from sklearn.linear_model.logistic import LogisticRegression\n",
    "from sklearn.model_selection._split import StratifiedShuffleSplit\n",
    "from sklearn.multiclass import OneVsRestClassifier, OneVsOneClassifier\n",
    "from sklearn.pipeline import Pipeline\n",
    "from nltk.corpus import stopwords\n",
    "from sklearn.metrics import classification_report\n",
    "from sklearn.svm.classes import SVC, LinearSVC\n",
    "\n",
    "\n",
    "import nltk\n",
    "import numpy as np\n",
    "\n",
    "\n",
    "from sklearn.base import BaseEstimator, TransformerMixin\n",
    "from sklearn.pipeline import FeatureUnion\n",
    "from sklearn.feature_extraction import DictVectorizer\n",
    "from sklearn.feature_extraction.text import CountVectorizer, TfidfTransformer\n",
    "\n",
    "from sklearn.metrics import accuracy_score"
   ]
  },
  {
   "cell_type": "markdown",
   "metadata": {},
   "source": [
    "# Constants and read csv file"
   ]
  },
  {
   "cell_type": "code",
   "execution_count": 608,
   "metadata": {},
   "outputs": [
    {
     "data": {
      "text/plain": [
       "2317"
      ]
     },
     "execution_count": 608,
     "metadata": {},
     "output_type": "execute_result"
    }
   ],
   "source": [
    "\n",
    "file_name = 'needs_tweets_eng_processed_all_regions.csv'\n",
    "test_size=0.33\n",
    "#All needs\n",
    "genres = ['water', 'volunteer', 'bottle', 'emergency', 'clothes', 'grocery', 'power', 'boat', 'gas', 'fund', 'store', 'food', 'money', 'contact', 'community', 'dog', 'rescue', 'school', 'nurse', 'assistance', 'car', 'advisory', 'home', 'donate', 'safe', 'relief', 'damage', 'oil', 'support', 'text', 'beer', 'family', 'trail', 'victim', 'tank', 'cable', 'shelter', 'truck', 'donation', 'service', 'flood', 'call', 'wine', 'supply', 'need', 'people', 'help', 'restaurant']\n",
    "#min needs freq is 10\n",
    "genres = ['water', 'volunteer', 'emergency', 'clothes', 'grocery', 'power', 'boat', 'gas', 'fund', 'store', 'food', 'money', 'contact', 'community', 'dog', 'rescue', 'school', 'nurse', 'assistance', 'car', 'advisory', 'home', 'donate', 'safe', 'relief', 'damage', 'oil', 'support', 'text', 'beer', 'family', 'trail', 'victim', 'tank', 'shelter', 'truck', 'donation', 'service', 'flood', 'call', 'wine', 'supply', 'need', 'people', 'help', 'restaurant']\n",
    "#min needs freq is 50\n",
    "genres = ['family', 'shelter', 'volunteer', 'donation', 'service', 'store', 'food', 'rescue', 'community', 'flood', 'call', 'school', 'nurse', 'home', 'donate', 'safe', 'relief', 'need', 'people', 'support', 'help', 'water']\n",
    "\n",
    "\n",
    "random_state = 37\n",
    "\n",
    "data_df = pd.read_csv(file_name, delimiter='\\t')\n",
    "data_df.head()\n",
    "len(data_df)"
   ]
  },
  {
   "cell_type": "markdown",
   "metadata": {},
   "source": [
    "# Combine the features raw data : hour, region_name, tweet_text. This is used later for feature union"
   ]
  },
  {
   "cell_type": "code",
   "execution_count": 610,
   "metadata": {},
   "outputs": [
    {
     "data": {
      "text/html": [
       "<div>\n",
       "<style scoped>\n",
       "    .dataframe tbody tr th:only-of-type {\n",
       "        vertical-align: middle;\n",
       "    }\n",
       "\n",
       "    .dataframe tbody tr th {\n",
       "        vertical-align: top;\n",
       "    }\n",
       "\n",
       "    .dataframe thead th {\n",
       "        text-align: right;\n",
       "    }\n",
       "</style>\n",
       "<table border=\"1\" class=\"dataframe\">\n",
       "  <thead>\n",
       "    <tr style=\"text-align: right;\">\n",
       "      <th></th>\n",
       "      <th>tweet_text</th>\n",
       "      <th>region_name</th>\n",
       "      <th>multi_class_label</th>\n",
       "      <th>hour</th>\n",
       "      <th>multi_class_label_vec</th>\n",
       "      <th>combined_tweet_text</th>\n",
       "    </tr>\n",
       "  </thead>\n",
       "  <tbody>\n",
       "    <tr>\n",
       "      <th>0</th>\n",
       "      <td>Models need to eat too.  \"Always Hungry\" thank...</td>\n",
       "      <td>Willowbrook</td>\n",
       "      <td>need</td>\n",
       "      <td>0</td>\n",
       "      <td>0, 0, 0, 0, 0, 0, 0, 0, 0, 0, 0, 0, 0, 0, 0, 0...</td>\n",
       "      <td>0\\n\\nWillowbrook\\n\\nModels need to eat too.  \"...</td>\n",
       "    </tr>\n",
       "    <tr>\n",
       "      <th>1</th>\n",
       "      <td>We're #hiring! Click to apply: Service Technic...</td>\n",
       "      <td>Fourth Ward</td>\n",
       "      <td>service</td>\n",
       "      <td>1</td>\n",
       "      <td>0, 0, 0, 0, 1, 0, 0, 0, 0, 0, 0, 0, 0, 0, 0, 0...</td>\n",
       "      <td>1\\n\\nFourth Ward\\n\\nWe're #hiring! Click to ap...</td>\n",
       "    </tr>\n",
       "    <tr>\n",
       "      <th>2</th>\n",
       "      <td>Me and Bae paid our support to my cuz tonight ...</td>\n",
       "      <td>Independence Heights</td>\n",
       "      <td>support</td>\n",
       "      <td>1</td>\n",
       "      <td>0, 0, 0, 0, 0, 0, 0, 0, 0, 0, 0, 0, 0, 0, 0, 0...</td>\n",
       "      <td>1\\n\\nIndependence Heights\\n\\nMe and Bae paid o...</td>\n",
       "    </tr>\n",
       "    <tr>\n",
       "      <th>3</th>\n",
       "      <td>Wings Over Water - Avenida Houston - Downtown ...</td>\n",
       "      <td>Mid West</td>\n",
       "      <td>water</td>\n",
       "      <td>4</td>\n",
       "      <td>0, 0, 0, 0, 0, 0, 0, 0, 0, 0, 0, 0, 0, 0, 0, 0...</td>\n",
       "      <td>4\\n\\nMid West\\n\\nWings Over Water - Avenida Ho...</td>\n",
       "    </tr>\n",
       "    <tr>\n",
       "      <th>4</th>\n",
       "      <td>Up to 54% Off Haircut Packages at Paul Mitchel...</td>\n",
       "      <td>Independence Heights</td>\n",
       "      <td>school</td>\n",
       "      <td>5</td>\n",
       "      <td>0, 0, 0, 0, 0, 0, 0, 0, 0, 0, 0, 1, 0, 0, 0, 0...</td>\n",
       "      <td>5\\n\\nIndependence Heights\\n\\nUp to 54% Off Hai...</td>\n",
       "    </tr>\n",
       "  </tbody>\n",
       "</table>\n",
       "</div>"
      ],
      "text/plain": [
       "                                          tweet_text           region_name  \\\n",
       "0  Models need to eat too.  \"Always Hungry\" thank...           Willowbrook   \n",
       "1  We're #hiring! Click to apply: Service Technic...           Fourth Ward   \n",
       "2  Me and Bae paid our support to my cuz tonight ...  Independence Heights   \n",
       "3  Wings Over Water - Avenida Houston - Downtown ...              Mid West   \n",
       "4  Up to 54% Off Haircut Packages at Paul Mitchel...  Independence Heights   \n",
       "\n",
       "  multi_class_label  hour                              multi_class_label_vec  \\\n",
       "0              need     0  0, 0, 0, 0, 0, 0, 0, 0, 0, 0, 0, 0, 0, 0, 0, 0...   \n",
       "1           service     1  0, 0, 0, 0, 1, 0, 0, 0, 0, 0, 0, 0, 0, 0, 0, 0...   \n",
       "2           support     1  0, 0, 0, 0, 0, 0, 0, 0, 0, 0, 0, 0, 0, 0, 0, 0...   \n",
       "3             water     4  0, 0, 0, 0, 0, 0, 0, 0, 0, 0, 0, 0, 0, 0, 0, 0...   \n",
       "4            school     5  0, 0, 0, 0, 0, 0, 0, 0, 0, 0, 0, 1, 0, 0, 0, 0...   \n",
       "\n",
       "                                 combined_tweet_text  \n",
       "0  0\\n\\nWillowbrook\\n\\nModels need to eat too.  \"...  \n",
       "1  1\\n\\nFourth Ward\\n\\nWe're #hiring! Click to ap...  \n",
       "2  1\\n\\nIndependence Heights\\n\\nMe and Bae paid o...  \n",
       "3  4\\n\\nMid West\\n\\nWings Over Water - Avenida Ho...  \n",
       "4  5\\n\\nIndependence Heights\\n\\nUp to 54% Off Hai...  "
      ]
     },
     "execution_count": 610,
     "metadata": {},
     "output_type": "execute_result"
    }
   ],
   "source": [
    "x_column_name = ['region_name', 'hour', 'tweet_text']\n",
    "combine_seperator = '\\n\\n'\n",
    "number_of_features = 3\n",
    "data_df['combined_tweet_text']=data_df['hour'].astype(str) + combine_seperator +data_df['region_name'] + combine_seperator + data_df['tweet_text']\n",
    "data_df.head()\n",
    "# data_df['combined_tweet_text'][0].split(combine_seperator)"
   ]
  },
  {
   "cell_type": "markdown",
   "metadata": {},
   "source": [
    "# Split dataset"
   ]
  },
  {
   "cell_type": "code",
   "execution_count": 611,
   "metadata": {},
   "outputs": [
    {
     "name": "stderr",
     "output_type": "stream",
     "text": [
      "/Users/habugell/anaconda2/envs/py36/lib/python3.6/site-packages/ipykernel_launcher.py:3: FutureWarning: Method .as_matrix will be removed in a future version. Use .values instead.\n",
      "  This is separate from the ipykernel package so we can avoid doing imports until\n",
      "/Users/habugell/anaconda2/envs/py36/lib/python3.6/site-packages/ipykernel_launcher.py:4: FutureWarning: Method .as_matrix will be removed in a future version. Use .values instead.\n",
      "  after removing the cwd from sys.path.\n",
      "[nltk_data] Downloading package stopwords to\n",
      "[nltk_data]     /Users/habugell/nltk_data...\n",
      "[nltk_data]   Package stopwords is already up-to-date!\n"
     ]
    },
    {
     "data": {
      "text/plain": [
       "1552"
      ]
     },
     "execution_count": 611,
     "metadata": {},
     "output_type": "execute_result"
    }
   ],
   "source": [
    "\n",
    "\n",
    "data_x = data_df['combined_tweet_text'].as_matrix()\n",
    "data_y = data_df['multi_class_label_vec'].as_matrix()\n",
    "\n",
    "stratified_split = StratifiedShuffleSplit(n_splits=2, test_size=test_size, random_state=random_state)\n",
    "\n",
    "x_train, x_test, y_train, y_test = train_test_split(data_x,data_y,test_size=test_size, random_state=random_state)\n",
    "\n",
    "\n",
    "\n",
    "len(genres)\n",
    "# data_x\n",
    "\n",
    "# transform matrix of plots into lists to pass to a TfidfVectorizer\n",
    "train_x = [x.strip() for x in x_train.tolist()]\n",
    "\n",
    "test_x = [x.strip() for x in x_test.tolist()]\n",
    "nltk.download('stopwords')\n",
    "stop_words = set(stopwords.words('english'))\n",
    "len(train_x)"
   ]
  },
  {
   "cell_type": "markdown",
   "metadata": {},
   "source": [
    "# Define Feature Union and classifier - classes and pipelines"
   ]
  },
  {
   "cell_type": "code",
   "execution_count": 670,
   "metadata": {},
   "outputs": [],
   "source": [
    "# return one column of the x_train according to the key pass (hour, region_name, tweet_text)\n",
    "class ItemSelector(BaseEstimator, TransformerMixin):\n",
    "\n",
    "    def __init__(self, key):\n",
    "        self.key = key\n",
    "\n",
    "    def fit(self, x, y=None):\n",
    "        return self\n",
    "\n",
    "    def transform(self, data_dict):\n",
    "        return data_dict[self.key]\n",
    "\n",
    "#class to split the combined x_train to 3 columns hour, region_name, tweet_text according to the key passed\n",
    "class keyExtractor(BaseEstimator, TransformerMixin):\n",
    "    \"\"\"Extract the subject & body from a usenet post in a single pass.\n",
    "\n",
    "    Takes a sequence of strings and produces a dict of sequences.  Keys are\n",
    "    `subject` and `body`.\n",
    "    \"\"\"\n",
    "    def fit(self, x, y=None):\n",
    "        return self\n",
    "\n",
    "    def transform(self, posts):\n",
    "        #hour, region_name, tweet_text\n",
    "        features = np.recarray(shape=(len(posts),),\n",
    "                               dtype=[('hour', object), ('region_name', object), ('tweet_text', object)])\n",
    "        for i, text in enumerate(posts):\n",
    "            combined_text = text.split(combine_seperator)\n",
    "            assert len(combined_text) == number_of_features\n",
    "             \n",
    "            features['hour'][i] = combined_text[0]\n",
    "\n",
    "            features['region_name'][i] = combined_text[1]\n",
    "\n",
    "            features['tweet_text'][i] = combined_text[2]\n",
    "\n",
    "        return features\n",
    "\n",
    "#Feature calc method to get the length of the tweet and the number of dots.\n",
    "class TextStats(BaseEstimator, TransformerMixin):\n",
    "    \"\"\"Extract features from each document for DictVectorizer\"\"\"\n",
    "\n",
    "    def fit(self, x, y=None):\n",
    "        return self\n",
    "\n",
    "    def transform(self, posts):\n",
    "        return [{'length': len(text),\n",
    "                 'num_sentences': text.count('.')}\n",
    "                for text in posts]\n",
    "\n",
    "#define a pipline: first keyExtractor (to split the combined columns).\n",
    "#    Then perform Feature Union for hour, region_name, tweet_text columns.\n",
    "#    Finally, run the classifier to select the model using OneVsRest Classifier method with wieghts  \n",
    "#             for for hour, region_name, and tweet_text, tweet text's stats, repectively.\n",
    "pipeline_feature_union = Pipeline([\n",
    "    # Extract the hour, region_name, tweet_text \n",
    "    ('hour_region_name_tweet_text', keyExtractor()),\n",
    "\n",
    "    # Use FeatureUnion to combine the features from subject and body\n",
    "    ('union', FeatureUnion(\n",
    "        transformer_list=[\n",
    "\n",
    "            # Pipeline for TFIDF features from the tweets's texts\n",
    "            ('tweet_text', Pipeline([\n",
    "                ('selector', ItemSelector(key='tweet_text')),\n",
    "                ('tfidf', TfidfVectorizer(stop_words=stop_words)),\n",
    "#                 ('tfidf', CountVectorizer(stop_words=stop_words)),\n",
    "#                 ('transf', TfidfTransformer()),\n",
    "\n",
    "            ])),\n",
    "\n",
    "            # Pipeline for text statistics features from the tweets's texts\n",
    "            ('tweet_text_stats', Pipeline([\n",
    "                ('selector', ItemSelector(key='tweet_text')),\n",
    "                ('stats', TextStats()),  # returns a list of dicts\n",
    "                ('vect', DictVectorizer()),  # list of dicts -> feature matrix\n",
    "                \n",
    "            ])),\n",
    "\n",
    "\n",
    "            # Pipeline for TFIDF features from the tweets's region names\n",
    "            ('region_name', Pipeline([\n",
    "                ('selector', ItemSelector(key='region_name')),\n",
    "#                 ('tfidf', TfidfVectorizer(strip_accents='ascii', stop_words=stop_words)),\n",
    "                ('tfidf', TfidfVectorizer(strip_accents='ascii', stop_words=stop_words)),\n",
    "\n",
    "            ])),\n",
    "\n",
    "            # Pipeline for TFIDF features from the tweets's hours (24)\n",
    "            ('hour', Pipeline([\n",
    "                ('selector', ItemSelector(key='hour')),\n",
    "#                 ('tfidf', TfidfVectorizer(strip_accents='ascii', stop_words=stop_words)),\n",
    "                ('tfidf', TfidfVectorizer(strip_accents='ascii', stop_words=stop_words)),\n",
    "\n",
    "            ])),\n",
    "\n",
    "        ],\n",
    "\n",
    "        # weight components in FeatureUnion\n",
    "#         transformer_weights={\n",
    "#             'tweet_text': 1.0,\n",
    "#             'region_name': 0.25,\n",
    "#             'hour': 0.25,\n",
    "#         },\n",
    "\n",
    "        transformer_weights={\n",
    "            'tweet_text': 0.90,#1.0\n",
    "            'tweet_text_stats': 0.01, #0.01\n",
    "            'region_name': 0.25, #0.5\n",
    "            'hour': 0.25, #0.5\n",
    "        },\n",
    "\n",
    "    \n",
    "    )),\n",
    "\n",
    "    # Use a SVC classifier on the combined features\n",
    "#     ('clf', OneVsRestClassifier(LinearSVC(), n_jobs=1)),\n",
    "    ('clf', OneVsRestClassifier(LinearSVC(), n_jobs=10)),\n",
    "\n",
    "    #SVC(kernel='linear')\n",
    "#     ('clf', OneVsRestClassifier(SVC(kernel='linear'), n_jobs=1)),\n",
    "\n",
    "#     ('clf', OneVsOneClassifier(LinearSVC(), n_jobs=1)),\n",
    "\n",
    "])\n",
    "\n"
   ]
  },
  {
   "cell_type": "code",
   "execution_count": 671,
   "metadata": {},
   "outputs": [],
   "source": [
    "# #Check the list of available parameters with `estimator.get_params().keys()\n",
    "# grid.estimator.get_params().keys()\n"
   ]
  },
  {
   "cell_type": "markdown",
   "metadata": {},
   "source": [
    "# Build the model using specific parameters."
   ]
  },
  {
   "cell_type": "code",
   "execution_count": 672,
   "metadata": {},
   "outputs": [
    {
     "name": "stdout",
     "output_type": "stream",
     "text": [
      "OneVsAll\n",
      "####start, grid_search_feature_union\n",
      "####Step 1, grid_search_feature_union\n",
      "Fitting 5 folds for each of 32 candidates, totalling 160 fits\n",
      "[CV] clf__estimator__C=0.01, clf__estimator__class_weight=balanced, union__hour__tfidf__max_df=0.25, union__hour__tfidf__ngram_range=(1, 1), union__region_name__tfidf__max_df=0.25, union__region_name__tfidf__ngram_range=(1, 1), union__tweet_text__tfidf__max_df=0.25, union__tweet_text__tfidf__ngram_range=(1, 1) \n"
     ]
    },
    {
     "name": "stderr",
     "output_type": "stream",
     "text": [
      "/Users/habugell/anaconda2/envs/py36/lib/python3.6/site-packages/sklearn/model_selection/_split.py:605: Warning: The least populated class in y has only 1 members, which is too few. The minimum number of members in any class cannot be less than n_splits=5.\n",
      "  % (min_groups, self.n_splits)), Warning)\n"
     ]
    },
    {
     "name": "stdout",
     "output_type": "stream",
     "text": [
      "[CV]  clf__estimator__C=0.01, clf__estimator__class_weight=balanced, union__hour__tfidf__max_df=0.25, union__hour__tfidf__ngram_range=(1, 1), union__region_name__tfidf__max_df=0.25, union__region_name__tfidf__ngram_range=(1, 1), union__tweet_text__tfidf__max_df=0.25, union__tweet_text__tfidf__ngram_range=(1, 1), score=0.6581632653061225, total=   0.4s\n",
      "[CV] clf__estimator__C=0.01, clf__estimator__class_weight=balanced, union__hour__tfidf__max_df=0.25, union__hour__tfidf__ngram_range=(1, 1), union__region_name__tfidf__max_df=0.25, union__region_name__tfidf__ngram_range=(1, 1), union__tweet_text__tfidf__max_df=0.25, union__tweet_text__tfidf__ngram_range=(1, 1) \n"
     ]
    },
    {
     "name": "stderr",
     "output_type": "stream",
     "text": [
      "[Parallel(n_jobs=1)]: Done   1 out of   1 | elapsed:    0.5s remaining:    0.0s\n"
     ]
    },
    {
     "name": "stdout",
     "output_type": "stream",
     "text": [
      "[CV]  clf__estimator__C=0.01, clf__estimator__class_weight=balanced, union__hour__tfidf__max_df=0.25, union__hour__tfidf__ngram_range=(1, 1), union__region_name__tfidf__max_df=0.25, union__region_name__tfidf__ngram_range=(1, 1), union__tweet_text__tfidf__max_df=0.25, union__tweet_text__tfidf__ngram_range=(1, 1), score=0.7697160883280757, total=   0.5s\n",
      "[CV] clf__estimator__C=0.01, clf__estimator__class_weight=balanced, union__hour__tfidf__max_df=0.25, union__hour__tfidf__ngram_range=(1, 1), union__region_name__tfidf__max_df=0.25, union__region_name__tfidf__ngram_range=(1, 1), union__tweet_text__tfidf__max_df=0.25, union__tweet_text__tfidf__ngram_range=(1, 1) \n"
     ]
    },
    {
     "name": "stderr",
     "output_type": "stream",
     "text": [
      "[Parallel(n_jobs=1)]: Done   2 out of   2 | elapsed:    1.1s remaining:    0.0s\n"
     ]
    },
    {
     "name": "stdout",
     "output_type": "stream",
     "text": [
      "[CV]  clf__estimator__C=0.01, clf__estimator__class_weight=balanced, union__hour__tfidf__max_df=0.25, union__hour__tfidf__ngram_range=(1, 1), union__region_name__tfidf__max_df=0.25, union__region_name__tfidf__ngram_range=(1, 1), union__tweet_text__tfidf__max_df=0.25, union__tweet_text__tfidf__ngram_range=(1, 1), score=0.8156996587030717, total=   0.5s\n",
      "[CV] clf__estimator__C=0.01, clf__estimator__class_weight=balanced, union__hour__tfidf__max_df=0.25, union__hour__tfidf__ngram_range=(1, 1), union__region_name__tfidf__max_df=0.25, union__region_name__tfidf__ngram_range=(1, 1), union__tweet_text__tfidf__max_df=0.25, union__tweet_text__tfidf__ngram_range=(1, 1) \n"
     ]
    },
    {
     "name": "stderr",
     "output_type": "stream",
     "text": [
      "[Parallel(n_jobs=1)]: Done   3 out of   3 | elapsed:    1.8s remaining:    0.0s\n"
     ]
    },
    {
     "name": "stdout",
     "output_type": "stream",
     "text": [
      "[CV]  clf__estimator__C=0.01, clf__estimator__class_weight=balanced, union__hour__tfidf__max_df=0.25, union__hour__tfidf__ngram_range=(1, 1), union__region_name__tfidf__max_df=0.25, union__region_name__tfidf__ngram_range=(1, 1), union__tweet_text__tfidf__max_df=0.25, union__tweet_text__tfidf__ngram_range=(1, 1), score=0.841726618705036, total=   0.5s\n",
      "[CV] clf__estimator__C=0.01, clf__estimator__class_weight=balanced, union__hour__tfidf__max_df=0.25, union__hour__tfidf__ngram_range=(1, 1), union__region_name__tfidf__max_df=0.25, union__region_name__tfidf__ngram_range=(1, 1), union__tweet_text__tfidf__max_df=0.25, union__tweet_text__tfidf__ngram_range=(1, 1) \n"
     ]
    },
    {
     "name": "stderr",
     "output_type": "stream",
     "text": [
      "[Parallel(n_jobs=1)]: Done   4 out of   4 | elapsed:    2.4s remaining:    0.0s\n"
     ]
    },
    {
     "name": "stdout",
     "output_type": "stream",
     "text": [
      "[CV]  clf__estimator__C=0.01, clf__estimator__class_weight=balanced, union__hour__tfidf__max_df=0.25, union__hour__tfidf__ngram_range=(1, 1), union__region_name__tfidf__max_df=0.25, union__region_name__tfidf__ngram_range=(1, 1), union__tweet_text__tfidf__max_df=0.25, union__tweet_text__tfidf__ngram_range=(1, 1), score=0.8492647058823529, total=   0.5s\n",
      "[CV] clf__estimator__C=0.01, clf__estimator__class_weight=balanced, union__hour__tfidf__max_df=0.25, union__hour__tfidf__ngram_range=(1, 1), union__region_name__tfidf__max_df=0.25, union__region_name__tfidf__ngram_range=(1, 1), union__tweet_text__tfidf__max_df=0.5, union__tweet_text__tfidf__ngram_range=(1, 1) \n"
     ]
    },
    {
     "name": "stderr",
     "output_type": "stream",
     "text": [
      "[Parallel(n_jobs=1)]: Done   5 out of   5 | elapsed:    3.0s remaining:    0.0s\n"
     ]
    },
    {
     "name": "stdout",
     "output_type": "stream",
     "text": [
      "[CV]  clf__estimator__C=0.01, clf__estimator__class_weight=balanced, union__hour__tfidf__max_df=0.25, union__hour__tfidf__ngram_range=(1, 1), union__region_name__tfidf__max_df=0.25, union__region_name__tfidf__ngram_range=(1, 1), union__tweet_text__tfidf__max_df=0.5, union__tweet_text__tfidf__ngram_range=(1, 1), score=0.6556122448979592, total=   0.4s\n",
      "[CV] clf__estimator__C=0.01, clf__estimator__class_weight=balanced, union__hour__tfidf__max_df=0.25, union__hour__tfidf__ngram_range=(1, 1), union__region_name__tfidf__max_df=0.25, union__region_name__tfidf__ngram_range=(1, 1), union__tweet_text__tfidf__max_df=0.5, union__tweet_text__tfidf__ngram_range=(1, 1) \n"
     ]
    },
    {
     "name": "stderr",
     "output_type": "stream",
     "text": [
      "[Parallel(n_jobs=1)]: Done   6 out of   6 | elapsed:    3.5s remaining:    0.0s\n"
     ]
    },
    {
     "name": "stdout",
     "output_type": "stream",
     "text": [
      "[CV]  clf__estimator__C=0.01, clf__estimator__class_weight=balanced, union__hour__tfidf__max_df=0.25, union__hour__tfidf__ngram_range=(1, 1), union__region_name__tfidf__max_df=0.25, union__region_name__tfidf__ngram_range=(1, 1), union__tweet_text__tfidf__max_df=0.5, union__tweet_text__tfidf__ngram_range=(1, 1), score=0.7728706624605678, total=   0.5s\n",
      "[CV] clf__estimator__C=0.01, clf__estimator__class_weight=balanced, union__hour__tfidf__max_df=0.25, union__hour__tfidf__ngram_range=(1, 1), union__region_name__tfidf__max_df=0.25, union__region_name__tfidf__ngram_range=(1, 1), union__tweet_text__tfidf__max_df=0.5, union__tweet_text__tfidf__ngram_range=(1, 1) \n"
     ]
    },
    {
     "name": "stderr",
     "output_type": "stream",
     "text": [
      "[Parallel(n_jobs=1)]: Done   7 out of   7 | elapsed:    4.2s remaining:    0.0s\n"
     ]
    },
    {
     "name": "stdout",
     "output_type": "stream",
     "text": [
      "[CV]  clf__estimator__C=0.01, clf__estimator__class_weight=balanced, union__hour__tfidf__max_df=0.25, union__hour__tfidf__ngram_range=(1, 1), union__region_name__tfidf__max_df=0.25, union__region_name__tfidf__ngram_range=(1, 1), union__tweet_text__tfidf__max_df=0.5, union__tweet_text__tfidf__ngram_range=(1, 1), score=0.8088737201365188, total=   0.5s\n",
      "[CV] clf__estimator__C=0.01, clf__estimator__class_weight=balanced, union__hour__tfidf__max_df=0.25, union__hour__tfidf__ngram_range=(1, 1), union__region_name__tfidf__max_df=0.25, union__region_name__tfidf__ngram_range=(1, 1), union__tweet_text__tfidf__max_df=0.5, union__tweet_text__tfidf__ngram_range=(1, 1) \n"
     ]
    },
    {
     "name": "stderr",
     "output_type": "stream",
     "text": [
      "[Parallel(n_jobs=1)]: Done   8 out of   8 | elapsed:    4.8s remaining:    0.0s\n"
     ]
    },
    {
     "name": "stdout",
     "output_type": "stream",
     "text": [
      "[CV]  clf__estimator__C=0.01, clf__estimator__class_weight=balanced, union__hour__tfidf__max_df=0.25, union__hour__tfidf__ngram_range=(1, 1), union__region_name__tfidf__max_df=0.25, union__region_name__tfidf__ngram_range=(1, 1), union__tweet_text__tfidf__max_df=0.5, union__tweet_text__tfidf__ngram_range=(1, 1), score=0.841726618705036, total=   0.6s\n",
      "[CV] clf__estimator__C=0.01, clf__estimator__class_weight=balanced, union__hour__tfidf__max_df=0.25, union__hour__tfidf__ngram_range=(1, 1), union__region_name__tfidf__max_df=0.25, union__region_name__tfidf__ngram_range=(1, 1), union__tweet_text__tfidf__max_df=0.5, union__tweet_text__tfidf__ngram_range=(1, 1) \n"
     ]
    },
    {
     "name": "stderr",
     "output_type": "stream",
     "text": [
      "[Parallel(n_jobs=1)]: Done   9 out of   9 | elapsed:    5.4s remaining:    0.0s\n"
     ]
    },
    {
     "name": "stdout",
     "output_type": "stream",
     "text": [
      "[CV]  clf__estimator__C=0.01, clf__estimator__class_weight=balanced, union__hour__tfidf__max_df=0.25, union__hour__tfidf__ngram_range=(1, 1), union__region_name__tfidf__max_df=0.25, union__region_name__tfidf__ngram_range=(1, 1), union__tweet_text__tfidf__max_df=0.5, union__tweet_text__tfidf__ngram_range=(1, 1), score=0.8529411764705882, total=   0.5s\n",
      "[CV] clf__estimator__C=0.01, clf__estimator__class_weight=balanced, union__hour__tfidf__max_df=0.25, union__hour__tfidf__ngram_range=(1, 1), union__region_name__tfidf__max_df=0.5, union__region_name__tfidf__ngram_range=(1, 1), union__tweet_text__tfidf__max_df=0.25, union__tweet_text__tfidf__ngram_range=(1, 1) \n",
      "[CV]  clf__estimator__C=0.01, clf__estimator__class_weight=balanced, union__hour__tfidf__max_df=0.25, union__hour__tfidf__ngram_range=(1, 1), union__region_name__tfidf__max_df=0.5, union__region_name__tfidf__ngram_range=(1, 1), union__tweet_text__tfidf__max_df=0.25, union__tweet_text__tfidf__ngram_range=(1, 1), score=0.6607142857142857, total=   0.4s\n",
      "[CV] clf__estimator__C=0.01, clf__estimator__class_weight=balanced, union__hour__tfidf__max_df=0.25, union__hour__tfidf__ngram_range=(1, 1), union__region_name__tfidf__max_df=0.5, union__region_name__tfidf__ngram_range=(1, 1), union__tweet_text__tfidf__max_df=0.25, union__tweet_text__tfidf__ngram_range=(1, 1) \n",
      "[CV]  clf__estimator__C=0.01, clf__estimator__class_weight=balanced, union__hour__tfidf__max_df=0.25, union__hour__tfidf__ngram_range=(1, 1), union__region_name__tfidf__max_df=0.5, union__region_name__tfidf__ngram_range=(1, 1), union__tweet_text__tfidf__max_df=0.25, union__tweet_text__tfidf__ngram_range=(1, 1), score=0.7728706624605678, total=   0.5s\n",
      "[CV] clf__estimator__C=0.01, clf__estimator__class_weight=balanced, union__hour__tfidf__max_df=0.25, union__hour__tfidf__ngram_range=(1, 1), union__region_name__tfidf__max_df=0.5, union__region_name__tfidf__ngram_range=(1, 1), union__tweet_text__tfidf__max_df=0.25, union__tweet_text__tfidf__ngram_range=(1, 1) \n",
      "[CV]  clf__estimator__C=0.01, clf__estimator__class_weight=balanced, union__hour__tfidf__max_df=0.25, union__hour__tfidf__ngram_range=(1, 1), union__region_name__tfidf__max_df=0.5, union__region_name__tfidf__ngram_range=(1, 1), union__tweet_text__tfidf__max_df=0.25, union__tweet_text__tfidf__ngram_range=(1, 1), score=0.8122866894197952, total=   0.5s\n",
      "[CV] clf__estimator__C=0.01, clf__estimator__class_weight=balanced, union__hour__tfidf__max_df=0.25, union__hour__tfidf__ngram_range=(1, 1), union__region_name__tfidf__max_df=0.5, union__region_name__tfidf__ngram_range=(1, 1), union__tweet_text__tfidf__max_df=0.25, union__tweet_text__tfidf__ngram_range=(1, 1) \n",
      "[CV]  clf__estimator__C=0.01, clf__estimator__class_weight=balanced, union__hour__tfidf__max_df=0.25, union__hour__tfidf__ngram_range=(1, 1), union__region_name__tfidf__max_df=0.5, union__region_name__tfidf__ngram_range=(1, 1), union__tweet_text__tfidf__max_df=0.25, union__tweet_text__tfidf__ngram_range=(1, 1), score=0.8525179856115108, total=   0.5s\n",
      "[CV] clf__estimator__C=0.01, clf__estimator__class_weight=balanced, union__hour__tfidf__max_df=0.25, union__hour__tfidf__ngram_range=(1, 1), union__region_name__tfidf__max_df=0.5, union__region_name__tfidf__ngram_range=(1, 1), union__tweet_text__tfidf__max_df=0.25, union__tweet_text__tfidf__ngram_range=(1, 1) \n",
      "[CV]  clf__estimator__C=0.01, clf__estimator__class_weight=balanced, union__hour__tfidf__max_df=0.25, union__hour__tfidf__ngram_range=(1, 1), union__region_name__tfidf__max_df=0.5, union__region_name__tfidf__ngram_range=(1, 1), union__tweet_text__tfidf__max_df=0.25, union__tweet_text__tfidf__ngram_range=(1, 1), score=0.8455882352941176, total=   0.5s\n",
      "[CV] clf__estimator__C=0.01, clf__estimator__class_weight=balanced, union__hour__tfidf__max_df=0.25, union__hour__tfidf__ngram_range=(1, 1), union__region_name__tfidf__max_df=0.5, union__region_name__tfidf__ngram_range=(1, 1), union__tweet_text__tfidf__max_df=0.5, union__tweet_text__tfidf__ngram_range=(1, 1) \n",
      "[CV]  clf__estimator__C=0.01, clf__estimator__class_weight=balanced, union__hour__tfidf__max_df=0.25, union__hour__tfidf__ngram_range=(1, 1), union__region_name__tfidf__max_df=0.5, union__region_name__tfidf__ngram_range=(1, 1), union__tweet_text__tfidf__max_df=0.5, union__tweet_text__tfidf__ngram_range=(1, 1), score=0.6556122448979592, total=   0.4s\n",
      "[CV] clf__estimator__C=0.01, clf__estimator__class_weight=balanced, union__hour__tfidf__max_df=0.25, union__hour__tfidf__ngram_range=(1, 1), union__region_name__tfidf__max_df=0.5, union__region_name__tfidf__ngram_range=(1, 1), union__tweet_text__tfidf__max_df=0.5, union__tweet_text__tfidf__ngram_range=(1, 1) \n",
      "[CV]  clf__estimator__C=0.01, clf__estimator__class_weight=balanced, union__hour__tfidf__max_df=0.25, union__hour__tfidf__ngram_range=(1, 1), union__region_name__tfidf__max_df=0.5, union__region_name__tfidf__ngram_range=(1, 1), union__tweet_text__tfidf__max_df=0.5, union__tweet_text__tfidf__ngram_range=(1, 1), score=0.7634069400630915, total=   0.5s\n",
      "[CV] clf__estimator__C=0.01, clf__estimator__class_weight=balanced, union__hour__tfidf__max_df=0.25, union__hour__tfidf__ngram_range=(1, 1), union__region_name__tfidf__max_df=0.5, union__region_name__tfidf__ngram_range=(1, 1), union__tweet_text__tfidf__max_df=0.5, union__tweet_text__tfidf__ngram_range=(1, 1) \n",
      "[CV]  clf__estimator__C=0.01, clf__estimator__class_weight=balanced, union__hour__tfidf__max_df=0.25, union__hour__tfidf__ngram_range=(1, 1), union__region_name__tfidf__max_df=0.5, union__region_name__tfidf__ngram_range=(1, 1), union__tweet_text__tfidf__max_df=0.5, union__tweet_text__tfidf__ngram_range=(1, 1), score=0.8054607508532423, total=   0.5s\n",
      "[CV] clf__estimator__C=0.01, clf__estimator__class_weight=balanced, union__hour__tfidf__max_df=0.25, union__hour__tfidf__ngram_range=(1, 1), union__region_name__tfidf__max_df=0.5, union__region_name__tfidf__ngram_range=(1, 1), union__tweet_text__tfidf__max_df=0.5, union__tweet_text__tfidf__ngram_range=(1, 1) \n",
      "[CV]  clf__estimator__C=0.01, clf__estimator__class_weight=balanced, union__hour__tfidf__max_df=0.25, union__hour__tfidf__ngram_range=(1, 1), union__region_name__tfidf__max_df=0.5, union__region_name__tfidf__ngram_range=(1, 1), union__tweet_text__tfidf__max_df=0.5, union__tweet_text__tfidf__ngram_range=(1, 1), score=0.8453237410071942, total=   0.5s\n",
      "[CV] clf__estimator__C=0.01, clf__estimator__class_weight=balanced, union__hour__tfidf__max_df=0.25, union__hour__tfidf__ngram_range=(1, 1), union__region_name__tfidf__max_df=0.5, union__region_name__tfidf__ngram_range=(1, 1), union__tweet_text__tfidf__max_df=0.5, union__tweet_text__tfidf__ngram_range=(1, 1) \n",
      "[CV]  clf__estimator__C=0.01, clf__estimator__class_weight=balanced, union__hour__tfidf__max_df=0.25, union__hour__tfidf__ngram_range=(1, 1), union__region_name__tfidf__max_df=0.5, union__region_name__tfidf__ngram_range=(1, 1), union__tweet_text__tfidf__max_df=0.5, union__tweet_text__tfidf__ngram_range=(1, 1), score=0.8455882352941176, total=   0.4s\n",
      "[CV] clf__estimator__C=0.01, clf__estimator__class_weight=balanced, union__hour__tfidf__max_df=0.5, union__hour__tfidf__ngram_range=(1, 1), union__region_name__tfidf__max_df=0.25, union__region_name__tfidf__ngram_range=(1, 1), union__tweet_text__tfidf__max_df=0.25, union__tweet_text__tfidf__ngram_range=(1, 1) \n",
      "[CV]  clf__estimator__C=0.01, clf__estimator__class_weight=balanced, union__hour__tfidf__max_df=0.5, union__hour__tfidf__ngram_range=(1, 1), union__region_name__tfidf__max_df=0.25, union__region_name__tfidf__ngram_range=(1, 1), union__tweet_text__tfidf__max_df=0.25, union__tweet_text__tfidf__ngram_range=(1, 1), score=0.6581632653061225, total=   0.4s\n",
      "[CV] clf__estimator__C=0.01, clf__estimator__class_weight=balanced, union__hour__tfidf__max_df=0.5, union__hour__tfidf__ngram_range=(1, 1), union__region_name__tfidf__max_df=0.25, union__region_name__tfidf__ngram_range=(1, 1), union__tweet_text__tfidf__max_df=0.25, union__tweet_text__tfidf__ngram_range=(1, 1) \n",
      "[CV]  clf__estimator__C=0.01, clf__estimator__class_weight=balanced, union__hour__tfidf__max_df=0.5, union__hour__tfidf__ngram_range=(1, 1), union__region_name__tfidf__max_df=0.25, union__region_name__tfidf__ngram_range=(1, 1), union__tweet_text__tfidf__max_df=0.25, union__tweet_text__tfidf__ngram_range=(1, 1), score=0.7697160883280757, total=   0.4s\n",
      "[CV] clf__estimator__C=0.01, clf__estimator__class_weight=balanced, union__hour__tfidf__max_df=0.5, union__hour__tfidf__ngram_range=(1, 1), union__region_name__tfidf__max_df=0.25, union__region_name__tfidf__ngram_range=(1, 1), union__tweet_text__tfidf__max_df=0.25, union__tweet_text__tfidf__ngram_range=(1, 1) \n"
     ]
    },
    {
     "name": "stdout",
     "output_type": "stream",
     "text": [
      "[CV]  clf__estimator__C=0.01, clf__estimator__class_weight=balanced, union__hour__tfidf__max_df=0.5, union__hour__tfidf__ngram_range=(1, 1), union__region_name__tfidf__max_df=0.25, union__region_name__tfidf__ngram_range=(1, 1), union__tweet_text__tfidf__max_df=0.25, union__tweet_text__tfidf__ngram_range=(1, 1), score=0.8156996587030717, total=   0.5s\n",
      "[CV] clf__estimator__C=0.01, clf__estimator__class_weight=balanced, union__hour__tfidf__max_df=0.5, union__hour__tfidf__ngram_range=(1, 1), union__region_name__tfidf__max_df=0.25, union__region_name__tfidf__ngram_range=(1, 1), union__tweet_text__tfidf__max_df=0.25, union__tweet_text__tfidf__ngram_range=(1, 1) \n",
      "[CV]  clf__estimator__C=0.01, clf__estimator__class_weight=balanced, union__hour__tfidf__max_df=0.5, union__hour__tfidf__ngram_range=(1, 1), union__region_name__tfidf__max_df=0.25, union__region_name__tfidf__ngram_range=(1, 1), union__tweet_text__tfidf__max_df=0.25, union__tweet_text__tfidf__ngram_range=(1, 1), score=0.841726618705036, total=   0.5s\n",
      "[CV] clf__estimator__C=0.01, clf__estimator__class_weight=balanced, union__hour__tfidf__max_df=0.5, union__hour__tfidf__ngram_range=(1, 1), union__region_name__tfidf__max_df=0.25, union__region_name__tfidf__ngram_range=(1, 1), union__tweet_text__tfidf__max_df=0.25, union__tweet_text__tfidf__ngram_range=(1, 1) \n",
      "[CV]  clf__estimator__C=0.01, clf__estimator__class_weight=balanced, union__hour__tfidf__max_df=0.5, union__hour__tfidf__ngram_range=(1, 1), union__region_name__tfidf__max_df=0.25, union__region_name__tfidf__ngram_range=(1, 1), union__tweet_text__tfidf__max_df=0.25, union__tweet_text__tfidf__ngram_range=(1, 1), score=0.8492647058823529, total=   0.6s\n",
      "[CV] clf__estimator__C=0.01, clf__estimator__class_weight=balanced, union__hour__tfidf__max_df=0.5, union__hour__tfidf__ngram_range=(1, 1), union__region_name__tfidf__max_df=0.25, union__region_name__tfidf__ngram_range=(1, 1), union__tweet_text__tfidf__max_df=0.5, union__tweet_text__tfidf__ngram_range=(1, 1) \n",
      "[CV]  clf__estimator__C=0.01, clf__estimator__class_weight=balanced, union__hour__tfidf__max_df=0.5, union__hour__tfidf__ngram_range=(1, 1), union__region_name__tfidf__max_df=0.25, union__region_name__tfidf__ngram_range=(1, 1), union__tweet_text__tfidf__max_df=0.5, union__tweet_text__tfidf__ngram_range=(1, 1), score=0.6556122448979592, total=   0.5s\n",
      "[CV] clf__estimator__C=0.01, clf__estimator__class_weight=balanced, union__hour__tfidf__max_df=0.5, union__hour__tfidf__ngram_range=(1, 1), union__region_name__tfidf__max_df=0.25, union__region_name__tfidf__ngram_range=(1, 1), union__tweet_text__tfidf__max_df=0.5, union__tweet_text__tfidf__ngram_range=(1, 1) \n",
      "[CV]  clf__estimator__C=0.01, clf__estimator__class_weight=balanced, union__hour__tfidf__max_df=0.5, union__hour__tfidf__ngram_range=(1, 1), union__region_name__tfidf__max_df=0.25, union__region_name__tfidf__ngram_range=(1, 1), union__tweet_text__tfidf__max_df=0.5, union__tweet_text__tfidf__ngram_range=(1, 1), score=0.7728706624605678, total=   0.5s\n",
      "[CV] clf__estimator__C=0.01, clf__estimator__class_weight=balanced, union__hour__tfidf__max_df=0.5, union__hour__tfidf__ngram_range=(1, 1), union__region_name__tfidf__max_df=0.25, union__region_name__tfidf__ngram_range=(1, 1), union__tweet_text__tfidf__max_df=0.5, union__tweet_text__tfidf__ngram_range=(1, 1) \n",
      "[CV]  clf__estimator__C=0.01, clf__estimator__class_weight=balanced, union__hour__tfidf__max_df=0.5, union__hour__tfidf__ngram_range=(1, 1), union__region_name__tfidf__max_df=0.25, union__region_name__tfidf__ngram_range=(1, 1), union__tweet_text__tfidf__max_df=0.5, union__tweet_text__tfidf__ngram_range=(1, 1), score=0.8088737201365188, total=   0.5s\n",
      "[CV] clf__estimator__C=0.01, clf__estimator__class_weight=balanced, union__hour__tfidf__max_df=0.5, union__hour__tfidf__ngram_range=(1, 1), union__region_name__tfidf__max_df=0.25, union__region_name__tfidf__ngram_range=(1, 1), union__tweet_text__tfidf__max_df=0.5, union__tweet_text__tfidf__ngram_range=(1, 1) \n",
      "[CV]  clf__estimator__C=0.01, clf__estimator__class_weight=balanced, union__hour__tfidf__max_df=0.5, union__hour__tfidf__ngram_range=(1, 1), union__region_name__tfidf__max_df=0.25, union__region_name__tfidf__ngram_range=(1, 1), union__tweet_text__tfidf__max_df=0.5, union__tweet_text__tfidf__ngram_range=(1, 1), score=0.841726618705036, total=   0.5s\n",
      "[CV] clf__estimator__C=0.01, clf__estimator__class_weight=balanced, union__hour__tfidf__max_df=0.5, union__hour__tfidf__ngram_range=(1, 1), union__region_name__tfidf__max_df=0.25, union__region_name__tfidf__ngram_range=(1, 1), union__tweet_text__tfidf__max_df=0.5, union__tweet_text__tfidf__ngram_range=(1, 1) \n",
      "[CV]  clf__estimator__C=0.01, clf__estimator__class_weight=balanced, union__hour__tfidf__max_df=0.5, union__hour__tfidf__ngram_range=(1, 1), union__region_name__tfidf__max_df=0.25, union__region_name__tfidf__ngram_range=(1, 1), union__tweet_text__tfidf__max_df=0.5, union__tweet_text__tfidf__ngram_range=(1, 1), score=0.8529411764705882, total=   0.5s\n",
      "[CV] clf__estimator__C=0.01, clf__estimator__class_weight=balanced, union__hour__tfidf__max_df=0.5, union__hour__tfidf__ngram_range=(1, 1), union__region_name__tfidf__max_df=0.5, union__region_name__tfidf__ngram_range=(1, 1), union__tweet_text__tfidf__max_df=0.25, union__tweet_text__tfidf__ngram_range=(1, 1) \n",
      "[CV]  clf__estimator__C=0.01, clf__estimator__class_weight=balanced, union__hour__tfidf__max_df=0.5, union__hour__tfidf__ngram_range=(1, 1), union__region_name__tfidf__max_df=0.5, union__region_name__tfidf__ngram_range=(1, 1), union__tweet_text__tfidf__max_df=0.25, union__tweet_text__tfidf__ngram_range=(1, 1), score=0.6607142857142857, total=   0.5s\n",
      "[CV] clf__estimator__C=0.01, clf__estimator__class_weight=balanced, union__hour__tfidf__max_df=0.5, union__hour__tfidf__ngram_range=(1, 1), union__region_name__tfidf__max_df=0.5, union__region_name__tfidf__ngram_range=(1, 1), union__tweet_text__tfidf__max_df=0.25, union__tweet_text__tfidf__ngram_range=(1, 1) \n",
      "[CV]  clf__estimator__C=0.01, clf__estimator__class_weight=balanced, union__hour__tfidf__max_df=0.5, union__hour__tfidf__ngram_range=(1, 1), union__region_name__tfidf__max_df=0.5, union__region_name__tfidf__ngram_range=(1, 1), union__tweet_text__tfidf__max_df=0.25, union__tweet_text__tfidf__ngram_range=(1, 1), score=0.7728706624605678, total=   0.6s\n",
      "[CV] clf__estimator__C=0.01, clf__estimator__class_weight=balanced, union__hour__tfidf__max_df=0.5, union__hour__tfidf__ngram_range=(1, 1), union__region_name__tfidf__max_df=0.5, union__region_name__tfidf__ngram_range=(1, 1), union__tweet_text__tfidf__max_df=0.25, union__tweet_text__tfidf__ngram_range=(1, 1) \n",
      "[CV]  clf__estimator__C=0.01, clf__estimator__class_weight=balanced, union__hour__tfidf__max_df=0.5, union__hour__tfidf__ngram_range=(1, 1), union__region_name__tfidf__max_df=0.5, union__region_name__tfidf__ngram_range=(1, 1), union__tweet_text__tfidf__max_df=0.25, union__tweet_text__tfidf__ngram_range=(1, 1), score=0.8122866894197952, total=   0.6s\n",
      "[CV] clf__estimator__C=0.01, clf__estimator__class_weight=balanced, union__hour__tfidf__max_df=0.5, union__hour__tfidf__ngram_range=(1, 1), union__region_name__tfidf__max_df=0.5, union__region_name__tfidf__ngram_range=(1, 1), union__tweet_text__tfidf__max_df=0.25, union__tweet_text__tfidf__ngram_range=(1, 1) \n",
      "[CV]  clf__estimator__C=0.01, clf__estimator__class_weight=balanced, union__hour__tfidf__max_df=0.5, union__hour__tfidf__ngram_range=(1, 1), union__region_name__tfidf__max_df=0.5, union__region_name__tfidf__ngram_range=(1, 1), union__tweet_text__tfidf__max_df=0.25, union__tweet_text__tfidf__ngram_range=(1, 1), score=0.8525179856115108, total=   0.6s\n",
      "[CV] clf__estimator__C=0.01, clf__estimator__class_weight=balanced, union__hour__tfidf__max_df=0.5, union__hour__tfidf__ngram_range=(1, 1), union__region_name__tfidf__max_df=0.5, union__region_name__tfidf__ngram_range=(1, 1), union__tweet_text__tfidf__max_df=0.25, union__tweet_text__tfidf__ngram_range=(1, 1) \n",
      "[CV]  clf__estimator__C=0.01, clf__estimator__class_weight=balanced, union__hour__tfidf__max_df=0.5, union__hour__tfidf__ngram_range=(1, 1), union__region_name__tfidf__max_df=0.5, union__region_name__tfidf__ngram_range=(1, 1), union__tweet_text__tfidf__max_df=0.25, union__tweet_text__tfidf__ngram_range=(1, 1), score=0.8455882352941176, total=   0.5s\n",
      "[CV] clf__estimator__C=0.01, clf__estimator__class_weight=balanced, union__hour__tfidf__max_df=0.5, union__hour__tfidf__ngram_range=(1, 1), union__region_name__tfidf__max_df=0.5, union__region_name__tfidf__ngram_range=(1, 1), union__tweet_text__tfidf__max_df=0.5, union__tweet_text__tfidf__ngram_range=(1, 1) \n"
     ]
    },
    {
     "name": "stdout",
     "output_type": "stream",
     "text": [
      "[CV]  clf__estimator__C=0.01, clf__estimator__class_weight=balanced, union__hour__tfidf__max_df=0.5, union__hour__tfidf__ngram_range=(1, 1), union__region_name__tfidf__max_df=0.5, union__region_name__tfidf__ngram_range=(1, 1), union__tweet_text__tfidf__max_df=0.5, union__tweet_text__tfidf__ngram_range=(1, 1), score=0.6556122448979592, total=   0.5s\n",
      "[CV] clf__estimator__C=0.01, clf__estimator__class_weight=balanced, union__hour__tfidf__max_df=0.5, union__hour__tfidf__ngram_range=(1, 1), union__region_name__tfidf__max_df=0.5, union__region_name__tfidf__ngram_range=(1, 1), union__tweet_text__tfidf__max_df=0.5, union__tweet_text__tfidf__ngram_range=(1, 1) \n",
      "[CV]  clf__estimator__C=0.01, clf__estimator__class_weight=balanced, union__hour__tfidf__max_df=0.5, union__hour__tfidf__ngram_range=(1, 1), union__region_name__tfidf__max_df=0.5, union__region_name__tfidf__ngram_range=(1, 1), union__tweet_text__tfidf__max_df=0.5, union__tweet_text__tfidf__ngram_range=(1, 1), score=0.7634069400630915, total=   0.5s\n",
      "[CV] clf__estimator__C=0.01, clf__estimator__class_weight=balanced, union__hour__tfidf__max_df=0.5, union__hour__tfidf__ngram_range=(1, 1), union__region_name__tfidf__max_df=0.5, union__region_name__tfidf__ngram_range=(1, 1), union__tweet_text__tfidf__max_df=0.5, union__tweet_text__tfidf__ngram_range=(1, 1) \n",
      "[CV]  clf__estimator__C=0.01, clf__estimator__class_weight=balanced, union__hour__tfidf__max_df=0.5, union__hour__tfidf__ngram_range=(1, 1), union__region_name__tfidf__max_df=0.5, union__region_name__tfidf__ngram_range=(1, 1), union__tweet_text__tfidf__max_df=0.5, union__tweet_text__tfidf__ngram_range=(1, 1), score=0.8054607508532423, total=   0.7s\n",
      "[CV] clf__estimator__C=0.01, clf__estimator__class_weight=balanced, union__hour__tfidf__max_df=0.5, union__hour__tfidf__ngram_range=(1, 1), union__region_name__tfidf__max_df=0.5, union__region_name__tfidf__ngram_range=(1, 1), union__tweet_text__tfidf__max_df=0.5, union__tweet_text__tfidf__ngram_range=(1, 1) \n",
      "[CV]  clf__estimator__C=0.01, clf__estimator__class_weight=balanced, union__hour__tfidf__max_df=0.5, union__hour__tfidf__ngram_range=(1, 1), union__region_name__tfidf__max_df=0.5, union__region_name__tfidf__ngram_range=(1, 1), union__tweet_text__tfidf__max_df=0.5, union__tweet_text__tfidf__ngram_range=(1, 1), score=0.8453237410071942, total=   0.8s\n",
      "[CV] clf__estimator__C=0.01, clf__estimator__class_weight=balanced, union__hour__tfidf__max_df=0.5, union__hour__tfidf__ngram_range=(1, 1), union__region_name__tfidf__max_df=0.5, union__region_name__tfidf__ngram_range=(1, 1), union__tweet_text__tfidf__max_df=0.5, union__tweet_text__tfidf__ngram_range=(1, 1) \n",
      "[CV]  clf__estimator__C=0.01, clf__estimator__class_weight=balanced, union__hour__tfidf__max_df=0.5, union__hour__tfidf__ngram_range=(1, 1), union__region_name__tfidf__max_df=0.5, union__region_name__tfidf__ngram_range=(1, 1), union__tweet_text__tfidf__max_df=0.5, union__tweet_text__tfidf__ngram_range=(1, 1), score=0.8455882352941176, total=   0.6s\n",
      "[CV] clf__estimator__C=0.01, clf__estimator__class_weight=None, union__hour__tfidf__max_df=0.25, union__hour__tfidf__ngram_range=(1, 1), union__region_name__tfidf__max_df=0.25, union__region_name__tfidf__ngram_range=(1, 1), union__tweet_text__tfidf__max_df=0.25, union__tweet_text__tfidf__ngram_range=(1, 1) \n",
      "[CV]  clf__estimator__C=0.01, clf__estimator__class_weight=None, union__hour__tfidf__max_df=0.25, union__hour__tfidf__ngram_range=(1, 1), union__region_name__tfidf__max_df=0.25, union__region_name__tfidf__ngram_range=(1, 1), union__tweet_text__tfidf__max_df=0.25, union__tweet_text__tfidf__ngram_range=(1, 1), score=0.3494897959183674, total=   0.5s\n",
      "[CV] clf__estimator__C=0.01, clf__estimator__class_weight=None, union__hour__tfidf__max_df=0.25, union__hour__tfidf__ngram_range=(1, 1), union__region_name__tfidf__max_df=0.25, union__region_name__tfidf__ngram_range=(1, 1), union__tweet_text__tfidf__max_df=0.25, union__tweet_text__tfidf__ngram_range=(1, 1) \n",
      "[CV]  clf__estimator__C=0.01, clf__estimator__class_weight=None, union__hour__tfidf__max_df=0.25, union__hour__tfidf__ngram_range=(1, 1), union__region_name__tfidf__max_df=0.25, union__region_name__tfidf__ngram_range=(1, 1), union__tweet_text__tfidf__max_df=0.25, union__tweet_text__tfidf__ngram_range=(1, 1), score=0.4353312302839117, total=   0.5s\n",
      "[CV] clf__estimator__C=0.01, clf__estimator__class_weight=None, union__hour__tfidf__max_df=0.25, union__hour__tfidf__ngram_range=(1, 1), union__region_name__tfidf__max_df=0.25, union__region_name__tfidf__ngram_range=(1, 1), union__tweet_text__tfidf__max_df=0.25, union__tweet_text__tfidf__ngram_range=(1, 1) \n",
      "[CV]  clf__estimator__C=0.01, clf__estimator__class_weight=None, union__hour__tfidf__max_df=0.25, union__hour__tfidf__ngram_range=(1, 1), union__region_name__tfidf__max_df=0.25, union__region_name__tfidf__ngram_range=(1, 1), union__tweet_text__tfidf__max_df=0.25, union__tweet_text__tfidf__ngram_range=(1, 1), score=0.5017064846416383, total=   0.4s\n",
      "[CV] clf__estimator__C=0.01, clf__estimator__class_weight=None, union__hour__tfidf__max_df=0.25, union__hour__tfidf__ngram_range=(1, 1), union__region_name__tfidf__max_df=0.25, union__region_name__tfidf__ngram_range=(1, 1), union__tweet_text__tfidf__max_df=0.25, union__tweet_text__tfidf__ngram_range=(1, 1) \n",
      "[CV]  clf__estimator__C=0.01, clf__estimator__class_weight=None, union__hour__tfidf__max_df=0.25, union__hour__tfidf__ngram_range=(1, 1), union__region_name__tfidf__max_df=0.25, union__region_name__tfidf__ngram_range=(1, 1), union__tweet_text__tfidf__max_df=0.25, union__tweet_text__tfidf__ngram_range=(1, 1), score=0.48201438848920863, total=   0.4s\n",
      "[CV] clf__estimator__C=0.01, clf__estimator__class_weight=None, union__hour__tfidf__max_df=0.25, union__hour__tfidf__ngram_range=(1, 1), union__region_name__tfidf__max_df=0.25, union__region_name__tfidf__ngram_range=(1, 1), union__tweet_text__tfidf__max_df=0.25, union__tweet_text__tfidf__ngram_range=(1, 1) \n",
      "[CV]  clf__estimator__C=0.01, clf__estimator__class_weight=None, union__hour__tfidf__max_df=0.25, union__hour__tfidf__ngram_range=(1, 1), union__region_name__tfidf__max_df=0.25, union__region_name__tfidf__ngram_range=(1, 1), union__tweet_text__tfidf__max_df=0.25, union__tweet_text__tfidf__ngram_range=(1, 1), score=0.5110294117647058, total=   0.4s\n",
      "[CV] clf__estimator__C=0.01, clf__estimator__class_weight=None, union__hour__tfidf__max_df=0.25, union__hour__tfidf__ngram_range=(1, 1), union__region_name__tfidf__max_df=0.25, union__region_name__tfidf__ngram_range=(1, 1), union__tweet_text__tfidf__max_df=0.5, union__tweet_text__tfidf__ngram_range=(1, 1) \n",
      "[CV]  clf__estimator__C=0.01, clf__estimator__class_weight=None, union__hour__tfidf__max_df=0.25, union__hour__tfidf__ngram_range=(1, 1), union__region_name__tfidf__max_df=0.25, union__region_name__tfidf__ngram_range=(1, 1), union__tweet_text__tfidf__max_df=0.5, union__tweet_text__tfidf__ngram_range=(1, 1), score=0.3469387755102041, total=   0.4s\n",
      "[CV] clf__estimator__C=0.01, clf__estimator__class_weight=None, union__hour__tfidf__max_df=0.25, union__hour__tfidf__ngram_range=(1, 1), union__region_name__tfidf__max_df=0.25, union__region_name__tfidf__ngram_range=(1, 1), union__tweet_text__tfidf__max_df=0.5, union__tweet_text__tfidf__ngram_range=(1, 1) \n",
      "[CV]  clf__estimator__C=0.01, clf__estimator__class_weight=None, union__hour__tfidf__max_df=0.25, union__hour__tfidf__ngram_range=(1, 1), union__region_name__tfidf__max_df=0.25, union__region_name__tfidf__ngram_range=(1, 1), union__tweet_text__tfidf__max_df=0.5, union__tweet_text__tfidf__ngram_range=(1, 1), score=0.42902208201892744, total=   0.4s\n",
      "[CV] clf__estimator__C=0.01, clf__estimator__class_weight=None, union__hour__tfidf__max_df=0.25, union__hour__tfidf__ngram_range=(1, 1), union__region_name__tfidf__max_df=0.25, union__region_name__tfidf__ngram_range=(1, 1), union__tweet_text__tfidf__max_df=0.5, union__tweet_text__tfidf__ngram_range=(1, 1) \n",
      "[CV]  clf__estimator__C=0.01, clf__estimator__class_weight=None, union__hour__tfidf__max_df=0.25, union__hour__tfidf__ngram_range=(1, 1), union__region_name__tfidf__max_df=0.25, union__region_name__tfidf__ngram_range=(1, 1), union__tweet_text__tfidf__max_df=0.5, union__tweet_text__tfidf__ngram_range=(1, 1), score=0.5017064846416383, total=   0.4s\n",
      "[CV] clf__estimator__C=0.01, clf__estimator__class_weight=None, union__hour__tfidf__max_df=0.25, union__hour__tfidf__ngram_range=(1, 1), union__region_name__tfidf__max_df=0.25, union__region_name__tfidf__ngram_range=(1, 1), union__tweet_text__tfidf__max_df=0.5, union__tweet_text__tfidf__ngram_range=(1, 1) \n"
     ]
    },
    {
     "name": "stdout",
     "output_type": "stream",
     "text": [
      "[CV]  clf__estimator__C=0.01, clf__estimator__class_weight=None, union__hour__tfidf__max_df=0.25, union__hour__tfidf__ngram_range=(1, 1), union__region_name__tfidf__max_df=0.25, union__region_name__tfidf__ngram_range=(1, 1), union__tweet_text__tfidf__max_df=0.5, union__tweet_text__tfidf__ngram_range=(1, 1), score=0.4712230215827338, total=   0.4s\n",
      "[CV] clf__estimator__C=0.01, clf__estimator__class_weight=None, union__hour__tfidf__max_df=0.25, union__hour__tfidf__ngram_range=(1, 1), union__region_name__tfidf__max_df=0.25, union__region_name__tfidf__ngram_range=(1, 1), union__tweet_text__tfidf__max_df=0.5, union__tweet_text__tfidf__ngram_range=(1, 1) \n",
      "[CV]  clf__estimator__C=0.01, clf__estimator__class_weight=None, union__hour__tfidf__max_df=0.25, union__hour__tfidf__ngram_range=(1, 1), union__region_name__tfidf__max_df=0.25, union__region_name__tfidf__ngram_range=(1, 1), union__tweet_text__tfidf__max_df=0.5, union__tweet_text__tfidf__ngram_range=(1, 1), score=0.5183823529411765, total=   0.4s\n",
      "[CV] clf__estimator__C=0.01, clf__estimator__class_weight=None, union__hour__tfidf__max_df=0.25, union__hour__tfidf__ngram_range=(1, 1), union__region_name__tfidf__max_df=0.5, union__region_name__tfidf__ngram_range=(1, 1), union__tweet_text__tfidf__max_df=0.25, union__tweet_text__tfidf__ngram_range=(1, 1) \n",
      "[CV]  clf__estimator__C=0.01, clf__estimator__class_weight=None, union__hour__tfidf__max_df=0.25, union__hour__tfidf__ngram_range=(1, 1), union__region_name__tfidf__max_df=0.5, union__region_name__tfidf__ngram_range=(1, 1), union__tweet_text__tfidf__max_df=0.25, union__tweet_text__tfidf__ngram_range=(1, 1), score=0.3520408163265306, total=   0.4s\n",
      "[CV] clf__estimator__C=0.01, clf__estimator__class_weight=None, union__hour__tfidf__max_df=0.25, union__hour__tfidf__ngram_range=(1, 1), union__region_name__tfidf__max_df=0.5, union__region_name__tfidf__ngram_range=(1, 1), union__tweet_text__tfidf__max_df=0.25, union__tweet_text__tfidf__ngram_range=(1, 1) \n",
      "[CV]  clf__estimator__C=0.01, clf__estimator__class_weight=None, union__hour__tfidf__max_df=0.25, union__hour__tfidf__ngram_range=(1, 1), union__region_name__tfidf__max_df=0.5, union__region_name__tfidf__ngram_range=(1, 1), union__tweet_text__tfidf__max_df=0.25, union__tweet_text__tfidf__ngram_range=(1, 1), score=0.4353312302839117, total=   0.4s\n",
      "[CV] clf__estimator__C=0.01, clf__estimator__class_weight=None, union__hour__tfidf__max_df=0.25, union__hour__tfidf__ngram_range=(1, 1), union__region_name__tfidf__max_df=0.5, union__region_name__tfidf__ngram_range=(1, 1), union__tweet_text__tfidf__max_df=0.25, union__tweet_text__tfidf__ngram_range=(1, 1) \n",
      "[CV]  clf__estimator__C=0.01, clf__estimator__class_weight=None, union__hour__tfidf__max_df=0.25, union__hour__tfidf__ngram_range=(1, 1), union__region_name__tfidf__max_df=0.5, union__region_name__tfidf__ngram_range=(1, 1), union__tweet_text__tfidf__max_df=0.25, union__tweet_text__tfidf__ngram_range=(1, 1), score=0.5017064846416383, total=   0.4s\n",
      "[CV] clf__estimator__C=0.01, clf__estimator__class_weight=None, union__hour__tfidf__max_df=0.25, union__hour__tfidf__ngram_range=(1, 1), union__region_name__tfidf__max_df=0.5, union__region_name__tfidf__ngram_range=(1, 1), union__tweet_text__tfidf__max_df=0.25, union__tweet_text__tfidf__ngram_range=(1, 1) \n",
      "[CV]  clf__estimator__C=0.01, clf__estimator__class_weight=None, union__hour__tfidf__max_df=0.25, union__hour__tfidf__ngram_range=(1, 1), union__region_name__tfidf__max_df=0.5, union__region_name__tfidf__ngram_range=(1, 1), union__tweet_text__tfidf__max_df=0.25, union__tweet_text__tfidf__ngram_range=(1, 1), score=0.4712230215827338, total=   0.4s\n",
      "[CV] clf__estimator__C=0.01, clf__estimator__class_weight=None, union__hour__tfidf__max_df=0.25, union__hour__tfidf__ngram_range=(1, 1), union__region_name__tfidf__max_df=0.5, union__region_name__tfidf__ngram_range=(1, 1), union__tweet_text__tfidf__max_df=0.25, union__tweet_text__tfidf__ngram_range=(1, 1) \n",
      "[CV]  clf__estimator__C=0.01, clf__estimator__class_weight=None, union__hour__tfidf__max_df=0.25, union__hour__tfidf__ngram_range=(1, 1), union__region_name__tfidf__max_df=0.5, union__region_name__tfidf__ngram_range=(1, 1), union__tweet_text__tfidf__max_df=0.25, union__tweet_text__tfidf__ngram_range=(1, 1), score=0.5110294117647058, total=   0.4s\n",
      "[CV] clf__estimator__C=0.01, clf__estimator__class_weight=None, union__hour__tfidf__max_df=0.25, union__hour__tfidf__ngram_range=(1, 1), union__region_name__tfidf__max_df=0.5, union__region_name__tfidf__ngram_range=(1, 1), union__tweet_text__tfidf__max_df=0.5, union__tweet_text__tfidf__ngram_range=(1, 1) \n",
      "[CV]  clf__estimator__C=0.01, clf__estimator__class_weight=None, union__hour__tfidf__max_df=0.25, union__hour__tfidf__ngram_range=(1, 1), union__region_name__tfidf__max_df=0.5, union__region_name__tfidf__ngram_range=(1, 1), union__tweet_text__tfidf__max_df=0.5, union__tweet_text__tfidf__ngram_range=(1, 1), score=0.3494897959183674, total=   0.4s\n",
      "[CV] clf__estimator__C=0.01, clf__estimator__class_weight=None, union__hour__tfidf__max_df=0.25, union__hour__tfidf__ngram_range=(1, 1), union__region_name__tfidf__max_df=0.5, union__region_name__tfidf__ngram_range=(1, 1), union__tweet_text__tfidf__max_df=0.5, union__tweet_text__tfidf__ngram_range=(1, 1) \n",
      "[CV]  clf__estimator__C=0.01, clf__estimator__class_weight=None, union__hour__tfidf__max_df=0.25, union__hour__tfidf__ngram_range=(1, 1), union__region_name__tfidf__max_df=0.5, union__region_name__tfidf__ngram_range=(1, 1), union__tweet_text__tfidf__max_df=0.5, union__tweet_text__tfidf__ngram_range=(1, 1), score=0.42586750788643535, total=   0.4s\n",
      "[CV] clf__estimator__C=0.01, clf__estimator__class_weight=None, union__hour__tfidf__max_df=0.25, union__hour__tfidf__ngram_range=(1, 1), union__region_name__tfidf__max_df=0.5, union__region_name__tfidf__ngram_range=(1, 1), union__tweet_text__tfidf__max_df=0.5, union__tweet_text__tfidf__ngram_range=(1, 1) \n",
      "[CV]  clf__estimator__C=0.01, clf__estimator__class_weight=None, union__hour__tfidf__max_df=0.25, union__hour__tfidf__ngram_range=(1, 1), union__region_name__tfidf__max_df=0.5, union__region_name__tfidf__ngram_range=(1, 1), union__tweet_text__tfidf__max_df=0.5, union__tweet_text__tfidf__ngram_range=(1, 1), score=0.5051194539249146, total=   0.4s\n",
      "[CV] clf__estimator__C=0.01, clf__estimator__class_weight=None, union__hour__tfidf__max_df=0.25, union__hour__tfidf__ngram_range=(1, 1), union__region_name__tfidf__max_df=0.5, union__region_name__tfidf__ngram_range=(1, 1), union__tweet_text__tfidf__max_df=0.5, union__tweet_text__tfidf__ngram_range=(1, 1) \n",
      "[CV]  clf__estimator__C=0.01, clf__estimator__class_weight=None, union__hour__tfidf__max_df=0.25, union__hour__tfidf__ngram_range=(1, 1), union__region_name__tfidf__max_df=0.5, union__region_name__tfidf__ngram_range=(1, 1), union__tweet_text__tfidf__max_df=0.5, union__tweet_text__tfidf__ngram_range=(1, 1), score=0.4748201438848921, total=   0.5s\n",
      "[CV] clf__estimator__C=0.01, clf__estimator__class_weight=None, union__hour__tfidf__max_df=0.25, union__hour__tfidf__ngram_range=(1, 1), union__region_name__tfidf__max_df=0.5, union__region_name__tfidf__ngram_range=(1, 1), union__tweet_text__tfidf__max_df=0.5, union__tweet_text__tfidf__ngram_range=(1, 1) \n",
      "[CV]  clf__estimator__C=0.01, clf__estimator__class_weight=None, union__hour__tfidf__max_df=0.25, union__hour__tfidf__ngram_range=(1, 1), union__region_name__tfidf__max_df=0.5, union__region_name__tfidf__ngram_range=(1, 1), union__tweet_text__tfidf__max_df=0.5, union__tweet_text__tfidf__ngram_range=(1, 1), score=0.5110294117647058, total=   0.4s\n",
      "[CV] clf__estimator__C=0.01, clf__estimator__class_weight=None, union__hour__tfidf__max_df=0.5, union__hour__tfidf__ngram_range=(1, 1), union__region_name__tfidf__max_df=0.25, union__region_name__tfidf__ngram_range=(1, 1), union__tweet_text__tfidf__max_df=0.25, union__tweet_text__tfidf__ngram_range=(1, 1) \n",
      "[CV]  clf__estimator__C=0.01, clf__estimator__class_weight=None, union__hour__tfidf__max_df=0.5, union__hour__tfidf__ngram_range=(1, 1), union__region_name__tfidf__max_df=0.25, union__region_name__tfidf__ngram_range=(1, 1), union__tweet_text__tfidf__max_df=0.25, union__tweet_text__tfidf__ngram_range=(1, 1), score=0.3494897959183674, total=   0.4s\n",
      "[CV] clf__estimator__C=0.01, clf__estimator__class_weight=None, union__hour__tfidf__max_df=0.5, union__hour__tfidf__ngram_range=(1, 1), union__region_name__tfidf__max_df=0.25, union__region_name__tfidf__ngram_range=(1, 1), union__tweet_text__tfidf__max_df=0.25, union__tweet_text__tfidf__ngram_range=(1, 1) \n"
     ]
    },
    {
     "name": "stdout",
     "output_type": "stream",
     "text": [
      "[CV]  clf__estimator__C=0.01, clf__estimator__class_weight=None, union__hour__tfidf__max_df=0.5, union__hour__tfidf__ngram_range=(1, 1), union__region_name__tfidf__max_df=0.25, union__region_name__tfidf__ngram_range=(1, 1), union__tweet_text__tfidf__max_df=0.25, union__tweet_text__tfidf__ngram_range=(1, 1), score=0.4353312302839117, total=   0.4s\n",
      "[CV] clf__estimator__C=0.01, clf__estimator__class_weight=None, union__hour__tfidf__max_df=0.5, union__hour__tfidf__ngram_range=(1, 1), union__region_name__tfidf__max_df=0.25, union__region_name__tfidf__ngram_range=(1, 1), union__tweet_text__tfidf__max_df=0.25, union__tweet_text__tfidf__ngram_range=(1, 1) \n",
      "[CV]  clf__estimator__C=0.01, clf__estimator__class_weight=None, union__hour__tfidf__max_df=0.5, union__hour__tfidf__ngram_range=(1, 1), union__region_name__tfidf__max_df=0.25, union__region_name__tfidf__ngram_range=(1, 1), union__tweet_text__tfidf__max_df=0.25, union__tweet_text__tfidf__ngram_range=(1, 1), score=0.5017064846416383, total=   0.4s\n",
      "[CV] clf__estimator__C=0.01, clf__estimator__class_weight=None, union__hour__tfidf__max_df=0.5, union__hour__tfidf__ngram_range=(1, 1), union__region_name__tfidf__max_df=0.25, union__region_name__tfidf__ngram_range=(1, 1), union__tweet_text__tfidf__max_df=0.25, union__tweet_text__tfidf__ngram_range=(1, 1) \n",
      "[CV]  clf__estimator__C=0.01, clf__estimator__class_weight=None, union__hour__tfidf__max_df=0.5, union__hour__tfidf__ngram_range=(1, 1), union__region_name__tfidf__max_df=0.25, union__region_name__tfidf__ngram_range=(1, 1), union__tweet_text__tfidf__max_df=0.25, union__tweet_text__tfidf__ngram_range=(1, 1), score=0.48201438848920863, total=   0.4s\n",
      "[CV] clf__estimator__C=0.01, clf__estimator__class_weight=None, union__hour__tfidf__max_df=0.5, union__hour__tfidf__ngram_range=(1, 1), union__region_name__tfidf__max_df=0.25, union__region_name__tfidf__ngram_range=(1, 1), union__tweet_text__tfidf__max_df=0.25, union__tweet_text__tfidf__ngram_range=(1, 1) \n",
      "[CV]  clf__estimator__C=0.01, clf__estimator__class_weight=None, union__hour__tfidf__max_df=0.5, union__hour__tfidf__ngram_range=(1, 1), union__region_name__tfidf__max_df=0.25, union__region_name__tfidf__ngram_range=(1, 1), union__tweet_text__tfidf__max_df=0.25, union__tweet_text__tfidf__ngram_range=(1, 1), score=0.5110294117647058, total=   0.4s\n",
      "[CV] clf__estimator__C=0.01, clf__estimator__class_weight=None, union__hour__tfidf__max_df=0.5, union__hour__tfidf__ngram_range=(1, 1), union__region_name__tfidf__max_df=0.25, union__region_name__tfidf__ngram_range=(1, 1), union__tweet_text__tfidf__max_df=0.5, union__tweet_text__tfidf__ngram_range=(1, 1) \n",
      "[CV]  clf__estimator__C=0.01, clf__estimator__class_weight=None, union__hour__tfidf__max_df=0.5, union__hour__tfidf__ngram_range=(1, 1), union__region_name__tfidf__max_df=0.25, union__region_name__tfidf__ngram_range=(1, 1), union__tweet_text__tfidf__max_df=0.5, union__tweet_text__tfidf__ngram_range=(1, 1), score=0.3469387755102041, total=   0.4s\n",
      "[CV] clf__estimator__C=0.01, clf__estimator__class_weight=None, union__hour__tfidf__max_df=0.5, union__hour__tfidf__ngram_range=(1, 1), union__region_name__tfidf__max_df=0.25, union__region_name__tfidf__ngram_range=(1, 1), union__tweet_text__tfidf__max_df=0.5, union__tweet_text__tfidf__ngram_range=(1, 1) \n",
      "[CV]  clf__estimator__C=0.01, clf__estimator__class_weight=None, union__hour__tfidf__max_df=0.5, union__hour__tfidf__ngram_range=(1, 1), union__region_name__tfidf__max_df=0.25, union__region_name__tfidf__ngram_range=(1, 1), union__tweet_text__tfidf__max_df=0.5, union__tweet_text__tfidf__ngram_range=(1, 1), score=0.42902208201892744, total=   0.4s\n",
      "[CV] clf__estimator__C=0.01, clf__estimator__class_weight=None, union__hour__tfidf__max_df=0.5, union__hour__tfidf__ngram_range=(1, 1), union__region_name__tfidf__max_df=0.25, union__region_name__tfidf__ngram_range=(1, 1), union__tweet_text__tfidf__max_df=0.5, union__tweet_text__tfidf__ngram_range=(1, 1) \n",
      "[CV]  clf__estimator__C=0.01, clf__estimator__class_weight=None, union__hour__tfidf__max_df=0.5, union__hour__tfidf__ngram_range=(1, 1), union__region_name__tfidf__max_df=0.25, union__region_name__tfidf__ngram_range=(1, 1), union__tweet_text__tfidf__max_df=0.5, union__tweet_text__tfidf__ngram_range=(1, 1), score=0.5017064846416383, total=   0.4s\n",
      "[CV] clf__estimator__C=0.01, clf__estimator__class_weight=None, union__hour__tfidf__max_df=0.5, union__hour__tfidf__ngram_range=(1, 1), union__region_name__tfidf__max_df=0.25, union__region_name__tfidf__ngram_range=(1, 1), union__tweet_text__tfidf__max_df=0.5, union__tweet_text__tfidf__ngram_range=(1, 1) \n",
      "[CV]  clf__estimator__C=0.01, clf__estimator__class_weight=None, union__hour__tfidf__max_df=0.5, union__hour__tfidf__ngram_range=(1, 1), union__region_name__tfidf__max_df=0.25, union__region_name__tfidf__ngram_range=(1, 1), union__tweet_text__tfidf__max_df=0.5, union__tweet_text__tfidf__ngram_range=(1, 1), score=0.4712230215827338, total=   0.4s\n",
      "[CV] clf__estimator__C=0.01, clf__estimator__class_weight=None, union__hour__tfidf__max_df=0.5, union__hour__tfidf__ngram_range=(1, 1), union__region_name__tfidf__max_df=0.25, union__region_name__tfidf__ngram_range=(1, 1), union__tweet_text__tfidf__max_df=0.5, union__tweet_text__tfidf__ngram_range=(1, 1) \n",
      "[CV]  clf__estimator__C=0.01, clf__estimator__class_weight=None, union__hour__tfidf__max_df=0.5, union__hour__tfidf__ngram_range=(1, 1), union__region_name__tfidf__max_df=0.25, union__region_name__tfidf__ngram_range=(1, 1), union__tweet_text__tfidf__max_df=0.5, union__tweet_text__tfidf__ngram_range=(1, 1), score=0.5183823529411765, total=   0.4s\n",
      "[CV] clf__estimator__C=0.01, clf__estimator__class_weight=None, union__hour__tfidf__max_df=0.5, union__hour__tfidf__ngram_range=(1, 1), union__region_name__tfidf__max_df=0.5, union__region_name__tfidf__ngram_range=(1, 1), union__tweet_text__tfidf__max_df=0.25, union__tweet_text__tfidf__ngram_range=(1, 1) \n",
      "[CV]  clf__estimator__C=0.01, clf__estimator__class_weight=None, union__hour__tfidf__max_df=0.5, union__hour__tfidf__ngram_range=(1, 1), union__region_name__tfidf__max_df=0.5, union__region_name__tfidf__ngram_range=(1, 1), union__tweet_text__tfidf__max_df=0.25, union__tweet_text__tfidf__ngram_range=(1, 1), score=0.3520408163265306, total=   0.4s\n",
      "[CV] clf__estimator__C=0.01, clf__estimator__class_weight=None, union__hour__tfidf__max_df=0.5, union__hour__tfidf__ngram_range=(1, 1), union__region_name__tfidf__max_df=0.5, union__region_name__tfidf__ngram_range=(1, 1), union__tweet_text__tfidf__max_df=0.25, union__tweet_text__tfidf__ngram_range=(1, 1) \n",
      "[CV]  clf__estimator__C=0.01, clf__estimator__class_weight=None, union__hour__tfidf__max_df=0.5, union__hour__tfidf__ngram_range=(1, 1), union__region_name__tfidf__max_df=0.5, union__region_name__tfidf__ngram_range=(1, 1), union__tweet_text__tfidf__max_df=0.25, union__tweet_text__tfidf__ngram_range=(1, 1), score=0.4353312302839117, total=   0.4s\n",
      "[CV] clf__estimator__C=0.01, clf__estimator__class_weight=None, union__hour__tfidf__max_df=0.5, union__hour__tfidf__ngram_range=(1, 1), union__region_name__tfidf__max_df=0.5, union__region_name__tfidf__ngram_range=(1, 1), union__tweet_text__tfidf__max_df=0.25, union__tweet_text__tfidf__ngram_range=(1, 1) \n",
      "[CV]  clf__estimator__C=0.01, clf__estimator__class_weight=None, union__hour__tfidf__max_df=0.5, union__hour__tfidf__ngram_range=(1, 1), union__region_name__tfidf__max_df=0.5, union__region_name__tfidf__ngram_range=(1, 1), union__tweet_text__tfidf__max_df=0.25, union__tweet_text__tfidf__ngram_range=(1, 1), score=0.5017064846416383, total=   0.4s\n",
      "[CV] clf__estimator__C=0.01, clf__estimator__class_weight=None, union__hour__tfidf__max_df=0.5, union__hour__tfidf__ngram_range=(1, 1), union__region_name__tfidf__max_df=0.5, union__region_name__tfidf__ngram_range=(1, 1), union__tweet_text__tfidf__max_df=0.25, union__tweet_text__tfidf__ngram_range=(1, 1) \n",
      "[CV]  clf__estimator__C=0.01, clf__estimator__class_weight=None, union__hour__tfidf__max_df=0.5, union__hour__tfidf__ngram_range=(1, 1), union__region_name__tfidf__max_df=0.5, union__region_name__tfidf__ngram_range=(1, 1), union__tweet_text__tfidf__max_df=0.25, union__tweet_text__tfidf__ngram_range=(1, 1), score=0.4712230215827338, total=   0.4s\n",
      "[CV] clf__estimator__C=0.01, clf__estimator__class_weight=None, union__hour__tfidf__max_df=0.5, union__hour__tfidf__ngram_range=(1, 1), union__region_name__tfidf__max_df=0.5, union__region_name__tfidf__ngram_range=(1, 1), union__tweet_text__tfidf__max_df=0.25, union__tweet_text__tfidf__ngram_range=(1, 1) \n"
     ]
    },
    {
     "name": "stdout",
     "output_type": "stream",
     "text": [
      "[CV]  clf__estimator__C=0.01, clf__estimator__class_weight=None, union__hour__tfidf__max_df=0.5, union__hour__tfidf__ngram_range=(1, 1), union__region_name__tfidf__max_df=0.5, union__region_name__tfidf__ngram_range=(1, 1), union__tweet_text__tfidf__max_df=0.25, union__tweet_text__tfidf__ngram_range=(1, 1), score=0.5110294117647058, total=   0.4s\n",
      "[CV] clf__estimator__C=0.01, clf__estimator__class_weight=None, union__hour__tfidf__max_df=0.5, union__hour__tfidf__ngram_range=(1, 1), union__region_name__tfidf__max_df=0.5, union__region_name__tfidf__ngram_range=(1, 1), union__tweet_text__tfidf__max_df=0.5, union__tweet_text__tfidf__ngram_range=(1, 1) \n",
      "[CV]  clf__estimator__C=0.01, clf__estimator__class_weight=None, union__hour__tfidf__max_df=0.5, union__hour__tfidf__ngram_range=(1, 1), union__region_name__tfidf__max_df=0.5, union__region_name__tfidf__ngram_range=(1, 1), union__tweet_text__tfidf__max_df=0.5, union__tweet_text__tfidf__ngram_range=(1, 1), score=0.3494897959183674, total=   0.4s\n",
      "[CV] clf__estimator__C=0.01, clf__estimator__class_weight=None, union__hour__tfidf__max_df=0.5, union__hour__tfidf__ngram_range=(1, 1), union__region_name__tfidf__max_df=0.5, union__region_name__tfidf__ngram_range=(1, 1), union__tweet_text__tfidf__max_df=0.5, union__tweet_text__tfidf__ngram_range=(1, 1) \n",
      "[CV]  clf__estimator__C=0.01, clf__estimator__class_weight=None, union__hour__tfidf__max_df=0.5, union__hour__tfidf__ngram_range=(1, 1), union__region_name__tfidf__max_df=0.5, union__region_name__tfidf__ngram_range=(1, 1), union__tweet_text__tfidf__max_df=0.5, union__tweet_text__tfidf__ngram_range=(1, 1), score=0.42586750788643535, total=   0.4s\n",
      "[CV] clf__estimator__C=0.01, clf__estimator__class_weight=None, union__hour__tfidf__max_df=0.5, union__hour__tfidf__ngram_range=(1, 1), union__region_name__tfidf__max_df=0.5, union__region_name__tfidf__ngram_range=(1, 1), union__tweet_text__tfidf__max_df=0.5, union__tweet_text__tfidf__ngram_range=(1, 1) \n",
      "[CV]  clf__estimator__C=0.01, clf__estimator__class_weight=None, union__hour__tfidf__max_df=0.5, union__hour__tfidf__ngram_range=(1, 1), union__region_name__tfidf__max_df=0.5, union__region_name__tfidf__ngram_range=(1, 1), union__tweet_text__tfidf__max_df=0.5, union__tweet_text__tfidf__ngram_range=(1, 1), score=0.5051194539249146, total=   0.4s\n",
      "[CV] clf__estimator__C=0.01, clf__estimator__class_weight=None, union__hour__tfidf__max_df=0.5, union__hour__tfidf__ngram_range=(1, 1), union__region_name__tfidf__max_df=0.5, union__region_name__tfidf__ngram_range=(1, 1), union__tweet_text__tfidf__max_df=0.5, union__tweet_text__tfidf__ngram_range=(1, 1) \n",
      "[CV]  clf__estimator__C=0.01, clf__estimator__class_weight=None, union__hour__tfidf__max_df=0.5, union__hour__tfidf__ngram_range=(1, 1), union__region_name__tfidf__max_df=0.5, union__region_name__tfidf__ngram_range=(1, 1), union__tweet_text__tfidf__max_df=0.5, union__tweet_text__tfidf__ngram_range=(1, 1), score=0.4748201438848921, total=   0.4s\n",
      "[CV] clf__estimator__C=0.01, clf__estimator__class_weight=None, union__hour__tfidf__max_df=0.5, union__hour__tfidf__ngram_range=(1, 1), union__region_name__tfidf__max_df=0.5, union__region_name__tfidf__ngram_range=(1, 1), union__tweet_text__tfidf__max_df=0.5, union__tweet_text__tfidf__ngram_range=(1, 1) \n",
      "[CV]  clf__estimator__C=0.01, clf__estimator__class_weight=None, union__hour__tfidf__max_df=0.5, union__hour__tfidf__ngram_range=(1, 1), union__region_name__tfidf__max_df=0.5, union__region_name__tfidf__ngram_range=(1, 1), union__tweet_text__tfidf__max_df=0.5, union__tweet_text__tfidf__ngram_range=(1, 1), score=0.5110294117647058, total=   0.4s\n",
      "[CV] clf__estimator__C=0.1, clf__estimator__class_weight=balanced, union__hour__tfidf__max_df=0.25, union__hour__tfidf__ngram_range=(1, 1), union__region_name__tfidf__max_df=0.25, union__region_name__tfidf__ngram_range=(1, 1), union__tweet_text__tfidf__max_df=0.25, union__tweet_text__tfidf__ngram_range=(1, 1) \n",
      "[CV]  clf__estimator__C=0.1, clf__estimator__class_weight=balanced, union__hour__tfidf__max_df=0.25, union__hour__tfidf__ngram_range=(1, 1), union__region_name__tfidf__max_df=0.25, union__region_name__tfidf__ngram_range=(1, 1), union__tweet_text__tfidf__max_df=0.25, union__tweet_text__tfidf__ngram_range=(1, 1), score=0.6811224489795918, total=   0.4s\n",
      "[CV] clf__estimator__C=0.1, clf__estimator__class_weight=balanced, union__hour__tfidf__max_df=0.25, union__hour__tfidf__ngram_range=(1, 1), union__region_name__tfidf__max_df=0.25, union__region_name__tfidf__ngram_range=(1, 1), union__tweet_text__tfidf__max_df=0.25, union__tweet_text__tfidf__ngram_range=(1, 1) \n",
      "[CV]  clf__estimator__C=0.1, clf__estimator__class_weight=balanced, union__hour__tfidf__max_df=0.25, union__hour__tfidf__ngram_range=(1, 1), union__region_name__tfidf__max_df=0.25, union__region_name__tfidf__ngram_range=(1, 1), union__tweet_text__tfidf__max_df=0.25, union__tweet_text__tfidf__ngram_range=(1, 1), score=0.8012618296529969, total=   0.4s\n",
      "[CV] clf__estimator__C=0.1, clf__estimator__class_weight=balanced, union__hour__tfidf__max_df=0.25, union__hour__tfidf__ngram_range=(1, 1), union__region_name__tfidf__max_df=0.25, union__region_name__tfidf__ngram_range=(1, 1), union__tweet_text__tfidf__max_df=0.25, union__tweet_text__tfidf__ngram_range=(1, 1) \n",
      "[CV]  clf__estimator__C=0.1, clf__estimator__class_weight=balanced, union__hour__tfidf__max_df=0.25, union__hour__tfidf__ngram_range=(1, 1), union__region_name__tfidf__max_df=0.25, union__region_name__tfidf__ngram_range=(1, 1), union__tweet_text__tfidf__max_df=0.25, union__tweet_text__tfidf__ngram_range=(1, 1), score=0.8703071672354948, total=   0.5s\n",
      "[CV] clf__estimator__C=0.1, clf__estimator__class_weight=balanced, union__hour__tfidf__max_df=0.25, union__hour__tfidf__ngram_range=(1, 1), union__region_name__tfidf__max_df=0.25, union__region_name__tfidf__ngram_range=(1, 1), union__tweet_text__tfidf__max_df=0.25, union__tweet_text__tfidf__ngram_range=(1, 1) \n",
      "[CV]  clf__estimator__C=0.1, clf__estimator__class_weight=balanced, union__hour__tfidf__max_df=0.25, union__hour__tfidf__ngram_range=(1, 1), union__region_name__tfidf__max_df=0.25, union__region_name__tfidf__ngram_range=(1, 1), union__tweet_text__tfidf__max_df=0.25, union__tweet_text__tfidf__ngram_range=(1, 1), score=0.8920863309352518, total=   0.5s\n",
      "[CV] clf__estimator__C=0.1, clf__estimator__class_weight=balanced, union__hour__tfidf__max_df=0.25, union__hour__tfidf__ngram_range=(1, 1), union__region_name__tfidf__max_df=0.25, union__region_name__tfidf__ngram_range=(1, 1), union__tweet_text__tfidf__max_df=0.25, union__tweet_text__tfidf__ngram_range=(1, 1) \n",
      "[CV]  clf__estimator__C=0.1, clf__estimator__class_weight=balanced, union__hour__tfidf__max_df=0.25, union__hour__tfidf__ngram_range=(1, 1), union__region_name__tfidf__max_df=0.25, union__region_name__tfidf__ngram_range=(1, 1), union__tweet_text__tfidf__max_df=0.25, union__tweet_text__tfidf__ngram_range=(1, 1), score=0.8860294117647058, total=   0.4s\n",
      "[CV] clf__estimator__C=0.1, clf__estimator__class_weight=balanced, union__hour__tfidf__max_df=0.25, union__hour__tfidf__ngram_range=(1, 1), union__region_name__tfidf__max_df=0.25, union__region_name__tfidf__ngram_range=(1, 1), union__tweet_text__tfidf__max_df=0.5, union__tweet_text__tfidf__ngram_range=(1, 1) \n",
      "[CV]  clf__estimator__C=0.1, clf__estimator__class_weight=balanced, union__hour__tfidf__max_df=0.25, union__hour__tfidf__ngram_range=(1, 1), union__region_name__tfidf__max_df=0.25, union__region_name__tfidf__ngram_range=(1, 1), union__tweet_text__tfidf__max_df=0.5, union__tweet_text__tfidf__ngram_range=(1, 1), score=0.6836734693877551, total=   0.4s\n",
      "[CV] clf__estimator__C=0.1, clf__estimator__class_weight=balanced, union__hour__tfidf__max_df=0.25, union__hour__tfidf__ngram_range=(1, 1), union__region_name__tfidf__max_df=0.25, union__region_name__tfidf__ngram_range=(1, 1), union__tweet_text__tfidf__max_df=0.5, union__tweet_text__tfidf__ngram_range=(1, 1) \n",
      "[CV]  clf__estimator__C=0.1, clf__estimator__class_weight=balanced, union__hour__tfidf__max_df=0.25, union__hour__tfidf__ngram_range=(1, 1), union__region_name__tfidf__max_df=0.25, union__region_name__tfidf__ngram_range=(1, 1), union__tweet_text__tfidf__max_df=0.5, union__tweet_text__tfidf__ngram_range=(1, 1), score=0.804416403785489, total=   0.4s\n",
      "[CV] clf__estimator__C=0.1, clf__estimator__class_weight=balanced, union__hour__tfidf__max_df=0.25, union__hour__tfidf__ngram_range=(1, 1), union__region_name__tfidf__max_df=0.25, union__region_name__tfidf__ngram_range=(1, 1), union__tweet_text__tfidf__max_df=0.5, union__tweet_text__tfidf__ngram_range=(1, 1) \n"
     ]
    },
    {
     "name": "stdout",
     "output_type": "stream",
     "text": [
      "[CV]  clf__estimator__C=0.1, clf__estimator__class_weight=balanced, union__hour__tfidf__max_df=0.25, union__hour__tfidf__ngram_range=(1, 1), union__region_name__tfidf__max_df=0.25, union__region_name__tfidf__ngram_range=(1, 1), union__tweet_text__tfidf__max_df=0.5, union__tweet_text__tfidf__ngram_range=(1, 1), score=0.8668941979522184, total=   0.5s\n",
      "[CV] clf__estimator__C=0.1, clf__estimator__class_weight=balanced, union__hour__tfidf__max_df=0.25, union__hour__tfidf__ngram_range=(1, 1), union__region_name__tfidf__max_df=0.25, union__region_name__tfidf__ngram_range=(1, 1), union__tweet_text__tfidf__max_df=0.5, union__tweet_text__tfidf__ngram_range=(1, 1) \n",
      "[CV]  clf__estimator__C=0.1, clf__estimator__class_weight=balanced, union__hour__tfidf__max_df=0.25, union__hour__tfidf__ngram_range=(1, 1), union__region_name__tfidf__max_df=0.25, union__region_name__tfidf__ngram_range=(1, 1), union__tweet_text__tfidf__max_df=0.5, union__tweet_text__tfidf__ngram_range=(1, 1), score=0.8920863309352518, total=   0.5s\n",
      "[CV] clf__estimator__C=0.1, clf__estimator__class_weight=balanced, union__hour__tfidf__max_df=0.25, union__hour__tfidf__ngram_range=(1, 1), union__region_name__tfidf__max_df=0.25, union__region_name__tfidf__ngram_range=(1, 1), union__tweet_text__tfidf__max_df=0.5, union__tweet_text__tfidf__ngram_range=(1, 1) \n",
      "[CV]  clf__estimator__C=0.1, clf__estimator__class_weight=balanced, union__hour__tfidf__max_df=0.25, union__hour__tfidf__ngram_range=(1, 1), union__region_name__tfidf__max_df=0.25, union__region_name__tfidf__ngram_range=(1, 1), union__tweet_text__tfidf__max_df=0.5, union__tweet_text__tfidf__ngram_range=(1, 1), score=0.8897058823529411, total=   0.4s\n",
      "[CV] clf__estimator__C=0.1, clf__estimator__class_weight=balanced, union__hour__tfidf__max_df=0.25, union__hour__tfidf__ngram_range=(1, 1), union__region_name__tfidf__max_df=0.5, union__region_name__tfidf__ngram_range=(1, 1), union__tweet_text__tfidf__max_df=0.25, union__tweet_text__tfidf__ngram_range=(1, 1) \n",
      "[CV]  clf__estimator__C=0.1, clf__estimator__class_weight=balanced, union__hour__tfidf__max_df=0.25, union__hour__tfidf__ngram_range=(1, 1), union__region_name__tfidf__max_df=0.5, union__region_name__tfidf__ngram_range=(1, 1), union__tweet_text__tfidf__max_df=0.25, union__tweet_text__tfidf__ngram_range=(1, 1), score=0.6811224489795918, total=   0.4s\n",
      "[CV] clf__estimator__C=0.1, clf__estimator__class_weight=balanced, union__hour__tfidf__max_df=0.25, union__hour__tfidf__ngram_range=(1, 1), union__region_name__tfidf__max_df=0.5, union__region_name__tfidf__ngram_range=(1, 1), union__tweet_text__tfidf__max_df=0.25, union__tweet_text__tfidf__ngram_range=(1, 1) \n",
      "[CV]  clf__estimator__C=0.1, clf__estimator__class_weight=balanced, union__hour__tfidf__max_df=0.25, union__hour__tfidf__ngram_range=(1, 1), union__region_name__tfidf__max_df=0.5, union__region_name__tfidf__ngram_range=(1, 1), union__tweet_text__tfidf__max_df=0.25, union__tweet_text__tfidf__ngram_range=(1, 1), score=0.7981072555205048, total=   0.4s\n",
      "[CV] clf__estimator__C=0.1, clf__estimator__class_weight=balanced, union__hour__tfidf__max_df=0.25, union__hour__tfidf__ngram_range=(1, 1), union__region_name__tfidf__max_df=0.5, union__region_name__tfidf__ngram_range=(1, 1), union__tweet_text__tfidf__max_df=0.25, union__tweet_text__tfidf__ngram_range=(1, 1) \n",
      "[CV]  clf__estimator__C=0.1, clf__estimator__class_weight=balanced, union__hour__tfidf__max_df=0.25, union__hour__tfidf__ngram_range=(1, 1), union__region_name__tfidf__max_df=0.5, union__region_name__tfidf__ngram_range=(1, 1), union__tweet_text__tfidf__max_df=0.25, union__tweet_text__tfidf__ngram_range=(1, 1), score=0.8668941979522184, total=   0.5s\n",
      "[CV] clf__estimator__C=0.1, clf__estimator__class_weight=balanced, union__hour__tfidf__max_df=0.25, union__hour__tfidf__ngram_range=(1, 1), union__region_name__tfidf__max_df=0.5, union__region_name__tfidf__ngram_range=(1, 1), union__tweet_text__tfidf__max_df=0.25, union__tweet_text__tfidf__ngram_range=(1, 1) \n",
      "[CV]  clf__estimator__C=0.1, clf__estimator__class_weight=balanced, union__hour__tfidf__max_df=0.25, union__hour__tfidf__ngram_range=(1, 1), union__region_name__tfidf__max_df=0.5, union__region_name__tfidf__ngram_range=(1, 1), union__tweet_text__tfidf__max_df=0.25, union__tweet_text__tfidf__ngram_range=(1, 1), score=0.8920863309352518, total=   0.4s\n",
      "[CV] clf__estimator__C=0.1, clf__estimator__class_weight=balanced, union__hour__tfidf__max_df=0.25, union__hour__tfidf__ngram_range=(1, 1), union__region_name__tfidf__max_df=0.5, union__region_name__tfidf__ngram_range=(1, 1), union__tweet_text__tfidf__max_df=0.25, union__tweet_text__tfidf__ngram_range=(1, 1) \n",
      "[CV]  clf__estimator__C=0.1, clf__estimator__class_weight=balanced, union__hour__tfidf__max_df=0.25, union__hour__tfidf__ngram_range=(1, 1), union__region_name__tfidf__max_df=0.5, union__region_name__tfidf__ngram_range=(1, 1), union__tweet_text__tfidf__max_df=0.25, union__tweet_text__tfidf__ngram_range=(1, 1), score=0.9007352941176471, total=   0.5s\n",
      "[CV] clf__estimator__C=0.1, clf__estimator__class_weight=balanced, union__hour__tfidf__max_df=0.25, union__hour__tfidf__ngram_range=(1, 1), union__region_name__tfidf__max_df=0.5, union__region_name__tfidf__ngram_range=(1, 1), union__tweet_text__tfidf__max_df=0.5, union__tweet_text__tfidf__ngram_range=(1, 1) \n",
      "[CV]  clf__estimator__C=0.1, clf__estimator__class_weight=balanced, union__hour__tfidf__max_df=0.25, union__hour__tfidf__ngram_range=(1, 1), union__region_name__tfidf__max_df=0.5, union__region_name__tfidf__ngram_range=(1, 1), union__tweet_text__tfidf__max_df=0.5, union__tweet_text__tfidf__ngram_range=(1, 1), score=0.6785714285714286, total=   0.4s\n",
      "[CV] clf__estimator__C=0.1, clf__estimator__class_weight=balanced, union__hour__tfidf__max_df=0.25, union__hour__tfidf__ngram_range=(1, 1), union__region_name__tfidf__max_df=0.5, union__region_name__tfidf__ngram_range=(1, 1), union__tweet_text__tfidf__max_df=0.5, union__tweet_text__tfidf__ngram_range=(1, 1) \n",
      "[CV]  clf__estimator__C=0.1, clf__estimator__class_weight=balanced, union__hour__tfidf__max_df=0.25, union__hour__tfidf__ngram_range=(1, 1), union__region_name__tfidf__max_df=0.5, union__region_name__tfidf__ngram_range=(1, 1), union__tweet_text__tfidf__max_df=0.5, union__tweet_text__tfidf__ngram_range=(1, 1), score=0.8012618296529969, total=   0.5s\n",
      "[CV] clf__estimator__C=0.1, clf__estimator__class_weight=balanced, union__hour__tfidf__max_df=0.25, union__hour__tfidf__ngram_range=(1, 1), union__region_name__tfidf__max_df=0.5, union__region_name__tfidf__ngram_range=(1, 1), union__tweet_text__tfidf__max_df=0.5, union__tweet_text__tfidf__ngram_range=(1, 1) \n",
      "[CV]  clf__estimator__C=0.1, clf__estimator__class_weight=balanced, union__hour__tfidf__max_df=0.25, union__hour__tfidf__ngram_range=(1, 1), union__region_name__tfidf__max_df=0.5, union__region_name__tfidf__ngram_range=(1, 1), union__tweet_text__tfidf__max_df=0.5, union__tweet_text__tfidf__ngram_range=(1, 1), score=0.8668941979522184, total=   0.5s\n",
      "[CV] clf__estimator__C=0.1, clf__estimator__class_weight=balanced, union__hour__tfidf__max_df=0.25, union__hour__tfidf__ngram_range=(1, 1), union__region_name__tfidf__max_df=0.5, union__region_name__tfidf__ngram_range=(1, 1), union__tweet_text__tfidf__max_df=0.5, union__tweet_text__tfidf__ngram_range=(1, 1) \n",
      "[CV]  clf__estimator__C=0.1, clf__estimator__class_weight=balanced, union__hour__tfidf__max_df=0.25, union__hour__tfidf__ngram_range=(1, 1), union__region_name__tfidf__max_df=0.5, union__region_name__tfidf__ngram_range=(1, 1), union__tweet_text__tfidf__max_df=0.5, union__tweet_text__tfidf__ngram_range=(1, 1), score=0.8920863309352518, total=   0.5s\n",
      "[CV] clf__estimator__C=0.1, clf__estimator__class_weight=balanced, union__hour__tfidf__max_df=0.25, union__hour__tfidf__ngram_range=(1, 1), union__region_name__tfidf__max_df=0.5, union__region_name__tfidf__ngram_range=(1, 1), union__tweet_text__tfidf__max_df=0.5, union__tweet_text__tfidf__ngram_range=(1, 1) \n",
      "[CV]  clf__estimator__C=0.1, clf__estimator__class_weight=balanced, union__hour__tfidf__max_df=0.25, union__hour__tfidf__ngram_range=(1, 1), union__region_name__tfidf__max_df=0.5, union__region_name__tfidf__ngram_range=(1, 1), union__tweet_text__tfidf__max_df=0.5, union__tweet_text__tfidf__ngram_range=(1, 1), score=0.9007352941176471, total=   0.5s\n",
      "[CV] clf__estimator__C=0.1, clf__estimator__class_weight=balanced, union__hour__tfidf__max_df=0.5, union__hour__tfidf__ngram_range=(1, 1), union__region_name__tfidf__max_df=0.25, union__region_name__tfidf__ngram_range=(1, 1), union__tweet_text__tfidf__max_df=0.25, union__tweet_text__tfidf__ngram_range=(1, 1) \n"
     ]
    },
    {
     "name": "stdout",
     "output_type": "stream",
     "text": [
      "[CV]  clf__estimator__C=0.1, clf__estimator__class_weight=balanced, union__hour__tfidf__max_df=0.5, union__hour__tfidf__ngram_range=(1, 1), union__region_name__tfidf__max_df=0.25, union__region_name__tfidf__ngram_range=(1, 1), union__tweet_text__tfidf__max_df=0.25, union__tweet_text__tfidf__ngram_range=(1, 1), score=0.6811224489795918, total=   0.4s\n",
      "[CV] clf__estimator__C=0.1, clf__estimator__class_weight=balanced, union__hour__tfidf__max_df=0.5, union__hour__tfidf__ngram_range=(1, 1), union__region_name__tfidf__max_df=0.25, union__region_name__tfidf__ngram_range=(1, 1), union__tweet_text__tfidf__max_df=0.25, union__tweet_text__tfidf__ngram_range=(1, 1) \n",
      "[CV]  clf__estimator__C=0.1, clf__estimator__class_weight=balanced, union__hour__tfidf__max_df=0.5, union__hour__tfidf__ngram_range=(1, 1), union__region_name__tfidf__max_df=0.25, union__region_name__tfidf__ngram_range=(1, 1), union__tweet_text__tfidf__max_df=0.25, union__tweet_text__tfidf__ngram_range=(1, 1), score=0.8012618296529969, total=   0.4s\n",
      "[CV] clf__estimator__C=0.1, clf__estimator__class_weight=balanced, union__hour__tfidf__max_df=0.5, union__hour__tfidf__ngram_range=(1, 1), union__region_name__tfidf__max_df=0.25, union__region_name__tfidf__ngram_range=(1, 1), union__tweet_text__tfidf__max_df=0.25, union__tweet_text__tfidf__ngram_range=(1, 1) \n",
      "[CV]  clf__estimator__C=0.1, clf__estimator__class_weight=balanced, union__hour__tfidf__max_df=0.5, union__hour__tfidf__ngram_range=(1, 1), union__region_name__tfidf__max_df=0.25, union__region_name__tfidf__ngram_range=(1, 1), union__tweet_text__tfidf__max_df=0.25, union__tweet_text__tfidf__ngram_range=(1, 1), score=0.8703071672354948, total=   0.4s\n",
      "[CV] clf__estimator__C=0.1, clf__estimator__class_weight=balanced, union__hour__tfidf__max_df=0.5, union__hour__tfidf__ngram_range=(1, 1), union__region_name__tfidf__max_df=0.25, union__region_name__tfidf__ngram_range=(1, 1), union__tweet_text__tfidf__max_df=0.25, union__tweet_text__tfidf__ngram_range=(1, 1) \n",
      "[CV]  clf__estimator__C=0.1, clf__estimator__class_weight=balanced, union__hour__tfidf__max_df=0.5, union__hour__tfidf__ngram_range=(1, 1), union__region_name__tfidf__max_df=0.25, union__region_name__tfidf__ngram_range=(1, 1), union__tweet_text__tfidf__max_df=0.25, union__tweet_text__tfidf__ngram_range=(1, 1), score=0.8920863309352518, total=   0.5s\n",
      "[CV] clf__estimator__C=0.1, clf__estimator__class_weight=balanced, union__hour__tfidf__max_df=0.5, union__hour__tfidf__ngram_range=(1, 1), union__region_name__tfidf__max_df=0.25, union__region_name__tfidf__ngram_range=(1, 1), union__tweet_text__tfidf__max_df=0.25, union__tweet_text__tfidf__ngram_range=(1, 1) \n",
      "[CV]  clf__estimator__C=0.1, clf__estimator__class_weight=balanced, union__hour__tfidf__max_df=0.5, union__hour__tfidf__ngram_range=(1, 1), union__region_name__tfidf__max_df=0.25, union__region_name__tfidf__ngram_range=(1, 1), union__tweet_text__tfidf__max_df=0.25, union__tweet_text__tfidf__ngram_range=(1, 1), score=0.8860294117647058, total=   0.5s\n",
      "[CV] clf__estimator__C=0.1, clf__estimator__class_weight=balanced, union__hour__tfidf__max_df=0.5, union__hour__tfidf__ngram_range=(1, 1), union__region_name__tfidf__max_df=0.25, union__region_name__tfidf__ngram_range=(1, 1), union__tweet_text__tfidf__max_df=0.5, union__tweet_text__tfidf__ngram_range=(1, 1) \n",
      "[CV]  clf__estimator__C=0.1, clf__estimator__class_weight=balanced, union__hour__tfidf__max_df=0.5, union__hour__tfidf__ngram_range=(1, 1), union__region_name__tfidf__max_df=0.25, union__region_name__tfidf__ngram_range=(1, 1), union__tweet_text__tfidf__max_df=0.5, union__tweet_text__tfidf__ngram_range=(1, 1), score=0.6836734693877551, total=   0.4s\n",
      "[CV] clf__estimator__C=0.1, clf__estimator__class_weight=balanced, union__hour__tfidf__max_df=0.5, union__hour__tfidf__ngram_range=(1, 1), union__region_name__tfidf__max_df=0.25, union__region_name__tfidf__ngram_range=(1, 1), union__tweet_text__tfidf__max_df=0.5, union__tweet_text__tfidf__ngram_range=(1, 1) \n",
      "[CV]  clf__estimator__C=0.1, clf__estimator__class_weight=balanced, union__hour__tfidf__max_df=0.5, union__hour__tfidf__ngram_range=(1, 1), union__region_name__tfidf__max_df=0.25, union__region_name__tfidf__ngram_range=(1, 1), union__tweet_text__tfidf__max_df=0.5, union__tweet_text__tfidf__ngram_range=(1, 1), score=0.804416403785489, total=   0.4s\n",
      "[CV] clf__estimator__C=0.1, clf__estimator__class_weight=balanced, union__hour__tfidf__max_df=0.5, union__hour__tfidf__ngram_range=(1, 1), union__region_name__tfidf__max_df=0.25, union__region_name__tfidf__ngram_range=(1, 1), union__tweet_text__tfidf__max_df=0.5, union__tweet_text__tfidf__ngram_range=(1, 1) \n",
      "[CV]  clf__estimator__C=0.1, clf__estimator__class_weight=balanced, union__hour__tfidf__max_df=0.5, union__hour__tfidf__ngram_range=(1, 1), union__region_name__tfidf__max_df=0.25, union__region_name__tfidf__ngram_range=(1, 1), union__tweet_text__tfidf__max_df=0.5, union__tweet_text__tfidf__ngram_range=(1, 1), score=0.8668941979522184, total=   0.5s\n",
      "[CV] clf__estimator__C=0.1, clf__estimator__class_weight=balanced, union__hour__tfidf__max_df=0.5, union__hour__tfidf__ngram_range=(1, 1), union__region_name__tfidf__max_df=0.25, union__region_name__tfidf__ngram_range=(1, 1), union__tweet_text__tfidf__max_df=0.5, union__tweet_text__tfidf__ngram_range=(1, 1) \n",
      "[CV]  clf__estimator__C=0.1, clf__estimator__class_weight=balanced, union__hour__tfidf__max_df=0.5, union__hour__tfidf__ngram_range=(1, 1), union__region_name__tfidf__max_df=0.25, union__region_name__tfidf__ngram_range=(1, 1), union__tweet_text__tfidf__max_df=0.5, union__tweet_text__tfidf__ngram_range=(1, 1), score=0.8920863309352518, total=   0.5s\n",
      "[CV] clf__estimator__C=0.1, clf__estimator__class_weight=balanced, union__hour__tfidf__max_df=0.5, union__hour__tfidf__ngram_range=(1, 1), union__region_name__tfidf__max_df=0.25, union__region_name__tfidf__ngram_range=(1, 1), union__tweet_text__tfidf__max_df=0.5, union__tweet_text__tfidf__ngram_range=(1, 1) \n",
      "[CV]  clf__estimator__C=0.1, clf__estimator__class_weight=balanced, union__hour__tfidf__max_df=0.5, union__hour__tfidf__ngram_range=(1, 1), union__region_name__tfidf__max_df=0.25, union__region_name__tfidf__ngram_range=(1, 1), union__tweet_text__tfidf__max_df=0.5, union__tweet_text__tfidf__ngram_range=(1, 1), score=0.8897058823529411, total=   0.4s\n",
      "[CV] clf__estimator__C=0.1, clf__estimator__class_weight=balanced, union__hour__tfidf__max_df=0.5, union__hour__tfidf__ngram_range=(1, 1), union__region_name__tfidf__max_df=0.5, union__region_name__tfidf__ngram_range=(1, 1), union__tweet_text__tfidf__max_df=0.25, union__tweet_text__tfidf__ngram_range=(1, 1) \n",
      "[CV]  clf__estimator__C=0.1, clf__estimator__class_weight=balanced, union__hour__tfidf__max_df=0.5, union__hour__tfidf__ngram_range=(1, 1), union__region_name__tfidf__max_df=0.5, union__region_name__tfidf__ngram_range=(1, 1), union__tweet_text__tfidf__max_df=0.25, union__tweet_text__tfidf__ngram_range=(1, 1), score=0.6811224489795918, total=   0.4s\n",
      "[CV] clf__estimator__C=0.1, clf__estimator__class_weight=balanced, union__hour__tfidf__max_df=0.5, union__hour__tfidf__ngram_range=(1, 1), union__region_name__tfidf__max_df=0.5, union__region_name__tfidf__ngram_range=(1, 1), union__tweet_text__tfidf__max_df=0.25, union__tweet_text__tfidf__ngram_range=(1, 1) \n",
      "[CV]  clf__estimator__C=0.1, clf__estimator__class_weight=balanced, union__hour__tfidf__max_df=0.5, union__hour__tfidf__ngram_range=(1, 1), union__region_name__tfidf__max_df=0.5, union__region_name__tfidf__ngram_range=(1, 1), union__tweet_text__tfidf__max_df=0.25, union__tweet_text__tfidf__ngram_range=(1, 1), score=0.7981072555205048, total=   0.4s\n",
      "[CV] clf__estimator__C=0.1, clf__estimator__class_weight=balanced, union__hour__tfidf__max_df=0.5, union__hour__tfidf__ngram_range=(1, 1), union__region_name__tfidf__max_df=0.5, union__region_name__tfidf__ngram_range=(1, 1), union__tweet_text__tfidf__max_df=0.25, union__tweet_text__tfidf__ngram_range=(1, 1) \n",
      "[CV]  clf__estimator__C=0.1, clf__estimator__class_weight=balanced, union__hour__tfidf__max_df=0.5, union__hour__tfidf__ngram_range=(1, 1), union__region_name__tfidf__max_df=0.5, union__region_name__tfidf__ngram_range=(1, 1), union__tweet_text__tfidf__max_df=0.25, union__tweet_text__tfidf__ngram_range=(1, 1), score=0.8668941979522184, total=   0.5s\n",
      "[CV] clf__estimator__C=0.1, clf__estimator__class_weight=balanced, union__hour__tfidf__max_df=0.5, union__hour__tfidf__ngram_range=(1, 1), union__region_name__tfidf__max_df=0.5, union__region_name__tfidf__ngram_range=(1, 1), union__tweet_text__tfidf__max_df=0.25, union__tweet_text__tfidf__ngram_range=(1, 1) \n"
     ]
    },
    {
     "name": "stdout",
     "output_type": "stream",
     "text": [
      "[CV]  clf__estimator__C=0.1, clf__estimator__class_weight=balanced, union__hour__tfidf__max_df=0.5, union__hour__tfidf__ngram_range=(1, 1), union__region_name__tfidf__max_df=0.5, union__region_name__tfidf__ngram_range=(1, 1), union__tweet_text__tfidf__max_df=0.25, union__tweet_text__tfidf__ngram_range=(1, 1), score=0.8920863309352518, total=   0.5s\n",
      "[CV] clf__estimator__C=0.1, clf__estimator__class_weight=balanced, union__hour__tfidf__max_df=0.5, union__hour__tfidf__ngram_range=(1, 1), union__region_name__tfidf__max_df=0.5, union__region_name__tfidf__ngram_range=(1, 1), union__tweet_text__tfidf__max_df=0.25, union__tweet_text__tfidf__ngram_range=(1, 1) \n",
      "[CV]  clf__estimator__C=0.1, clf__estimator__class_weight=balanced, union__hour__tfidf__max_df=0.5, union__hour__tfidf__ngram_range=(1, 1), union__region_name__tfidf__max_df=0.5, union__region_name__tfidf__ngram_range=(1, 1), union__tweet_text__tfidf__max_df=0.25, union__tweet_text__tfidf__ngram_range=(1, 1), score=0.9007352941176471, total=   0.4s\n",
      "[CV] clf__estimator__C=0.1, clf__estimator__class_weight=balanced, union__hour__tfidf__max_df=0.5, union__hour__tfidf__ngram_range=(1, 1), union__region_name__tfidf__max_df=0.5, union__region_name__tfidf__ngram_range=(1, 1), union__tweet_text__tfidf__max_df=0.5, union__tweet_text__tfidf__ngram_range=(1, 1) \n",
      "[CV]  clf__estimator__C=0.1, clf__estimator__class_weight=balanced, union__hour__tfidf__max_df=0.5, union__hour__tfidf__ngram_range=(1, 1), union__region_name__tfidf__max_df=0.5, union__region_name__tfidf__ngram_range=(1, 1), union__tweet_text__tfidf__max_df=0.5, union__tweet_text__tfidf__ngram_range=(1, 1), score=0.6785714285714286, total=   0.4s\n",
      "[CV] clf__estimator__C=0.1, clf__estimator__class_weight=balanced, union__hour__tfidf__max_df=0.5, union__hour__tfidf__ngram_range=(1, 1), union__region_name__tfidf__max_df=0.5, union__region_name__tfidf__ngram_range=(1, 1), union__tweet_text__tfidf__max_df=0.5, union__tweet_text__tfidf__ngram_range=(1, 1) \n",
      "[CV]  clf__estimator__C=0.1, clf__estimator__class_weight=balanced, union__hour__tfidf__max_df=0.5, union__hour__tfidf__ngram_range=(1, 1), union__region_name__tfidf__max_df=0.5, union__region_name__tfidf__ngram_range=(1, 1), union__tweet_text__tfidf__max_df=0.5, union__tweet_text__tfidf__ngram_range=(1, 1), score=0.8012618296529969, total=   0.5s\n",
      "[CV] clf__estimator__C=0.1, clf__estimator__class_weight=balanced, union__hour__tfidf__max_df=0.5, union__hour__tfidf__ngram_range=(1, 1), union__region_name__tfidf__max_df=0.5, union__region_name__tfidf__ngram_range=(1, 1), union__tweet_text__tfidf__max_df=0.5, union__tweet_text__tfidf__ngram_range=(1, 1) \n",
      "[CV]  clf__estimator__C=0.1, clf__estimator__class_weight=balanced, union__hour__tfidf__max_df=0.5, union__hour__tfidf__ngram_range=(1, 1), union__region_name__tfidf__max_df=0.5, union__region_name__tfidf__ngram_range=(1, 1), union__tweet_text__tfidf__max_df=0.5, union__tweet_text__tfidf__ngram_range=(1, 1), score=0.8668941979522184, total=   0.5s\n",
      "[CV] clf__estimator__C=0.1, clf__estimator__class_weight=balanced, union__hour__tfidf__max_df=0.5, union__hour__tfidf__ngram_range=(1, 1), union__region_name__tfidf__max_df=0.5, union__region_name__tfidf__ngram_range=(1, 1), union__tweet_text__tfidf__max_df=0.5, union__tweet_text__tfidf__ngram_range=(1, 1) \n",
      "[CV]  clf__estimator__C=0.1, clf__estimator__class_weight=balanced, union__hour__tfidf__max_df=0.5, union__hour__tfidf__ngram_range=(1, 1), union__region_name__tfidf__max_df=0.5, union__region_name__tfidf__ngram_range=(1, 1), union__tweet_text__tfidf__max_df=0.5, union__tweet_text__tfidf__ngram_range=(1, 1), score=0.8920863309352518, total=   0.5s\n",
      "[CV] clf__estimator__C=0.1, clf__estimator__class_weight=balanced, union__hour__tfidf__max_df=0.5, union__hour__tfidf__ngram_range=(1, 1), union__region_name__tfidf__max_df=0.5, union__region_name__tfidf__ngram_range=(1, 1), union__tweet_text__tfidf__max_df=0.5, union__tweet_text__tfidf__ngram_range=(1, 1) \n",
      "[CV]  clf__estimator__C=0.1, clf__estimator__class_weight=balanced, union__hour__tfidf__max_df=0.5, union__hour__tfidf__ngram_range=(1, 1), union__region_name__tfidf__max_df=0.5, union__region_name__tfidf__ngram_range=(1, 1), union__tweet_text__tfidf__max_df=0.5, union__tweet_text__tfidf__ngram_range=(1, 1), score=0.9007352941176471, total=   0.5s\n",
      "[CV] clf__estimator__C=0.1, clf__estimator__class_weight=None, union__hour__tfidf__max_df=0.25, union__hour__tfidf__ngram_range=(1, 1), union__region_name__tfidf__max_df=0.25, union__region_name__tfidf__ngram_range=(1, 1), union__tweet_text__tfidf__max_df=0.25, union__tweet_text__tfidf__ngram_range=(1, 1) \n",
      "[CV]  clf__estimator__C=0.1, clf__estimator__class_weight=None, union__hour__tfidf__max_df=0.25, union__hour__tfidf__ngram_range=(1, 1), union__region_name__tfidf__max_df=0.25, union__region_name__tfidf__ngram_range=(1, 1), union__tweet_text__tfidf__max_df=0.25, union__tweet_text__tfidf__ngram_range=(1, 1), score=0.6556122448979592, total=   0.4s\n",
      "[CV] clf__estimator__C=0.1, clf__estimator__class_weight=None, union__hour__tfidf__max_df=0.25, union__hour__tfidf__ngram_range=(1, 1), union__region_name__tfidf__max_df=0.25, union__region_name__tfidf__ngram_range=(1, 1), union__tweet_text__tfidf__max_df=0.25, union__tweet_text__tfidf__ngram_range=(1, 1) \n",
      "[CV]  clf__estimator__C=0.1, clf__estimator__class_weight=None, union__hour__tfidf__max_df=0.25, union__hour__tfidf__ngram_range=(1, 1), union__region_name__tfidf__max_df=0.25, union__region_name__tfidf__ngram_range=(1, 1), union__tweet_text__tfidf__max_df=0.25, union__tweet_text__tfidf__ngram_range=(1, 1), score=0.7760252365930599, total=   0.4s\n",
      "[CV] clf__estimator__C=0.1, clf__estimator__class_weight=None, union__hour__tfidf__max_df=0.25, union__hour__tfidf__ngram_range=(1, 1), union__region_name__tfidf__max_df=0.25, union__region_name__tfidf__ngram_range=(1, 1), union__tweet_text__tfidf__max_df=0.25, union__tweet_text__tfidf__ngram_range=(1, 1) \n",
      "[CV]  clf__estimator__C=0.1, clf__estimator__class_weight=None, union__hour__tfidf__max_df=0.25, union__hour__tfidf__ngram_range=(1, 1), union__region_name__tfidf__max_df=0.25, union__region_name__tfidf__ngram_range=(1, 1), union__tweet_text__tfidf__max_df=0.25, union__tweet_text__tfidf__ngram_range=(1, 1), score=0.8464163822525598, total=   0.4s\n",
      "[CV] clf__estimator__C=0.1, clf__estimator__class_weight=None, union__hour__tfidf__max_df=0.25, union__hour__tfidf__ngram_range=(1, 1), union__region_name__tfidf__max_df=0.25, union__region_name__tfidf__ngram_range=(1, 1), union__tweet_text__tfidf__max_df=0.25, union__tweet_text__tfidf__ngram_range=(1, 1) \n",
      "[CV]  clf__estimator__C=0.1, clf__estimator__class_weight=None, union__hour__tfidf__max_df=0.25, union__hour__tfidf__ngram_range=(1, 1), union__region_name__tfidf__max_df=0.25, union__region_name__tfidf__ngram_range=(1, 1), union__tweet_text__tfidf__max_df=0.25, union__tweet_text__tfidf__ngram_range=(1, 1), score=0.8812949640287769, total=   0.4s\n",
      "[CV] clf__estimator__C=0.1, clf__estimator__class_weight=None, union__hour__tfidf__max_df=0.25, union__hour__tfidf__ngram_range=(1, 1), union__region_name__tfidf__max_df=0.25, union__region_name__tfidf__ngram_range=(1, 1), union__tweet_text__tfidf__max_df=0.25, union__tweet_text__tfidf__ngram_range=(1, 1) \n",
      "[CV]  clf__estimator__C=0.1, clf__estimator__class_weight=None, union__hour__tfidf__max_df=0.25, union__hour__tfidf__ngram_range=(1, 1), union__region_name__tfidf__max_df=0.25, union__region_name__tfidf__ngram_range=(1, 1), union__tweet_text__tfidf__max_df=0.25, union__tweet_text__tfidf__ngram_range=(1, 1), score=0.8676470588235294, total=   0.4s\n",
      "[CV] clf__estimator__C=0.1, clf__estimator__class_weight=None, union__hour__tfidf__max_df=0.25, union__hour__tfidf__ngram_range=(1, 1), union__region_name__tfidf__max_df=0.25, union__region_name__tfidf__ngram_range=(1, 1), union__tweet_text__tfidf__max_df=0.5, union__tweet_text__tfidf__ngram_range=(1, 1) \n",
      "[CV]  clf__estimator__C=0.1, clf__estimator__class_weight=None, union__hour__tfidf__max_df=0.25, union__hour__tfidf__ngram_range=(1, 1), union__region_name__tfidf__max_df=0.25, union__region_name__tfidf__ngram_range=(1, 1), union__tweet_text__tfidf__max_df=0.5, union__tweet_text__tfidf__ngram_range=(1, 1), score=0.6530612244897959, total=   0.4s\n",
      "[CV] clf__estimator__C=0.1, clf__estimator__class_weight=None, union__hour__tfidf__max_df=0.25, union__hour__tfidf__ngram_range=(1, 1), union__region_name__tfidf__max_df=0.25, union__region_name__tfidf__ngram_range=(1, 1), union__tweet_text__tfidf__max_df=0.5, union__tweet_text__tfidf__ngram_range=(1, 1) \n"
     ]
    },
    {
     "name": "stdout",
     "output_type": "stream",
     "text": [
      "[CV]  clf__estimator__C=0.1, clf__estimator__class_weight=None, union__hour__tfidf__max_df=0.25, union__hour__tfidf__ngram_range=(1, 1), union__region_name__tfidf__max_df=0.25, union__region_name__tfidf__ngram_range=(1, 1), union__tweet_text__tfidf__max_df=0.5, union__tweet_text__tfidf__ngram_range=(1, 1), score=0.7728706624605678, total=   0.4s\n",
      "[CV] clf__estimator__C=0.1, clf__estimator__class_weight=None, union__hour__tfidf__max_df=0.25, union__hour__tfidf__ngram_range=(1, 1), union__region_name__tfidf__max_df=0.25, union__region_name__tfidf__ngram_range=(1, 1), union__tweet_text__tfidf__max_df=0.5, union__tweet_text__tfidf__ngram_range=(1, 1) \n",
      "[CV]  clf__estimator__C=0.1, clf__estimator__class_weight=None, union__hour__tfidf__max_df=0.25, union__hour__tfidf__ngram_range=(1, 1), union__region_name__tfidf__max_df=0.25, union__region_name__tfidf__ngram_range=(1, 1), union__tweet_text__tfidf__max_df=0.5, union__tweet_text__tfidf__ngram_range=(1, 1), score=0.8430034129692833, total=   0.4s\n",
      "[CV] clf__estimator__C=0.1, clf__estimator__class_weight=None, union__hour__tfidf__max_df=0.25, union__hour__tfidf__ngram_range=(1, 1), union__region_name__tfidf__max_df=0.25, union__region_name__tfidf__ngram_range=(1, 1), union__tweet_text__tfidf__max_df=0.5, union__tweet_text__tfidf__ngram_range=(1, 1) \n",
      "[CV]  clf__estimator__C=0.1, clf__estimator__class_weight=None, union__hour__tfidf__max_df=0.25, union__hour__tfidf__ngram_range=(1, 1), union__region_name__tfidf__max_df=0.25, union__region_name__tfidf__ngram_range=(1, 1), union__tweet_text__tfidf__max_df=0.5, union__tweet_text__tfidf__ngram_range=(1, 1), score=0.8812949640287769, total=   0.4s\n",
      "[CV] clf__estimator__C=0.1, clf__estimator__class_weight=None, union__hour__tfidf__max_df=0.25, union__hour__tfidf__ngram_range=(1, 1), union__region_name__tfidf__max_df=0.25, union__region_name__tfidf__ngram_range=(1, 1), union__tweet_text__tfidf__max_df=0.5, union__tweet_text__tfidf__ngram_range=(1, 1) \n",
      "[CV]  clf__estimator__C=0.1, clf__estimator__class_weight=None, union__hour__tfidf__max_df=0.25, union__hour__tfidf__ngram_range=(1, 1), union__region_name__tfidf__max_df=0.25, union__region_name__tfidf__ngram_range=(1, 1), union__tweet_text__tfidf__max_df=0.5, union__tweet_text__tfidf__ngram_range=(1, 1), score=0.8713235294117647, total=   0.4s\n",
      "[CV] clf__estimator__C=0.1, clf__estimator__class_weight=None, union__hour__tfidf__max_df=0.25, union__hour__tfidf__ngram_range=(1, 1), union__region_name__tfidf__max_df=0.5, union__region_name__tfidf__ngram_range=(1, 1), union__tweet_text__tfidf__max_df=0.25, union__tweet_text__tfidf__ngram_range=(1, 1) \n",
      "[CV]  clf__estimator__C=0.1, clf__estimator__class_weight=None, union__hour__tfidf__max_df=0.25, union__hour__tfidf__ngram_range=(1, 1), union__region_name__tfidf__max_df=0.5, union__region_name__tfidf__ngram_range=(1, 1), union__tweet_text__tfidf__max_df=0.25, union__tweet_text__tfidf__ngram_range=(1, 1), score=0.6556122448979592, total=   0.4s\n",
      "[CV] clf__estimator__C=0.1, clf__estimator__class_weight=None, union__hour__tfidf__max_df=0.25, union__hour__tfidf__ngram_range=(1, 1), union__region_name__tfidf__max_df=0.5, union__region_name__tfidf__ngram_range=(1, 1), union__tweet_text__tfidf__max_df=0.25, union__tweet_text__tfidf__ngram_range=(1, 1) \n",
      "[CV]  clf__estimator__C=0.1, clf__estimator__class_weight=None, union__hour__tfidf__max_df=0.25, union__hour__tfidf__ngram_range=(1, 1), union__region_name__tfidf__max_df=0.5, union__region_name__tfidf__ngram_range=(1, 1), union__tweet_text__tfidf__max_df=0.25, union__tweet_text__tfidf__ngram_range=(1, 1), score=0.7791798107255521, total=   0.4s\n",
      "[CV] clf__estimator__C=0.1, clf__estimator__class_weight=None, union__hour__tfidf__max_df=0.25, union__hour__tfidf__ngram_range=(1, 1), union__region_name__tfidf__max_df=0.5, union__region_name__tfidf__ngram_range=(1, 1), union__tweet_text__tfidf__max_df=0.25, union__tweet_text__tfidf__ngram_range=(1, 1) \n",
      "[CV]  clf__estimator__C=0.1, clf__estimator__class_weight=None, union__hour__tfidf__max_df=0.25, union__hour__tfidf__ngram_range=(1, 1), union__region_name__tfidf__max_df=0.5, union__region_name__tfidf__ngram_range=(1, 1), union__tweet_text__tfidf__max_df=0.25, union__tweet_text__tfidf__ngram_range=(1, 1), score=0.8395904436860068, total=   0.4s\n",
      "[CV] clf__estimator__C=0.1, clf__estimator__class_weight=None, union__hour__tfidf__max_df=0.25, union__hour__tfidf__ngram_range=(1, 1), union__region_name__tfidf__max_df=0.5, union__region_name__tfidf__ngram_range=(1, 1), union__tweet_text__tfidf__max_df=0.25, union__tweet_text__tfidf__ngram_range=(1, 1) \n",
      "[CV]  clf__estimator__C=0.1, clf__estimator__class_weight=None, union__hour__tfidf__max_df=0.25, union__hour__tfidf__ngram_range=(1, 1), union__region_name__tfidf__max_df=0.5, union__region_name__tfidf__ngram_range=(1, 1), union__tweet_text__tfidf__max_df=0.25, union__tweet_text__tfidf__ngram_range=(1, 1), score=0.8848920863309353, total=   0.4s\n",
      "[CV] clf__estimator__C=0.1, clf__estimator__class_weight=None, union__hour__tfidf__max_df=0.25, union__hour__tfidf__ngram_range=(1, 1), union__region_name__tfidf__max_df=0.5, union__region_name__tfidf__ngram_range=(1, 1), union__tweet_text__tfidf__max_df=0.25, union__tweet_text__tfidf__ngram_range=(1, 1) \n",
      "[CV]  clf__estimator__C=0.1, clf__estimator__class_weight=None, union__hour__tfidf__max_df=0.25, union__hour__tfidf__ngram_range=(1, 1), union__region_name__tfidf__max_df=0.5, union__region_name__tfidf__ngram_range=(1, 1), union__tweet_text__tfidf__max_df=0.25, union__tweet_text__tfidf__ngram_range=(1, 1), score=0.8676470588235294, total=   0.4s\n",
      "[CV] clf__estimator__C=0.1, clf__estimator__class_weight=None, union__hour__tfidf__max_df=0.25, union__hour__tfidf__ngram_range=(1, 1), union__region_name__tfidf__max_df=0.5, union__region_name__tfidf__ngram_range=(1, 1), union__tweet_text__tfidf__max_df=0.5, union__tweet_text__tfidf__ngram_range=(1, 1) \n",
      "[CV]  clf__estimator__C=0.1, clf__estimator__class_weight=None, union__hour__tfidf__max_df=0.25, union__hour__tfidf__ngram_range=(1, 1), union__region_name__tfidf__max_df=0.5, union__region_name__tfidf__ngram_range=(1, 1), union__tweet_text__tfidf__max_df=0.5, union__tweet_text__tfidf__ngram_range=(1, 1), score=0.6530612244897959, total=   0.4s\n",
      "[CV] clf__estimator__C=0.1, clf__estimator__class_weight=None, union__hour__tfidf__max_df=0.25, union__hour__tfidf__ngram_range=(1, 1), union__region_name__tfidf__max_df=0.5, union__region_name__tfidf__ngram_range=(1, 1), union__tweet_text__tfidf__max_df=0.5, union__tweet_text__tfidf__ngram_range=(1, 1) \n",
      "[CV]  clf__estimator__C=0.1, clf__estimator__class_weight=None, union__hour__tfidf__max_df=0.25, union__hour__tfidf__ngram_range=(1, 1), union__region_name__tfidf__max_df=0.5, union__region_name__tfidf__ngram_range=(1, 1), union__tweet_text__tfidf__max_df=0.5, union__tweet_text__tfidf__ngram_range=(1, 1), score=0.7791798107255521, total=   0.5s\n",
      "[CV] clf__estimator__C=0.1, clf__estimator__class_weight=None, union__hour__tfidf__max_df=0.25, union__hour__tfidf__ngram_range=(1, 1), union__region_name__tfidf__max_df=0.5, union__region_name__tfidf__ngram_range=(1, 1), union__tweet_text__tfidf__max_df=0.5, union__tweet_text__tfidf__ngram_range=(1, 1) \n",
      "[CV]  clf__estimator__C=0.1, clf__estimator__class_weight=None, union__hour__tfidf__max_df=0.25, union__hour__tfidf__ngram_range=(1, 1), union__region_name__tfidf__max_df=0.5, union__region_name__tfidf__ngram_range=(1, 1), union__tweet_text__tfidf__max_df=0.5, union__tweet_text__tfidf__ngram_range=(1, 1), score=0.8395904436860068, total=   0.4s\n",
      "[CV] clf__estimator__C=0.1, clf__estimator__class_weight=None, union__hour__tfidf__max_df=0.25, union__hour__tfidf__ngram_range=(1, 1), union__region_name__tfidf__max_df=0.5, union__region_name__tfidf__ngram_range=(1, 1), union__tweet_text__tfidf__max_df=0.5, union__tweet_text__tfidf__ngram_range=(1, 1) \n",
      "[CV]  clf__estimator__C=0.1, clf__estimator__class_weight=None, union__hour__tfidf__max_df=0.25, union__hour__tfidf__ngram_range=(1, 1), union__region_name__tfidf__max_df=0.5, union__region_name__tfidf__ngram_range=(1, 1), union__tweet_text__tfidf__max_df=0.5, union__tweet_text__tfidf__ngram_range=(1, 1), score=0.8812949640287769, total=   0.4s\n",
      "[CV] clf__estimator__C=0.1, clf__estimator__class_weight=None, union__hour__tfidf__max_df=0.25, union__hour__tfidf__ngram_range=(1, 1), union__region_name__tfidf__max_df=0.5, union__region_name__tfidf__ngram_range=(1, 1), union__tweet_text__tfidf__max_df=0.5, union__tweet_text__tfidf__ngram_range=(1, 1) \n"
     ]
    },
    {
     "name": "stdout",
     "output_type": "stream",
     "text": [
      "[CV]  clf__estimator__C=0.1, clf__estimator__class_weight=None, union__hour__tfidf__max_df=0.25, union__hour__tfidf__ngram_range=(1, 1), union__region_name__tfidf__max_df=0.5, union__region_name__tfidf__ngram_range=(1, 1), union__tweet_text__tfidf__max_df=0.5, union__tweet_text__tfidf__ngram_range=(1, 1), score=0.8676470588235294, total=   0.4s\n",
      "[CV] clf__estimator__C=0.1, clf__estimator__class_weight=None, union__hour__tfidf__max_df=0.5, union__hour__tfidf__ngram_range=(1, 1), union__region_name__tfidf__max_df=0.25, union__region_name__tfidf__ngram_range=(1, 1), union__tweet_text__tfidf__max_df=0.25, union__tweet_text__tfidf__ngram_range=(1, 1) \n",
      "[CV]  clf__estimator__C=0.1, clf__estimator__class_weight=None, union__hour__tfidf__max_df=0.5, union__hour__tfidf__ngram_range=(1, 1), union__region_name__tfidf__max_df=0.25, union__region_name__tfidf__ngram_range=(1, 1), union__tweet_text__tfidf__max_df=0.25, union__tweet_text__tfidf__ngram_range=(1, 1), score=0.6556122448979592, total=   0.4s\n",
      "[CV] clf__estimator__C=0.1, clf__estimator__class_weight=None, union__hour__tfidf__max_df=0.5, union__hour__tfidf__ngram_range=(1, 1), union__region_name__tfidf__max_df=0.25, union__region_name__tfidf__ngram_range=(1, 1), union__tweet_text__tfidf__max_df=0.25, union__tweet_text__tfidf__ngram_range=(1, 1) \n",
      "[CV]  clf__estimator__C=0.1, clf__estimator__class_weight=None, union__hour__tfidf__max_df=0.5, union__hour__tfidf__ngram_range=(1, 1), union__region_name__tfidf__max_df=0.25, union__region_name__tfidf__ngram_range=(1, 1), union__tweet_text__tfidf__max_df=0.25, union__tweet_text__tfidf__ngram_range=(1, 1), score=0.7760252365930599, total=   0.4s\n",
      "[CV] clf__estimator__C=0.1, clf__estimator__class_weight=None, union__hour__tfidf__max_df=0.5, union__hour__tfidf__ngram_range=(1, 1), union__region_name__tfidf__max_df=0.25, union__region_name__tfidf__ngram_range=(1, 1), union__tweet_text__tfidf__max_df=0.25, union__tweet_text__tfidf__ngram_range=(1, 1) \n",
      "[CV]  clf__estimator__C=0.1, clf__estimator__class_weight=None, union__hour__tfidf__max_df=0.5, union__hour__tfidf__ngram_range=(1, 1), union__region_name__tfidf__max_df=0.25, union__region_name__tfidf__ngram_range=(1, 1), union__tweet_text__tfidf__max_df=0.25, union__tweet_text__tfidf__ngram_range=(1, 1), score=0.8464163822525598, total=   0.4s\n",
      "[CV] clf__estimator__C=0.1, clf__estimator__class_weight=None, union__hour__tfidf__max_df=0.5, union__hour__tfidf__ngram_range=(1, 1), union__region_name__tfidf__max_df=0.25, union__region_name__tfidf__ngram_range=(1, 1), union__tweet_text__tfidf__max_df=0.25, union__tweet_text__tfidf__ngram_range=(1, 1) \n",
      "[CV]  clf__estimator__C=0.1, clf__estimator__class_weight=None, union__hour__tfidf__max_df=0.5, union__hour__tfidf__ngram_range=(1, 1), union__region_name__tfidf__max_df=0.25, union__region_name__tfidf__ngram_range=(1, 1), union__tweet_text__tfidf__max_df=0.25, union__tweet_text__tfidf__ngram_range=(1, 1), score=0.8812949640287769, total=   0.4s\n",
      "[CV] clf__estimator__C=0.1, clf__estimator__class_weight=None, union__hour__tfidf__max_df=0.5, union__hour__tfidf__ngram_range=(1, 1), union__region_name__tfidf__max_df=0.25, union__region_name__tfidf__ngram_range=(1, 1), union__tweet_text__tfidf__max_df=0.25, union__tweet_text__tfidf__ngram_range=(1, 1) \n",
      "[CV]  clf__estimator__C=0.1, clf__estimator__class_weight=None, union__hour__tfidf__max_df=0.5, union__hour__tfidf__ngram_range=(1, 1), union__region_name__tfidf__max_df=0.25, union__region_name__tfidf__ngram_range=(1, 1), union__tweet_text__tfidf__max_df=0.25, union__tweet_text__tfidf__ngram_range=(1, 1), score=0.8676470588235294, total=   0.4s\n",
      "[CV] clf__estimator__C=0.1, clf__estimator__class_weight=None, union__hour__tfidf__max_df=0.5, union__hour__tfidf__ngram_range=(1, 1), union__region_name__tfidf__max_df=0.25, union__region_name__tfidf__ngram_range=(1, 1), union__tweet_text__tfidf__max_df=0.5, union__tweet_text__tfidf__ngram_range=(1, 1) \n",
      "[CV]  clf__estimator__C=0.1, clf__estimator__class_weight=None, union__hour__tfidf__max_df=0.5, union__hour__tfidf__ngram_range=(1, 1), union__region_name__tfidf__max_df=0.25, union__region_name__tfidf__ngram_range=(1, 1), union__tweet_text__tfidf__max_df=0.5, union__tweet_text__tfidf__ngram_range=(1, 1), score=0.6530612244897959, total=   0.4s\n",
      "[CV] clf__estimator__C=0.1, clf__estimator__class_weight=None, union__hour__tfidf__max_df=0.5, union__hour__tfidf__ngram_range=(1, 1), union__region_name__tfidf__max_df=0.25, union__region_name__tfidf__ngram_range=(1, 1), union__tweet_text__tfidf__max_df=0.5, union__tweet_text__tfidf__ngram_range=(1, 1) \n",
      "[CV]  clf__estimator__C=0.1, clf__estimator__class_weight=None, union__hour__tfidf__max_df=0.5, union__hour__tfidf__ngram_range=(1, 1), union__region_name__tfidf__max_df=0.25, union__region_name__tfidf__ngram_range=(1, 1), union__tweet_text__tfidf__max_df=0.5, union__tweet_text__tfidf__ngram_range=(1, 1), score=0.7728706624605678, total=   0.4s\n",
      "[CV] clf__estimator__C=0.1, clf__estimator__class_weight=None, union__hour__tfidf__max_df=0.5, union__hour__tfidf__ngram_range=(1, 1), union__region_name__tfidf__max_df=0.25, union__region_name__tfidf__ngram_range=(1, 1), union__tweet_text__tfidf__max_df=0.5, union__tweet_text__tfidf__ngram_range=(1, 1) \n",
      "[CV]  clf__estimator__C=0.1, clf__estimator__class_weight=None, union__hour__tfidf__max_df=0.5, union__hour__tfidf__ngram_range=(1, 1), union__region_name__tfidf__max_df=0.25, union__region_name__tfidf__ngram_range=(1, 1), union__tweet_text__tfidf__max_df=0.5, union__tweet_text__tfidf__ngram_range=(1, 1), score=0.8430034129692833, total=   0.4s\n",
      "[CV] clf__estimator__C=0.1, clf__estimator__class_weight=None, union__hour__tfidf__max_df=0.5, union__hour__tfidf__ngram_range=(1, 1), union__region_name__tfidf__max_df=0.25, union__region_name__tfidf__ngram_range=(1, 1), union__tweet_text__tfidf__max_df=0.5, union__tweet_text__tfidf__ngram_range=(1, 1) \n",
      "[CV]  clf__estimator__C=0.1, clf__estimator__class_weight=None, union__hour__tfidf__max_df=0.5, union__hour__tfidf__ngram_range=(1, 1), union__region_name__tfidf__max_df=0.25, union__region_name__tfidf__ngram_range=(1, 1), union__tweet_text__tfidf__max_df=0.5, union__tweet_text__tfidf__ngram_range=(1, 1), score=0.8812949640287769, total=   0.4s\n",
      "[CV] clf__estimator__C=0.1, clf__estimator__class_weight=None, union__hour__tfidf__max_df=0.5, union__hour__tfidf__ngram_range=(1, 1), union__region_name__tfidf__max_df=0.25, union__region_name__tfidf__ngram_range=(1, 1), union__tweet_text__tfidf__max_df=0.5, union__tweet_text__tfidf__ngram_range=(1, 1) \n",
      "[CV]  clf__estimator__C=0.1, clf__estimator__class_weight=None, union__hour__tfidf__max_df=0.5, union__hour__tfidf__ngram_range=(1, 1), union__region_name__tfidf__max_df=0.25, union__region_name__tfidf__ngram_range=(1, 1), union__tweet_text__tfidf__max_df=0.5, union__tweet_text__tfidf__ngram_range=(1, 1), score=0.8713235294117647, total=   0.4s\n",
      "[CV] clf__estimator__C=0.1, clf__estimator__class_weight=None, union__hour__tfidf__max_df=0.5, union__hour__tfidf__ngram_range=(1, 1), union__region_name__tfidf__max_df=0.5, union__region_name__tfidf__ngram_range=(1, 1), union__tweet_text__tfidf__max_df=0.25, union__tweet_text__tfidf__ngram_range=(1, 1) \n",
      "[CV]  clf__estimator__C=0.1, clf__estimator__class_weight=None, union__hour__tfidf__max_df=0.5, union__hour__tfidf__ngram_range=(1, 1), union__region_name__tfidf__max_df=0.5, union__region_name__tfidf__ngram_range=(1, 1), union__tweet_text__tfidf__max_df=0.25, union__tweet_text__tfidf__ngram_range=(1, 1), score=0.6556122448979592, total=   0.4s\n",
      "[CV] clf__estimator__C=0.1, clf__estimator__class_weight=None, union__hour__tfidf__max_df=0.5, union__hour__tfidf__ngram_range=(1, 1), union__region_name__tfidf__max_df=0.5, union__region_name__tfidf__ngram_range=(1, 1), union__tweet_text__tfidf__max_df=0.25, union__tweet_text__tfidf__ngram_range=(1, 1) \n",
      "[CV]  clf__estimator__C=0.1, clf__estimator__class_weight=None, union__hour__tfidf__max_df=0.5, union__hour__tfidf__ngram_range=(1, 1), union__region_name__tfidf__max_df=0.5, union__region_name__tfidf__ngram_range=(1, 1), union__tweet_text__tfidf__max_df=0.25, union__tweet_text__tfidf__ngram_range=(1, 1), score=0.7791798107255521, total=   0.4s\n",
      "[CV] clf__estimator__C=0.1, clf__estimator__class_weight=None, union__hour__tfidf__max_df=0.5, union__hour__tfidf__ngram_range=(1, 1), union__region_name__tfidf__max_df=0.5, union__region_name__tfidf__ngram_range=(1, 1), union__tweet_text__tfidf__max_df=0.25, union__tweet_text__tfidf__ngram_range=(1, 1) \n"
     ]
    },
    {
     "name": "stdout",
     "output_type": "stream",
     "text": [
      "[CV]  clf__estimator__C=0.1, clf__estimator__class_weight=None, union__hour__tfidf__max_df=0.5, union__hour__tfidf__ngram_range=(1, 1), union__region_name__tfidf__max_df=0.5, union__region_name__tfidf__ngram_range=(1, 1), union__tweet_text__tfidf__max_df=0.25, union__tweet_text__tfidf__ngram_range=(1, 1), score=0.8395904436860068, total=   0.4s\n",
      "[CV] clf__estimator__C=0.1, clf__estimator__class_weight=None, union__hour__tfidf__max_df=0.5, union__hour__tfidf__ngram_range=(1, 1), union__region_name__tfidf__max_df=0.5, union__region_name__tfidf__ngram_range=(1, 1), union__tweet_text__tfidf__max_df=0.25, union__tweet_text__tfidf__ngram_range=(1, 1) \n",
      "[CV]  clf__estimator__C=0.1, clf__estimator__class_weight=None, union__hour__tfidf__max_df=0.5, union__hour__tfidf__ngram_range=(1, 1), union__region_name__tfidf__max_df=0.5, union__region_name__tfidf__ngram_range=(1, 1), union__tweet_text__tfidf__max_df=0.25, union__tweet_text__tfidf__ngram_range=(1, 1), score=0.8848920863309353, total=   0.4s\n",
      "[CV] clf__estimator__C=0.1, clf__estimator__class_weight=None, union__hour__tfidf__max_df=0.5, union__hour__tfidf__ngram_range=(1, 1), union__region_name__tfidf__max_df=0.5, union__region_name__tfidf__ngram_range=(1, 1), union__tweet_text__tfidf__max_df=0.25, union__tweet_text__tfidf__ngram_range=(1, 1) \n",
      "[CV]  clf__estimator__C=0.1, clf__estimator__class_weight=None, union__hour__tfidf__max_df=0.5, union__hour__tfidf__ngram_range=(1, 1), union__region_name__tfidf__max_df=0.5, union__region_name__tfidf__ngram_range=(1, 1), union__tweet_text__tfidf__max_df=0.25, union__tweet_text__tfidf__ngram_range=(1, 1), score=0.8676470588235294, total=   0.4s\n",
      "[CV] clf__estimator__C=0.1, clf__estimator__class_weight=None, union__hour__tfidf__max_df=0.5, union__hour__tfidf__ngram_range=(1, 1), union__region_name__tfidf__max_df=0.5, union__region_name__tfidf__ngram_range=(1, 1), union__tweet_text__tfidf__max_df=0.5, union__tweet_text__tfidf__ngram_range=(1, 1) \n",
      "[CV]  clf__estimator__C=0.1, clf__estimator__class_weight=None, union__hour__tfidf__max_df=0.5, union__hour__tfidf__ngram_range=(1, 1), union__region_name__tfidf__max_df=0.5, union__region_name__tfidf__ngram_range=(1, 1), union__tweet_text__tfidf__max_df=0.5, union__tweet_text__tfidf__ngram_range=(1, 1), score=0.6530612244897959, total=   0.4s\n",
      "[CV] clf__estimator__C=0.1, clf__estimator__class_weight=None, union__hour__tfidf__max_df=0.5, union__hour__tfidf__ngram_range=(1, 1), union__region_name__tfidf__max_df=0.5, union__region_name__tfidf__ngram_range=(1, 1), union__tweet_text__tfidf__max_df=0.5, union__tweet_text__tfidf__ngram_range=(1, 1) \n",
      "[CV]  clf__estimator__C=0.1, clf__estimator__class_weight=None, union__hour__tfidf__max_df=0.5, union__hour__tfidf__ngram_range=(1, 1), union__region_name__tfidf__max_df=0.5, union__region_name__tfidf__ngram_range=(1, 1), union__tweet_text__tfidf__max_df=0.5, union__tweet_text__tfidf__ngram_range=(1, 1), score=0.7791798107255521, total=   0.4s\n",
      "[CV] clf__estimator__C=0.1, clf__estimator__class_weight=None, union__hour__tfidf__max_df=0.5, union__hour__tfidf__ngram_range=(1, 1), union__region_name__tfidf__max_df=0.5, union__region_name__tfidf__ngram_range=(1, 1), union__tweet_text__tfidf__max_df=0.5, union__tweet_text__tfidf__ngram_range=(1, 1) \n",
      "[CV]  clf__estimator__C=0.1, clf__estimator__class_weight=None, union__hour__tfidf__max_df=0.5, union__hour__tfidf__ngram_range=(1, 1), union__region_name__tfidf__max_df=0.5, union__region_name__tfidf__ngram_range=(1, 1), union__tweet_text__tfidf__max_df=0.5, union__tweet_text__tfidf__ngram_range=(1, 1), score=0.8395904436860068, total=   0.4s\n",
      "[CV] clf__estimator__C=0.1, clf__estimator__class_weight=None, union__hour__tfidf__max_df=0.5, union__hour__tfidf__ngram_range=(1, 1), union__region_name__tfidf__max_df=0.5, union__region_name__tfidf__ngram_range=(1, 1), union__tweet_text__tfidf__max_df=0.5, union__tweet_text__tfidf__ngram_range=(1, 1) \n",
      "[CV]  clf__estimator__C=0.1, clf__estimator__class_weight=None, union__hour__tfidf__max_df=0.5, union__hour__tfidf__ngram_range=(1, 1), union__region_name__tfidf__max_df=0.5, union__region_name__tfidf__ngram_range=(1, 1), union__tweet_text__tfidf__max_df=0.5, union__tweet_text__tfidf__ngram_range=(1, 1), score=0.8812949640287769, total=   0.4s\n",
      "[CV] clf__estimator__C=0.1, clf__estimator__class_weight=None, union__hour__tfidf__max_df=0.5, union__hour__tfidf__ngram_range=(1, 1), union__region_name__tfidf__max_df=0.5, union__region_name__tfidf__ngram_range=(1, 1), union__tweet_text__tfidf__max_df=0.5, union__tweet_text__tfidf__ngram_range=(1, 1) \n",
      "[CV]  clf__estimator__C=0.1, clf__estimator__class_weight=None, union__hour__tfidf__max_df=0.5, union__hour__tfidf__ngram_range=(1, 1), union__region_name__tfidf__max_df=0.5, union__region_name__tfidf__ngram_range=(1, 1), union__tweet_text__tfidf__max_df=0.5, union__tweet_text__tfidf__ngram_range=(1, 1), score=0.8676470588235294, total=   0.4s\n"
     ]
    },
    {
     "name": "stderr",
     "output_type": "stream",
     "text": [
      "[Parallel(n_jobs=1)]: Done 160 out of 160 | elapsed:  1.5min finished\n"
     ]
    },
    {
     "name": "stdout",
     "output_type": "stream",
     "text": [
      "####Step 2, grid_search_feature_union\n",
      "\n",
      "Best parameters set:\n",
      "[('hour_region_name_tweet_text', keyExtractor()), ('union', FeatureUnion(n_jobs=1,\n",
      "       transformer_list=[('tweet_text', Pipeline(memory=None,\n",
      "     steps=[('selector', ItemSelector(key='tweet_text')), ('tfidf', TfidfVectorizer(analyzer='word', binary=False, decode_error='strict',\n",
      "        dtype=<class 'numpy.int64'>, encoding='utf-8', input='content',\n",
      "        lowercase=True, max_df=0.5,...      token_pattern='(?u)\\\\b\\\\w\\\\w+\\\\b', tokenizer=None, use_idf=True,\n",
      "        vocabulary=None))]))],\n",
      "       transformer_weights={'tweet_text': 0.9, 'tweet_text_stats': 0.01, 'region_name': 0.25, 'hour': 0.25})), ('clf', OneVsRestClassifier(estimator=LinearSVC(C=0.1, class_weight='balanced', dual=True, fit_intercept=True,\n",
      "     intercept_scaling=1, loss='squared_hinge', max_iter=1000,\n",
      "     multi_class='ovr', penalty='l2', random_state=None, tol=0.0001,\n",
      "     verbose=0),\n",
      "          n_jobs=10))]\n",
      "\n",
      "Applying best classifier on test data:\n",
      "################ test_y[0] 0, 0, 0, 0, 0, 0, 0, 0, 0, 0, 0, 0, 0, 0, 0, 0, 0, 0, 0, 0, 0, 1 predictions[0] 0, 0, 0, 0, 0, 0, 0, 0, 0, 0, 0, 0, 0, 0, 0, 0, 0, 0, 0, 0, 0, 1\n",
      "             precision    recall  f1-score   support\n",
      "\n",
      "     family       0.96      1.00      0.98       102\n",
      "    shelter       0.65      0.92      0.76        48\n",
      "  volunteer       0.00      0.00      0.00         1\n",
      "   donation       0.91      0.91      0.91        23\n",
      "    service       0.00      0.00      0.00         1\n",
      "      store       0.63      0.98      0.77        41\n",
      "       food       0.00      0.00      0.00         3\n",
      "     rescue       0.57      0.93      0.71        29\n",
      "  community       1.00      0.12      0.22         8\n",
      "      flood       0.00      0.00      0.00         1\n",
      "       call       0.00      0.00      0.00         6\n",
      "     school       0.50      1.00      0.67         5\n",
      "      nurse       1.00      0.75      0.86         8\n",
      "       home       0.74      1.00      0.85        31\n",
      "     donate       0.00      0.00      0.00         1\n",
      "       safe       0.00      0.00      0.00         1\n",
      "     relief       0.75      0.92      0.83        13\n",
      "       need       0.00      0.00      0.00         3\n",
      "     people       0.00      0.00      0.00         2\n",
      "    support       0.00      0.00      0.00         1\n",
      "       help       0.00      0.00      0.00         1\n",
      "      water       0.00      0.00      0.00         1\n",
      "\n",
      "avg / total       0.72      0.81      0.75       765\n",
      "\n",
      "The model accuracy:  0.8052287581699347\n"
     ]
    },
    {
     "name": "stderr",
     "output_type": "stream",
     "text": [
      "/Users/habugell/anaconda2/envs/py36/lib/python3.6/site-packages/sklearn/metrics/classification.py:1428: UserWarning: labels size, 109, does not match size of target_names, 22\n",
      "  .format(len(labels), len(target_names))\n",
      "/Users/habugell/anaconda2/envs/py36/lib/python3.6/site-packages/sklearn/metrics/classification.py:1135: UndefinedMetricWarning: Precision and F-score are ill-defined and being set to 0.0 in labels with no predicted samples.\n",
      "  'precision', 'predicted', average, warn_for)\n",
      "/Users/habugell/anaconda2/envs/py36/lib/python3.6/site-packages/sklearn/metrics/classification.py:1137: UndefinedMetricWarning: Recall and F-score are ill-defined and being set to 0.0 in labels with no true samples.\n",
      "  'recall', 'true', average, warn_for)\n"
     ]
    }
   ],
   "source": [
    "print('OneVsAll')\n",
    "#this takes a couple of minutes\n",
    "def grid_search_feature_union(train_x, train_y, test_x, test_y, genres, parameters, pipeline):\n",
    "    print('####start, grid_search_feature_union')\n",
    "#     grid_search_tune = GridSearchCV(pipeline, parameters, cv=2, n_jobs=3, verbose=10)\n",
    "    #use k-folds for cross-validation\n",
    "#     grid_search_tune = GridSearchCV(pipeline, parameters, cv=5, n_jobs=3, verbose=2)\n",
    "#     grid_search_tune = GridSearchCV(pipeline, parameters, cv=5, n_jobs=10, verbose=10)\n",
    "    grid_search_tune = GridSearchCV(pipeline, parameters, cv=5, n_jobs=1, verbose=10)\n",
    "\n",
    "\n",
    "\n",
    "    print('####Step 1, grid_search_feature_union')\n",
    "\n",
    "    grid_search_tune.fit(train_x, train_y)\n",
    "    print('####Step 2, grid_search_feature_union')\n",
    "\n",
    "\n",
    "    print()\n",
    "    print(\"Best parameters set:\")\n",
    "    print(grid_search_tune.best_estimator_.steps)\n",
    "    print()\n",
    "\n",
    "    # measuring performance on test set\n",
    "    print(\"Applying best classifier on test data:\")\n",
    "    best_clf = grid_search_tune.best_estimator_\n",
    "    predictions = best_clf.predict(test_x)\n",
    "\n",
    "    print('################ test_y[0]', test_y[0], 'predictions[0]', predictions[0])\n",
    "    print(classification_report(test_y, predictions, target_names=genres))\n",
    "    # Get the model accuracy\n",
    "    print('The model accuracy: ', accuracy_score(test_y, predictions))\n",
    "    \n",
    "    return grid_search_tune, best_clf, predictions\n",
    "\n",
    "\n",
    "parameters = {\n",
    "    #hour, region_name, tweet_text\n",
    "#     'union__tweet_text__tfidf__max_df': (0.25, 0.5, 0.75),\n",
    "#     'union__tweet_text__tfidf__min_df': (2, 3),\n",
    "    'union__tweet_text__tfidf__max_df': (0.25, 0.5),\n",
    "#     'union__tweet_text__tfidf__ngram_range': [(1, 1), (1, 2), (1, 3)],\n",
    "    'union__tweet_text__tfidf__ngram_range': [(1, 1)],\n",
    "\n",
    "\n",
    "#     'union__region_name__tfidf__min_df': (2, 3),\n",
    "    'union__region_name__tfidf__max_df': (0.25, 0.5),\n",
    "    'union__region_name__tfidf__ngram_range': [(1, 1)],\n",
    "\n",
    "#     'union__hour__tfidf__min_df': (2, 3),\n",
    "    'union__hour__tfidf__max_df': (0.25, 0.5),\n",
    "    'union__hour__tfidf__ngram_range': [(1, 1)],\n",
    "\n",
    "\n",
    "\n",
    "#     'clf__C': [0.1, 1, 10, 100],\n",
    "    \"clf__estimator__C\": [0.01, 0.1],\n",
    "    \"clf__estimator__class_weight\": ['balanced', None], \n",
    "    #None\n",
    "#     \"clf__estimator__class_weight\": [None, None], \n",
    "\n",
    "    #clf__estimator__max_iter\n",
    "    \n",
    "     }\n",
    "\n",
    "grid, best_clf, predictions = grid_search_feature_union(train_x, y_train, test_x, y_test, genres, parameters, pipeline_feature_union)"
   ]
  },
  {
   "cell_type": "code",
   "execution_count": 673,
   "metadata": {},
   "outputs": [],
   "source": [
    "# pipeline_feature_union"
   ]
  },
  {
   "cell_type": "code",
   "execution_count": 674,
   "metadata": {},
   "outputs": [
    {
     "name": "stdout",
     "output_type": "stream",
     "text": [
      "y_train 1552\n",
      "y_test 765\n"
     ]
    }
   ],
   "source": [
    "print('y_train', len(y_train))\n",
    "\n",
    "print('y_test', len(y_test))\n",
    "\n"
   ]
  },
  {
   "cell_type": "code",
   "execution_count": 675,
   "metadata": {},
   "outputs": [],
   "source": [
    "# from sklearn.metrics import multilabel_confusion_matrix\n",
    "# multilabel_confusion_matrix(y_test, predictions, labels=genres)\n"
   ]
  },
  {
   "cell_type": "code",
   "execution_count": 676,
   "metadata": {},
   "outputs": [
    {
     "name": "stdout",
     "output_type": "stream",
     "text": [
      "             precision    recall  f1-score   support\n",
      "\n",
      "     family       0.96      1.00      0.98       102\n",
      "    shelter       0.65      0.92      0.76        48\n",
      "  volunteer       0.00      0.00      0.00         1\n",
      "   donation       0.91      0.91      0.91        23\n",
      "    service       0.00      0.00      0.00         1\n",
      "      store       0.63      0.98      0.77        41\n",
      "       food       0.00      0.00      0.00         3\n",
      "     rescue       0.57      0.93      0.71        29\n",
      "  community       1.00      0.12      0.22         8\n",
      "      flood       0.00      0.00      0.00         1\n",
      "       call       0.00      0.00      0.00         6\n",
      "     school       0.50      1.00      0.67         5\n",
      "      nurse       1.00      0.75      0.86         8\n",
      "       home       0.74      1.00      0.85        31\n",
      "     donate       0.00      0.00      0.00         1\n",
      "       safe       0.00      0.00      0.00         1\n",
      "     relief       0.75      0.92      0.83        13\n",
      "       need       0.00      0.00      0.00         3\n",
      "     people       0.00      0.00      0.00         2\n",
      "    support       0.00      0.00      0.00         1\n",
      "       help       0.00      0.00      0.00         1\n",
      "      water       0.00      0.00      0.00         1\n",
      "\n",
      "avg / total       0.72      0.81      0.75       765\n",
      "\n"
     ]
    }
   ],
   "source": [
    "print(classification_report(y_test, predictions, target_names=genres))"
   ]
  },
  {
   "cell_type": "code",
   "execution_count": 677,
   "metadata": {},
   "outputs": [
    {
     "data": {
      "text/plain": [
       "0.8052287581699347"
      ]
     },
     "execution_count": 677,
     "metadata": {},
     "output_type": "execute_result"
    }
   ],
   "source": [
    "# Get the model accuracy\n",
    "accuracy_score(y_test, predictions)"
   ]
  }
 ],
 "metadata": {
  "kernelspec": {
   "display_name": "Python 3",
   "language": "python",
   "name": "python3"
  },
  "language_info": {
   "codemirror_mode": {
    "name": "ipython",
    "version": 3
   },
   "file_extension": ".py",
   "mimetype": "text/x-python",
   "name": "python",
   "nbconvert_exporter": "python",
   "pygments_lexer": "ipython3",
   "version": "3.6.8"
  }
 },
 "nbformat": 4,
 "nbformat_minor": 2
}
